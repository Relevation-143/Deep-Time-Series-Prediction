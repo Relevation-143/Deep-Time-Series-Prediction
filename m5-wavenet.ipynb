{
 "cells": [
  {
   "cell_type": "code",
   "execution_count": 1,
   "metadata": {},
   "outputs": [],
   "source": [
    "import os\n",
    "import gc\n",
    "import warnings\n",
    "\n",
    "import pandas as pd\n",
    "from pandas.plotting import register_matplotlib_converters\n",
    "import numpy as np\n",
    "import matplotlib.pyplot as plt\n",
    "import seaborn as sns\n",
    "import lightgbm as lgb\n",
    "from sklearn.metrics import mean_squared_error\n",
    "from sklearn.preprocessing import LabelEncoder\n",
    "import seaborn as sns\n",
    "from  datetime import datetime, timedelta\n",
    "import gc\n",
    "import numpy as np, pandas as pd\n",
    "import lightgbm as lgb\n",
    "import scipy as sp\n",
    "%matplotlib inline\n",
    "\n",
    "import torch\n",
    "from torch.optim import Adam\n",
    "# from torch.nn import MSELoss\n",
    "from deepseries.nn.loss import MSELoss, RMSELoss\n",
    "\n",
    "from deepseries.models import WaveNet\n",
    "from deepseries.train import Learner\n",
    "from deepseries.dataset import TimeSeries, Property, Seq2SeqDataLoader\n",
    "from deepseries.optim import ReduceCosineAnnealingLR"
   ]
  },
  {
   "cell_type": "code",
   "execution_count": 2,
   "metadata": {},
   "outputs": [],
   "source": [
    "DIR = \"./data\"\n",
    "N_ROWS = None\n",
    "BATCH_SIZE = 32\n",
    "\n",
    "\n",
    "LAGS = [365]\n",
    "MAX_LAGS = max(LAGS)\n",
    "DROP_BEFORE = 500\n",
    "\n",
    "\n",
    "ENC_LEN = 365 * 2 + 1\n",
    "DEC_LEN = 28\n",
    "\n",
    "VALID_LEN = 28\n",
    "TEST_LEN = 28\n",
    "\n",
    "TRAIN_LAST_DAY = 1913\n",
    "USE_SERIES_LEN = TRAIN_LAST_DAY - DROP_BEFORE + 1 + 28\n",
    "\n",
    "CAL_DTYPES={\"event_name_1\": \"category\", \"event_name_2\": \"category\", \"event_type_1\": \"category\", \n",
    "         \"event_type_2\": \"category\", \"weekday\": \"category\", 'wm_yr_wk': 'int16', \"wday\": \"int16\",\n",
    "        \"month\": \"int16\", \"year\": \"int16\", \"snap_CA\": \"int16\", 'snap_TX': 'int16', 'snap_WI': 'int16' }\n",
    "PRICE_DTYPES = {\"store_id\": \"category\", \"item_id\": \"category\", \"wm_yr_wk\": \"int16\",\"sell_price\":\"float32\" }\n",
    "\n",
    "# FIRST_DAY = datetime(2011, 1, 29) \n",
    "# FORECAST_DAY = datetime(2016,4, 25) "
   ]
  },
  {
   "cell_type": "code",
   "execution_count": 3,
   "metadata": {},
   "outputs": [],
   "source": [
    "def load_data():\n",
    "    label_encoders = {}\n",
    "    \n",
    "    prices = pd.read_csv(os.path.join(DIR, \"sell_prices.csv\"), dtype = PRICE_DTYPES)\n",
    "    for col, col_dtype in PRICE_DTYPES.items():\n",
    "        if col_dtype == \"category\":\n",
    "            if col not in label_encoders:\n",
    "                label_encoders[col] = LabelEncoder().fit(prices[col].astype(str).fillna(\"None\"))\n",
    "            prices[col] = label_encoders[col].transform(prices[col].astype(str).fillna(\"None\")).astype(\"int16\")\n",
    "    \n",
    "    cal = pd.read_csv(os.path.join(DIR, \"calendar.csv\"), dtype = CAL_DTYPES)\n",
    "    cal[\"date\"] = pd.to_datetime(cal[\"date\"])\n",
    "    for col, col_dtype in CAL_DTYPES.items():\n",
    "        if col_dtype == \"category\":\n",
    "            if col not in label_encoders:\n",
    "                label_encoders[col] = LabelEncoder().fit(cal[col].astype(str).fillna(\"None\"))\n",
    "            cal[col] = label_encoders[col].transform(cal[col].astype(str).fillna(\"None\")).astype(\"int16\")\n",
    "    \n",
    "    start_day = max(1, DROP_BEFORE-MAX_LAGS)\n",
    "    numcols = [f\"d_{day}\" for day in range(start_day, TRAIN_LAST_DAY+1)]\n",
    "    catcols = ['id', 'item_id', 'dept_id','store_id', 'cat_id', 'state_id']\n",
    "    dtype = {numcol:\"float32\" for numcol in numcols} \n",
    "    dtype.update({col: \"category\" for col in catcols if col != \"id\"})\n",
    "    dt = pd.read_csv(os.path.join(DIR, \"sales_train_validation.csv\"), \n",
    "                     usecols = catcols + numcols, dtype = dtype, nrows=N_ROWS)\n",
    "    \n",
    "    for col in catcols:\n",
    "        if col != \"id\":\n",
    "            if col not in label_encoders:\n",
    "                label_encoders[col] = LabelEncoder().fit(dt[col].astype(str).fillna(\"None\"))\n",
    "            dt[col] = label_encoders[col].transform(dt[col].astype(str).fillna(\"None\")).astype(\"int16\")\n",
    "\n",
    "    for day in range(TRAIN_LAST_DAY+1, TRAIN_LAST_DAY+28+1):\n",
    "        dt[f\"d_{day}\"] = np.nan\n",
    "    \n",
    "    product = dt[catcols].copy()\n",
    "    print(f\"product shape {product.shape}\")\n",
    "\n",
    "    dt = pd.melt(dt,\n",
    "                  id_vars = catcols,\n",
    "                  value_vars = [col for col in dt.columns if col.startswith(\"d_\")],\n",
    "                  var_name = \"d\",\n",
    "                  value_name = \"sales\")\n",
    "\n",
    "    dt = dt.merge(cal[['d', 'wm_yr_wk']], on= \"d\", copy = False)\n",
    "    dt = dt.merge(prices, on = [\"store_id\", \"item_id\", \"wm_yr_wk\"], copy = False)\n",
    "    dt['d'] = dt['d'].str.replace('d_', '').astype(\"int32\")\n",
    "    price = dt.pivot(index=\"id\", columns=\"d\", values=\"sell_price\")\n",
    "    xy = dt.pivot(index=\"id\", columns=\"d\", values=\"sales\")\n",
    "    del dt; gc.collect()\n",
    "    print(f\"sale_xy shape {xy.shape}\")\n",
    "    print(f\"price shape {price.shape}\")\n",
    "\n",
    "    cal_use_col = ['date', 'wday', 'month', 'year', 'event_name_1',\n",
    "    'event_type_1', 'event_name_2', 'event_type_2', 'snap_CA', 'snap_TX',\n",
    "    'snap_WI']\n",
    "    cal = cal[cal_use_col]\n",
    "    cal['year'] = cal['year'] - cal['year'].min()\n",
    "    cal['quarter'] = cal.date.dt.quarter\n",
    "    cal = cal.drop(\"date\", axis=1).T\n",
    "    cal = cal[xy.columns]\n",
    "    print(f\"calendar shape {cal.shape}\")\n",
    "    \n",
    "    submission = pd.read_csv(os.path.join(DIR, \"sample_submission.csv\"))\n",
    "    print(f\"submisson shape {submission.shape}\")\n",
    "    return xy, price, cal, product, submission"
   ]
  },
  {
   "cell_type": "code",
   "execution_count": 4,
   "metadata": {},
   "outputs": [
    {
     "name": "stdout",
     "output_type": "stream",
     "text": [
      "product shape (30490, 6)\n",
      "sale_xy shape (30490, 1807)\n",
      "price shape (30490, 1807)\n",
      "calendar shape (11, 1807)\n",
      "submisson shape (60980, 29)\n"
     ]
    }
   ],
   "source": [
    "df_xy, df_price, df_calendar, df_product, df_sub = load_data()"
   ]
  },
  {
   "cell_type": "markdown",
   "metadata": {},
   "source": [
    "## 缺失数据"
   ]
  },
  {
   "cell_type": "code",
   "execution_count": 5,
   "metadata": {},
   "outputs": [
    {
     "data": {
      "image/png": "[encoded data removed]",
      "text/plain": [
       "<Figure size 1440x1440 with 4 Axes>"
      ]
     },
     "metadata": {
      "needs_background": "light"
     },
     "output_type": "display_data"
    }
   ],
   "source": [
    "plt.figure(figsize=(20,20))\n",
    "\n",
    "for i in range(1, 5):\n",
    "    plt.subplot(int(f'14{i}'))\n",
    "    plt.imshow(df_xy.isnull().values.astype(int)[i * 1000: (i+1)*1000])\n",
    "    plt.title(f\"id {i * 1000} - {(i+1) * 1000} sale nan values\")"
   ]
  },
  {
   "cell_type": "code",
   "execution_count": 6,
   "metadata": {},
   "outputs": [],
   "source": [
    "id_not_sell = df_xy.isnull().values.astype(int)\n",
    "id_not_sell[:, -28:] = 0"
   ]
  },
  {
   "cell_type": "code",
   "execution_count": 7,
   "metadata": {},
   "outputs": [
    {
     "data": {
      "text/plain": [
       "Text(0.5, 1.0, 'each series num of nan')"
      ]
     },
     "execution_count": 7,
     "metadata": {},
     "output_type": "execute_result"
    },
    {
     "data": {
      "image/png": "[encoded data removed]",
      "text/plain": [
       "<Figure size 432x288 with 1 Axes>"
      ]
     },
     "metadata": {
      "needs_background": "light"
     },
     "output_type": "display_data"
    }
   ],
   "source": [
    "plt.plot(np.sort(id_not_sell.sum(axis=1)))\n",
    "plt.title(\"each series num of nan\")"
   ]
  },
  {
   "cell_type": "code",
   "execution_count": 8,
   "metadata": {},
   "outputs": [
    {
     "data": {
      "text/plain": [
       "count    30490.000000\n",
       "mean       330.260348\n",
       "std        426.946135\n",
       "min          0.000000\n",
       "25%          0.000000\n",
       "50%         20.000000\n",
       "75%        629.000000\n",
       "max       1707.000000\n",
       "dtype: float64"
      ]
     },
     "execution_count": 8,
     "metadata": {},
     "output_type": "execute_result"
    }
   ],
   "source": [
    "pd.Series(id_not_sell.sum(axis=1)).describe()"
   ]
  },
  {
   "cell_type": "markdown",
   "metadata": {},
   "source": [
    "没有销售，同样没有价格"
   ]
  },
  {
   "cell_type": "code",
   "execution_count": 9,
   "metadata": {},
   "outputs": [
    {
     "data": {
      "image/png": "[encoded data removed]",
      "text/plain": [
       "<Figure size 1440x1440 with 4 Axes>"
      ]
     },
     "metadata": {
      "needs_background": "light"
     },
     "output_type": "display_data"
    }
   ],
   "source": [
    "plt.figure(figsize=(20,20))\n",
    "\n",
    "for i in range(1, 5):\n",
    "    plt.subplot(int(f'14{i}'))\n",
    "    plt.imshow(df_price.isnull().values.astype(int)[i * 1000: (i+1)*1000])\n",
    "    plt.title(f\"id {i * 1000} - {(i+1) * 1000} price nan values\")"
   ]
  },
  {
   "cell_type": "markdown",
   "metadata": {},
   "source": [
    "## 数据处理\n",
    "- log1p\n",
    "- 序列状态\n",
    "- 序列统计指标\n",
    "- 序列标准化\n",
    "\n",
    "## 特征\n",
    "\n",
    "### 时间序列状态\n",
    "- 11_price\n",
    "- 11_calendar\n",
    "- 11_is_sell: 是否销售\n",
    "- 10_is_zero: 是否为0销售\n",
    "- 10_continue_zero: 为0第N天\n",
    "- 10_lag_N：前N天销量\n",
    "- 10_lag_M_rolling_N_mean/std: 窗口统计\n",
    "- 品类销量\n",
    "- 日期类\n",
    "\n",
    "### 序列统计\n",
    "- id 均值/中位数/偏度/峰度/分位数\n",
    "- 365/90/30 自相关系数\n",
    "- 品类下的日销排名/波动排名\n",
    "- 品类下的价格排名\n",
    "\n",
    "\n",
    "### Tips\n",
    "- 特征标记{1,0}{1,0}{1,0}{1,0}\n",
    "- #1 1 if use in encoder else 0\n",
    "- #2 1 if use in decoder else 0\n",
    "- #3 series(1), property(0)\n",
    "- #4 num(1), categorical(0)"
   ]
  },
  {
   "cell_type": "code",
   "execution_count": 10,
   "metadata": {
    "scrolled": true
   },
   "outputs": [
    {
     "name": "stderr",
     "output_type": "stream",
     "text": [
      "/home/zhouzr/anaconda3/envs/pytorch_1.3/lib/python3.7/site-packages/ipykernel_launcher.py:2: RuntimeWarning: invalid value encountered in log1p\n",
      "  \n",
      "/home/zhouzr/anaconda3/envs/pytorch_1.3/lib/python3.7/site-packages/ipykernel_launcher.py:3: RuntimeWarning: invalid value encountered in log1p\n",
      "  This is separate from the ipykernel package so we can avoid doing imports until\n"
     ]
    }
   ],
   "source": [
    "# series\n",
    "xy = np.log1p(df_xy.values)\n",
    "price = np.log1p(df_price.values)"
   ]
  },
  {
   "cell_type": "code",
   "execution_count": 11,
   "metadata": {},
   "outputs": [],
   "source": [
    "# series state\n",
    "xy_nan = np.isnan(xy).astype(\"float32\")\n",
    "xy_zero = (xy == 0).astype(\"float32\")"
   ]
  },
  {
   "cell_type": "code",
   "execution_count": 12,
   "metadata": {},
   "outputs": [],
   "source": [
    "# series statistics\n",
    "\n",
    "xy_valid_masked = np.ma.masked_array(xy, mask=xy_nan.astype(bool))\n",
    "\n",
    "xy_mean = xy_valid_masked.mean(axis=1).data\n",
    "xy_std = xy_valid_masked.std(axis=1).data\n",
    "xy_skew = sp.stats.mstats.skew(xy_valid_masked, axis=1).data\n",
    "xy_kurt = np.clip(sp.stats.mstats.kurtosis(xy_valid_masked, axis=1).data, None, 10)"
   ]
  },
  {
   "cell_type": "code",
   "execution_count": 13,
   "metadata": {},
   "outputs": [],
   "source": [
    "# series normalization\n",
    "\n",
    "xy = np.nan_to_num((xy - np.expand_dims(xy_mean, 1)) / (np.expand_dims(xy_std, 1) + 1e-6), 0.).astype(\"float32\")"
   ]
  },
  {
   "cell_type": "code",
   "execution_count": 14,
   "metadata": {
    "scrolled": true
   },
   "outputs": [
    {
     "data": {
      "text/plain": [
       "18392"
      ]
     },
     "execution_count": 14,
     "metadata": {},
     "output_type": "execute_result"
    }
   ],
   "source": [
    "# series statistic features\n",
    "\n",
    "xy_mean_mean = xy_mean.mean()\n",
    "xy_mean_std = xy_mean.std()\n",
    "xy_std_mean = xy_std.mean()\n",
    "xy_std_std = xy_std.std()\n",
    "xy_skew_mean = xy_skew.mean()\n",
    "xy_skew_std = xy_skew.std()\n",
    "xy_kurt_mean = xy_kurt.mean()\n",
    "xy_kurt_std = xy_kurt.std()\n",
    "\n",
    "f1101_xy_mean = (xy_mean - xy_mean_mean) / xy_mean_std\n",
    "f1101_xy_std = (xy_std - xy_std_mean) / xy_std_std\n",
    "f1101_xy_skew = (xy_skew - xy_skew_mean) / xy_skew_std\n",
    "f1101_xy_kurt = (xy_kurt - xy_kurt_mean) / xy_kurt_std\n",
    "\n",
    "f1101_xy_statistic = np.stack([f1101_xy_mean, f1101_xy_std, f1101_xy_skew, f1101_xy_kurt], \n",
    "                              axis=1).astype(\"float32\")\n",
    "f1011_xy_stats = np.stack([xy_nan, xy_zero], axis=1).astype(\"float32\")[:, :, MAX_LAGS:]\n",
    "\n",
    "del f1101_xy_mean; del f1101_xy_std; del f1101_xy_skew; del f1101_xy_kurt; gc.collect()"
   ]
  },
  {
   "cell_type": "code",
   "execution_count": 15,
   "metadata": {},
   "outputs": [],
   "source": [
    "# series lags\n",
    "\n",
    "def create_lags(xy, n_lags):\n",
    "    r = []\n",
    "    for l in n_lags:\n",
    "        lag = np.zeros_like(xy)\n",
    "        lag[:, l:] = xy[:, :-l] * 0.5\n",
    "        lag[:, l+1:] = xy[:, :-l-1] * 0.25\n",
    "        lag[:, l-1:] = xy[:, :-l+1] * 0.25\n",
    "        r.append(lag)\n",
    "    return np.stack(r, axis=1)\n",
    "\n",
    "f1111_xy_lags = create_lags(xy, LAGS)[:, :, MAX_LAGS:].astype(\"float32\")"
   ]
  },
  {
   "cell_type": "code",
   "execution_count": 16,
   "metadata": {},
   "outputs": [],
   "source": [
    "# series categorical\n",
    "\n",
    "f1100_xy_cate = df_product.set_index(\"id\").values.astype(\"int64\")"
   ]
  },
  {
   "cell_type": "code",
   "execution_count": 17,
   "metadata": {},
   "outputs": [],
   "source": [
    "# series drop nan lag\n",
    "\n",
    "xy = np.expand_dims(xy, 1)[:, :, MAX_LAGS:]"
   ]
  },
  {
   "cell_type": "code",
   "execution_count": 18,
   "metadata": {},
   "outputs": [],
   "source": [
    "# calendar feature\n",
    "\n",
    "def periodic_feature(x, T):\n",
    "    psin = np.sin(x * np.pi * 2 / T)\n",
    "    pcos = np.cos(x * np.pi * 2 / T)\n",
    "    return np.stack([psin, pcos], axis=0)\n",
    "\n",
    "f1111_date = np.concatenate([\n",
    "    periodic_feature(df_calendar.T['wday'].values, 7),\n",
    "    periodic_feature(df_calendar.T['month'].values, 12),\n",
    "    periodic_feature(df_calendar.T['quarter'].values, 4),\n",
    "    df_calendar.T[['snap_CA', 'snap_TX', 'snap_WI']].values.T\n",
    "])\n",
    "f1111_date = np.expand_dims(f1111_date, 0)[:, :, MAX_LAGS:]\n",
    "\n",
    "\n",
    "f1110_event = np.expand_dims(\n",
    "    df_calendar.T[['event_name_1', 'event_type_1', 'event_name_2', 'event_type_2']].T.values, 0)[:, :, MAX_LAGS:]"
   ]
  },
  {
   "cell_type": "code",
   "execution_count": 19,
   "metadata": {},
   "outputs": [],
   "source": [
    "class ForwardSpliter:\n",
    "    \n",
    "    def split(self, time_idx, enc_len, dec_len, valid_size):\n",
    "        if valid_size < 1:\n",
    "            valid_size = int(np.floor(len(time_idx) * valid_size))\n",
    "        valid_idx = time_idx[-(valid_size+enc_len+dec_len):]\n",
    "        train_idx = time_idx[:-valid_size]\n",
    "        return train_idx, valid_idx"
   ]
  },
  {
   "cell_type": "code",
   "execution_count": 20,
   "metadata": {},
   "outputs": [],
   "source": [
    "spliter = ForwardSpliter()\n",
    "\n",
    "train_idx, valid_idx = spliter.split(np.arange(xy.shape[2]), ENC_LEN, DEC_LEN, VALID_LEN+TEST_LEN)\n",
    "valid_idx, test_idx = spliter.split(valid_idx, ENC_LEN, DEC_LEN, TEST_LEN)"
   ]
  },
  {
   "cell_type": "code",
   "execution_count": 21,
   "metadata": {},
   "outputs": [],
   "source": [
    "train_f1011_xy_stats = TimeSeries(f1011_xy_stats[:, :, train_idx])\n",
    "valid_f1011_xy_stats = TimeSeries(f1011_xy_stats[:, :, valid_idx])\n",
    "test_f1011_xy_stats = TimeSeries(f1011_xy_stats[:, :, test_idx])\n",
    "\n",
    "train_f1101_xy_statistic = Property(f1101_xy_statistic)\n",
    "valid_f1101_xy_statistic = Property(f1101_xy_statistic)\n",
    "test_f1101_xy_statistic = Property(f1101_xy_statistic)\n",
    "\n",
    "train_f1111_xy_lags = TimeSeries(f1111_xy_lags[:, :, train_idx])\n",
    "valid_f1111_xy_lags = TimeSeries(f1111_xy_lags[:, :, valid_idx])\n",
    "test_f1111_xy_lags = TimeSeries(f1111_xy_lags[:, :, test_idx])\n",
    "\n",
    "train_f1100_xy_cate = Property(f1100_xy_cate)\n",
    "valid_f1100_xy_cate = Property(f1100_xy_cate)\n",
    "test_f1100_xy_cate = Property(f1100_xy_cate)\n",
    "\n",
    "train_f1110_event = TimeSeries(f1110_event[:, :, train_idx], idx_map=np.zeros_like(np.arange(df_xy.shape[0])))\n",
    "valid_f1110_event = TimeSeries(f1110_event[:, :, valid_idx], idx_map=np.zeros_like(np.arange(df_xy.shape[0])))\n",
    "test_f1110_event = TimeSeries(f1110_event[:, :, test_idx], idx_map=np.zeros_like(np.arange(df_xy.shape[0])))\n",
    "\n",
    "train_f1111_date = TimeSeries(f1111_date[:, :, train_idx], idx_map=np.zeros_like(np.arange(df_xy.shape[0])))\n",
    "valid_f1111_date = TimeSeries(f1111_date[:, :, valid_idx], idx_map=np.zeros_like(np.arange(df_xy.shape[0])))\n",
    "test_f1111_date = TimeSeries(f1111_date[:, :, test_idx], idx_map=np.zeros_like(np.arange(df_xy.shape[0])))"
   ]
  },
  {
   "cell_type": "code",
   "execution_count": 22,
   "metadata": {},
   "outputs": [],
   "source": [
    "train_xy = TimeSeries(xy[:, :, train_idx])\n",
    "valid_xy = TimeSeries(xy[:, :, valid_idx])\n",
    "test_xy = TimeSeries(xy[:, :, test_idx])"
   ]
  },
  {
   "cell_type": "code",
   "execution_count": 23,
   "metadata": {},
   "outputs": [],
   "source": [
    "train_dl = Seq2SeqDataLoader(train_xy, \n",
    "                             batch_size=BATCH_SIZE, \n",
    "                             enc_lens=ENC_LEN, \n",
    "                             dec_lens=DEC_LEN, \n",
    "                             use_cuda=True, \n",
    "                             mode='train', \n",
    "                             time_free_space=10,\n",
    "                             enc_num_feats=[train_f1011_xy_stats, train_f1101_xy_statistic, train_f1111_xy_lags, train_f1111_date], \n",
    "                             enc_cat_feats=[train_f1100_xy_cate, train_f1110_event], \n",
    "                             dec_num_feats=[train_f1101_xy_statistic, train_f1111_xy_lags, train_f1111_date], \n",
    "                             dec_cat_feats=[train_f1100_xy_cate, train_f1110_event],)\n",
    "\n",
    "valid_dl = Seq2SeqDataLoader(valid_xy, \n",
    "                             batch_size=BATCH_SIZE, \n",
    "                             enc_lens=ENC_LEN, \n",
    "                             dec_lens=DEC_LEN, \n",
    "                             use_cuda=True, \n",
    "                             mode='valid', \n",
    "                             time_free_space=0,\n",
    "                             enc_num_feats=[valid_f1011_xy_stats, valid_f1101_xy_statistic, valid_f1111_xy_lags, valid_f1111_date], \n",
    "                             enc_cat_feats=[valid_f1100_xy_cate, valid_f1110_event], \n",
    "                             dec_num_feats=[valid_f1101_xy_statistic, valid_f1111_xy_lags, valid_f1111_date],\n",
    "                             dec_cat_feats=[valid_f1100_xy_cate, valid_f1110_event], \n",
    "                              )\n",
    "\n",
    "test_dl = Seq2SeqDataLoader(test_xy, \n",
    "                             batch_size=BATCH_SIZE, \n",
    "                             enc_lens=ENC_LEN, \n",
    "                             dec_lens=DEC_LEN, \n",
    "                             use_cuda=True, \n",
    "                             mode='valid', \n",
    "                             time_free_space=0,\n",
    "                             enc_num_feats=[test_f1011_xy_stats, test_f1101_xy_statistic, test_f1111_xy_lags, test_f1111_date], \n",
    "                             enc_cat_feats=[test_f1100_xy_cate, test_f1110_event], \n",
    "                             dec_num_feats=[test_f1101_xy_statistic, test_f1111_xy_lags, test_f1111_date],\n",
    "                             dec_cat_feats=[test_f1100_xy_cate, test_f1110_event],\n",
    "                      )"
   ]
  },
  {
   "cell_type": "code",
   "execution_count": 24,
   "metadata": {},
   "outputs": [
    {
     "data": {
      "text/plain": [
       "953"
      ]
     },
     "execution_count": 24,
     "metadata": {},
     "output_type": "execute_result"
    }
   ],
   "source": [
    "len(train_dl\n",
    "   )"
   ]
  },
  {
   "cell_type": "code",
   "execution_count": 25,
   "metadata": {
    "scrolled": false
   },
   "outputs": [
    {
     "name": "stderr",
     "output_type": "stream",
     "text": [
      "[[04/19/2020 19:13:27]] start training >>>>>>>>>>>  see log: tensorboard --logdir ./m5/logs\n",
      "[[04/19/2020 19:23:52]] epoch 1 / 400, batch 100%, train loss 0.9103, valid loss 1.0158, cost 10.4 min\n",
      "[[04/19/2020 19:34:03]] epoch 2 / 400, batch 100%, train loss 0.8943, valid loss 1.0142, cost 10.2 min\n",
      "[[04/19/2020 19:44:15]] epoch 3 / 400, batch 100%, train loss 0.8901, valid loss 1.0192, cost 10.2 min\n",
      "[[04/19/2020 19:54:28]] epoch 4 / 400, batch 100%, train loss 0.8898, valid loss 1.0195, cost 10.2 min\n",
      "[[04/19/2020 20:04:38]] epoch 5 / 400, batch 100%, train loss 0.8878, valid loss 1.0289, cost 10.2 min\n",
      "[[04/19/2020 20:14:50]] epoch 6 / 400, batch 100%, train loss 0.8861, valid loss 1.0089, cost 10.2 min\n",
      "[[04/19/2020 20:25:02]] epoch 7 / 400, batch 100%, train loss 0.8860, valid loss 1.0158, cost 10.2 min\n",
      "[[04/19/2020 20:35:14]] epoch 8 / 400, batch 100%, train loss 0.8848, valid loss 1.0170, cost 10.2 min\n",
      "[[04/19/2020 20:45:30]] epoch 9 / 400, batch 100%, train loss 0.8773, valid loss 1.0129, cost 10.3 min\n",
      "[[04/19/2020 20:55:51]] epoch 10 / 400, batch 100%, train loss 0.8815, valid loss 1.0079, cost 10.3 min\n",
      "[[04/19/2020 21:06:09]] epoch 11 / 400, batch 100%, train loss 0.8786, valid loss 1.0135, cost 10.3 min\n",
      "[[04/19/2020 21:16:23]] epoch 12 / 400, batch 100%, train loss 0.8788, valid loss 1.0012, cost 10.2 min\n",
      "[[04/19/2020 21:26:42]] epoch 13 / 400, batch 100%, train loss 0.8792, valid loss 1.0022, cost 10.3 min\n",
      "[[04/19/2020 21:36:56]] epoch 14 / 400, batch 100%, train loss 0.8814, valid loss 1.0059, cost 10.2 min\n",
      "[[04/19/2020 21:47:19]] epoch 15 / 400, batch 100%, train loss 0.8807, valid loss 1.0040, cost 10.4 min\n",
      "[[04/19/2020 21:57:35]] epoch 16 / 400, batch 100%, train loss 0.8828, valid loss 0.9969, cost 10.3 min\n",
      "[[04/19/2020 22:08:03]] epoch 17 / 400, batch 100%, train loss 0.8819, valid loss 1.0009, cost 10.5 min\n",
      "[[04/19/2020 22:18:24]] epoch 18 / 400, batch 100%, train loss 0.8776, valid loss 1.0005, cost 10.3 min\n",
      "[[04/19/2020 22:28:46]] epoch 19 / 400, batch 100%, train loss 0.8750, valid loss 1.0023, cost 10.4 min\n",
      "[[04/19/2020 22:39:07]] epoch 20 / 400, batch 100%, train loss 0.8820, valid loss 0.9983, cost 10.4 min\n",
      "[[04/19/2020 22:49:24]] epoch 21 / 400, batch 100%, train loss 0.8810, valid loss 0.9966, cost 10.3 min\n",
      "[[04/19/2020 22:59:42]] epoch 22 / 400, batch 100%, train loss 0.8832, valid loss 1.0126, cost 10.3 min\n",
      "[[04/19/2020 23:10:02]] epoch 23 / 400, batch 100%, train loss 0.8776, valid loss 1.0000, cost 10.3 min\n",
      "[[04/19/2020 23:20:22]] epoch 24 / 400, batch 100%, train loss 0.8794, valid loss 0.9992, cost 10.3 min\n",
      "[[04/19/2020 23:30:59]] epoch 25 / 400, batch 100%, train loss 0.8745, valid loss 1.0019, cost 10.6 min\n",
      "[[04/19/2020 23:41:24]] epoch 26 / 400, batch 100%, train loss 0.8771, valid loss 1.0025, cost 10.4 min\n",
      "[[04/19/2020 23:51:37]] epoch 27 / 400, batch 100%, train loss 0.8750, valid loss 0.9923, cost 10.2 min\n",
      "[[04/20/2020 00:01:55]] epoch 28 / 400, batch 100%, train loss 0.8732, valid loss 0.9974, cost 10.3 min\n",
      "[[04/20/2020 00:12:12]] epoch 29 / 400, batch 100%, train loss 0.8752, valid loss 1.0071, cost 10.3 min\n",
      "[[04/20/2020 00:22:34]] epoch 30 / 400, batch 100%, train loss 0.8727, valid loss 0.9999, cost 10.4 min\n",
      "[[04/20/2020 00:32:49]] epoch 31 / 400, batch 100%, train loss 0.8723, valid loss 1.0038, cost 10.3 min\n",
      "[[04/20/2020 00:43:06]] epoch 32 / 400, batch 100%, train loss 0.8732, valid loss 0.9993, cost 10.3 min\n",
      "[[04/20/2020 00:53:15]] epoch 33 / 400, batch 100%, train loss 0.8770, valid loss 1.0096, cost 10.1 min\n",
      "[[04/20/2020 01:03:30]] epoch 34 / 400, batch 100%, train loss 0.8781, valid loss 1.0006, cost 10.2 min\n",
      "[[04/20/2020 01:13:35]] epoch 35 / 400, batch 100%, train loss 0.8745, valid loss 1.0095, cost 10.1 min\n",
      "[[04/20/2020 01:23:45]] epoch 36 / 400, batch 100%, train loss 0.8754, valid loss 0.9994, cost 10.2 min\n",
      "[[04/20/2020 01:33:59]] epoch 37 / 400, batch 100%, train loss 0.8712, valid loss 0.9966, cost 10.2 min\n",
      "[[04/20/2020 01:44:13]] epoch 38 / 400, batch 100%, train loss 0.8769, valid loss 0.9939, cost 10.2 min\n",
      "[[04/20/2020 01:54:33]] epoch 39 / 400, batch 100%, train loss 0.8799, valid loss 0.9981, cost 10.3 min\n",
      "[[04/20/2020 02:04:57]] epoch 40 / 400, batch 100%, train loss 0.8714, valid loss 0.9946, cost 10.4 min\n",
      "[[04/20/2020 02:15:25]] epoch 41 / 400, batch 100%, train loss 0.8696, valid loss 0.9946, cost 10.5 min\n",
      "[[04/20/2020 02:25:52]] epoch 42 / 400, batch 100%, train loss 0.8693, valid loss 0.9987, cost 10.4 min\n",
      "[[04/20/2020 02:36:09]] epoch 43 / 400, batch 100%, train loss 0.8721, valid loss 1.0009, cost 10.3 min\n",
      "[[04/20/2020 02:46:30]] epoch 44 / 400, batch 100%, train loss 0.8738, valid loss 0.9988, cost 10.3 min\n",
      "[[04/20/2020 02:56:51]] epoch 45 / 400, batch 100%, train loss 0.8761, valid loss 0.9946, cost 10.4 min\n",
      "[[04/20/2020 03:06:57]] epoch 46 / 400, batch 100%, train loss 0.8654, valid loss 0.9999, cost 10.1 min\n",
      "[[04/20/2020 03:17:04]] epoch 47 / 400, batch 100%, train loss 0.8698, valid loss 1.0052, cost 10.1 min\n",
      "[[04/20/2020 03:27:17]] epoch 48 / 400, batch 100%, train loss 0.8707, valid loss 0.9941, cost 10.2 min\n",
      "[[04/20/2020 03:37:30]] epoch 49 / 400, batch 100%, train loss 0.8729, valid loss 0.9973, cost 10.2 min\n",
      "[[04/20/2020 03:47:44]] epoch 50 / 400, batch 100%, train loss 0.8704, valid loss 0.9982, cost 10.2 min\n",
      "[[04/20/2020 03:58:01]] epoch 51 / 400, batch 100%, train loss 0.8734, valid loss 0.9975, cost 10.3 min\n",
      "[[04/20/2020 04:08:24]] epoch 52 / 400, batch 100%, train loss 0.8738, valid loss 0.9966, cost 10.4 min\n",
      "[[04/20/2020 04:18:44]] epoch 53 / 400, batch 100%, train loss 0.8686, valid loss 0.9967, cost 10.3 min\n",
      "[[04/20/2020 04:29:17]] epoch 54 / 400, batch 100%, train loss 0.8756, valid loss 0.9981, cost 10.5 min\n",
      "[[04/20/2020 04:39:44]] epoch 55 / 400, batch 100%, train loss 0.8679, valid loss 0.9946, cost 10.4 min\n",
      "[[04/20/2020 04:50:08]] epoch 56 / 400, batch 100%, train loss 0.8720, valid loss 0.9977, cost 10.4 min\n",
      "[[04/20/2020 05:00:33]] epoch 57 / 400, batch 100%, train loss 0.8699, valid loss 0.9951, cost 10.4 min\n",
      "[[04/20/2020 05:10:48]] epoch 58 / 400, batch 100%, train loss 0.8718, valid loss 0.9951, cost 10.2 min\n",
      "[[04/20/2020 05:21:21]] epoch 59 / 400, batch 100%, train loss 0.8695, valid loss 0.9994, cost 10.6 min\n",
      "[[04/20/2020 05:31:44]] epoch 60 / 400, batch 100%, train loss 0.8711, valid loss 0.9978, cost 10.4 min\n",
      "[[04/20/2020 05:42:20]] epoch 61 / 400, batch 100%, train loss 0.8790, valid loss 0.9941, cost 10.6 min\n",
      "[[04/20/2020 05:52:45]] epoch 62 / 400, batch 100%, train loss 0.8676, valid loss 0.9971, cost 10.4 min\n",
      "[[04/20/2020 06:03:12]] epoch 63 / 400, batch 100%, train loss 0.8709, valid loss 0.9960, cost 10.4 min\n",
      "[[04/20/2020 06:13:35]] epoch 64 / 400, batch 100%, train loss 0.8713, valid loss 0.9953, cost 10.4 min\n",
      "[[04/20/2020 06:24:00]] epoch 65 / 400, batch 100%, train loss 0.8670, valid loss 0.9972, cost 10.4 min\n",
      "[[04/20/2020 06:34:24]] epoch 66 / 400, batch 100%, train loss 0.8726, valid loss 0.9957, cost 10.4 min\n",
      "[[04/20/2020 06:44:53]] epoch 67 / 400, batch 100%, train loss 0.8679, valid loss 0.9965, cost 10.5 min\n"
     ]
    },
    {
     "ename": "KeyboardInterrupt",
     "evalue": "",
     "output_type": "error",
     "traceback": [
      "\u001b[0;31m---------------------------------------------------------------------------\u001b[0m",
      "\u001b[0;31mKeyboardInterrupt\u001b[0m                         Traceback (most recent call last)",
      "\u001b[0;32m<ipython-input-25-552b2ca7d8c7>\u001b[0m in \u001b[0;36m<module>\u001b[0;34m\u001b[0m\n\u001b[1;32m     14\u001b[0m \u001b[0mmodel\u001b[0m\u001b[0;34m.\u001b[0m\u001b[0mcuda\u001b[0m\u001b[0;34m(\u001b[0m\u001b[0;34m)\u001b[0m\u001b[0;34m\u001b[0m\u001b[0;34m\u001b[0m\u001b[0m\n\u001b[1;32m     15\u001b[0m \u001b[0mlearner\u001b[0m \u001b[0;34m=\u001b[0m \u001b[0mLearner\u001b[0m\u001b[0;34m(\u001b[0m\u001b[0mmodel\u001b[0m\u001b[0;34m,\u001b[0m \u001b[0mopt\u001b[0m\u001b[0;34m,\u001b[0m \u001b[0mloss_fn\u001b[0m\u001b[0;34m,\u001b[0m \u001b[0;34m'./m5'\u001b[0m\u001b[0;34m,\u001b[0m \u001b[0mverbose\u001b[0m\u001b[0;34m=\u001b[0m\u001b[0;34m-\u001b[0m\u001b[0;36m1\u001b[0m\u001b[0;34m,\u001b[0m \u001b[0mlr_scheduler\u001b[0m\u001b[0;34m=\u001b[0m\u001b[0mlr_scheduler\u001b[0m\u001b[0;34m)\u001b[0m\u001b[0;34m\u001b[0m\u001b[0;34m\u001b[0m\u001b[0m\n\u001b[0;32m---> 16\u001b[0;31m \u001b[0mlearner\u001b[0m\u001b[0;34m.\u001b[0m\u001b[0mfit\u001b[0m\u001b[0;34m(\u001b[0m\u001b[0;36m400\u001b[0m\u001b[0;34m,\u001b[0m \u001b[0mtrain_dl\u001b[0m\u001b[0;34m,\u001b[0m \u001b[0mvalid_dl\u001b[0m\u001b[0;34m,\u001b[0m \u001b[0mpatient\u001b[0m\u001b[0;34m=\u001b[0m\u001b[0;36m64\u001b[0m\u001b[0;34m,\u001b[0m \u001b[0mstart_save\u001b[0m\u001b[0;34m=\u001b[0m\u001b[0;36m100\u001b[0m\u001b[0;34m,\u001b[0m \u001b[0mearly_stopping\u001b[0m\u001b[0;34m=\u001b[0m\u001b[0;32mFalse\u001b[0m\u001b[0;34m)\u001b[0m\u001b[0;34m\u001b[0m\u001b[0;34m\u001b[0m\u001b[0m\n\u001b[0m",
      "\u001b[0;32m~/project/Deep-Time-Series-Prediction/deepseries/train.py\u001b[0m in \u001b[0;36mfit\u001b[0;34m(self, max_epochs, train_dl, valid_dl, early_stopping, patient, start_save)\u001b[0m\n\u001b[1;32m     67\u001b[0m                 \u001b[0mtrain_loss\u001b[0m \u001b[0;34m=\u001b[0m \u001b[0;36m0\u001b[0m\u001b[0;34m\u001b[0m\u001b[0;34m\u001b[0m\u001b[0m\n\u001b[1;32m     68\u001b[0m                 \u001b[0;32mfor\u001b[0m \u001b[0mj\u001b[0m\u001b[0;34m,\u001b[0m \u001b[0;34m(\u001b[0m\u001b[0mx\u001b[0m\u001b[0;34m,\u001b[0m \u001b[0my\u001b[0m\u001b[0;34m,\u001b[0m \u001b[0mw\u001b[0m\u001b[0;34m)\u001b[0m \u001b[0;32min\u001b[0m \u001b[0menumerate\u001b[0m\u001b[0;34m(\u001b[0m\u001b[0mtrain_dl\u001b[0m\u001b[0;34m)\u001b[0m\u001b[0;34m:\u001b[0m\u001b[0;34m\u001b[0m\u001b[0;34m\u001b[0m\u001b[0m\n\u001b[0;32m---> 69\u001b[0;31m                     \u001b[0mloss\u001b[0m \u001b[0;34m=\u001b[0m \u001b[0mself\u001b[0m\u001b[0;34m.\u001b[0m\u001b[0mloss_batch\u001b[0m\u001b[0;34m(\u001b[0m\u001b[0mx\u001b[0m\u001b[0;34m,\u001b[0m \u001b[0my\u001b[0m\u001b[0;34m,\u001b[0m \u001b[0mw\u001b[0m\u001b[0;34m)\u001b[0m\u001b[0;34m\u001b[0m\u001b[0;34m\u001b[0m\u001b[0m\n\u001b[0m\u001b[1;32m     70\u001b[0m                     \u001b[0mwriter\u001b[0m\u001b[0;34m.\u001b[0m\u001b[0madd_scalar\u001b[0m\u001b[0;34m(\u001b[0m\u001b[0;34m\"Loss/train\"\u001b[0m\u001b[0;34m,\u001b[0m \u001b[0mloss\u001b[0m\u001b[0;34m,\u001b[0m \u001b[0mself\u001b[0m\u001b[0;34m.\u001b[0m\u001b[0mglobal_steps\u001b[0m\u001b[0;34m)\u001b[0m\u001b[0;34m\u001b[0m\u001b[0;34m\u001b[0m\u001b[0m\n\u001b[1;32m     71\u001b[0m                     \u001b[0mself\u001b[0m\u001b[0;34m.\u001b[0m\u001b[0mglobal_steps\u001b[0m \u001b[0;34m+=\u001b[0m \u001b[0;36m1\u001b[0m\u001b[0;34m\u001b[0m\u001b[0;34m\u001b[0m\u001b[0m\n",
      "\u001b[0;32m~/project/Deep-Time-Series-Prediction/deepseries/train.py\u001b[0m in \u001b[0;36mloss_batch\u001b[0;34m(self, x, y, w)\u001b[0m\n\u001b[1;32m    112\u001b[0m         \u001b[0mself\u001b[0m\u001b[0;34m.\u001b[0m\u001b[0moptimizer\u001b[0m\u001b[0;34m.\u001b[0m\u001b[0mzero_grad\u001b[0m\u001b[0;34m(\u001b[0m\u001b[0;34m)\u001b[0m\u001b[0;34m\u001b[0m\u001b[0;34m\u001b[0m\u001b[0m\n\u001b[1;32m    113\u001b[0m         \u001b[0;32mif\u001b[0m \u001b[0misinstance\u001b[0m\u001b[0;34m(\u001b[0m\u001b[0mx\u001b[0m\u001b[0;34m,\u001b[0m \u001b[0mdict\u001b[0m\u001b[0;34m)\u001b[0m\u001b[0;34m:\u001b[0m\u001b[0;34m\u001b[0m\u001b[0;34m\u001b[0m\u001b[0m\n\u001b[0;32m--> 114\u001b[0;31m             \u001b[0my_hat\u001b[0m \u001b[0;34m=\u001b[0m \u001b[0mself\u001b[0m\u001b[0;34m.\u001b[0m\u001b[0mmodel\u001b[0m\u001b[0;34m(\u001b[0m\u001b[0;34m**\u001b[0m\u001b[0mx\u001b[0m\u001b[0;34m)\u001b[0m\u001b[0;34m\u001b[0m\u001b[0;34m\u001b[0m\u001b[0m\n\u001b[0m\u001b[1;32m    115\u001b[0m         \u001b[0;32melse\u001b[0m\u001b[0;34m:\u001b[0m\u001b[0;34m\u001b[0m\u001b[0;34m\u001b[0m\u001b[0m\n\u001b[1;32m    116\u001b[0m             \u001b[0my_hat\u001b[0m \u001b[0;34m=\u001b[0m \u001b[0mself\u001b[0m\u001b[0;34m.\u001b[0m\u001b[0mmodel\u001b[0m\u001b[0;34m(\u001b[0m\u001b[0;34m*\u001b[0m\u001b[0mx\u001b[0m\u001b[0;34m)\u001b[0m\u001b[0;34m\u001b[0m\u001b[0;34m\u001b[0m\u001b[0m\n",
      "\u001b[0;32m~/anaconda3/envs/pytorch_1.3/lib/python3.7/site-packages/torch/nn/modules/module.py\u001b[0m in \u001b[0;36m__call__\u001b[0;34m(self, *input, **kwargs)\u001b[0m\n\u001b[1;32m    539\u001b[0m             \u001b[0mresult\u001b[0m \u001b[0;34m=\u001b[0m \u001b[0mself\u001b[0m\u001b[0;34m.\u001b[0m\u001b[0m_slow_forward\u001b[0m\u001b[0;34m(\u001b[0m\u001b[0;34m*\u001b[0m\u001b[0minput\u001b[0m\u001b[0;34m,\u001b[0m \u001b[0;34m**\u001b[0m\u001b[0mkwargs\u001b[0m\u001b[0;34m)\u001b[0m\u001b[0;34m\u001b[0m\u001b[0;34m\u001b[0m\u001b[0m\n\u001b[1;32m    540\u001b[0m         \u001b[0;32melse\u001b[0m\u001b[0;34m:\u001b[0m\u001b[0;34m\u001b[0m\u001b[0;34m\u001b[0m\u001b[0m\n\u001b[0;32m--> 541\u001b[0;31m             \u001b[0mresult\u001b[0m \u001b[0;34m=\u001b[0m \u001b[0mself\u001b[0m\u001b[0;34m.\u001b[0m\u001b[0mforward\u001b[0m\u001b[0;34m(\u001b[0m\u001b[0;34m*\u001b[0m\u001b[0minput\u001b[0m\u001b[0;34m,\u001b[0m \u001b[0;34m**\u001b[0m\u001b[0mkwargs\u001b[0m\u001b[0;34m)\u001b[0m\u001b[0;34m\u001b[0m\u001b[0;34m\u001b[0m\u001b[0m\n\u001b[0m\u001b[1;32m    542\u001b[0m         \u001b[0;32mfor\u001b[0m \u001b[0mhook\u001b[0m \u001b[0;32min\u001b[0m \u001b[0mself\u001b[0m\u001b[0;34m.\u001b[0m\u001b[0m_forward_hooks\u001b[0m\u001b[0;34m.\u001b[0m\u001b[0mvalues\u001b[0m\u001b[0;34m(\u001b[0m\u001b[0;34m)\u001b[0m\u001b[0;34m:\u001b[0m\u001b[0;34m\u001b[0m\u001b[0;34m\u001b[0m\u001b[0m\n\u001b[1;32m    543\u001b[0m             \u001b[0mhook_result\u001b[0m \u001b[0;34m=\u001b[0m \u001b[0mhook\u001b[0m\u001b[0;34m(\u001b[0m\u001b[0mself\u001b[0m\u001b[0;34m,\u001b[0m \u001b[0minput\u001b[0m\u001b[0;34m,\u001b[0m \u001b[0mresult\u001b[0m\u001b[0;34m)\u001b[0m\u001b[0;34m\u001b[0m\u001b[0;34m\u001b[0m\u001b[0m\n",
      "\u001b[0;32m~/project/Deep-Time-Series-Prediction/deepseries/models/wavenet.py\u001b[0m in \u001b[0;36mforward\u001b[0;34m(self, enc_x, dec_len, enc_num, enc_cat, dec_num, dec_cat)\u001b[0m\n\u001b[1;32m    157\u001b[0m             \u001b[0mstep_numerical\u001b[0m \u001b[0;34m=\u001b[0m \u001b[0mdec_num\u001b[0m\u001b[0;34m[\u001b[0m\u001b[0;34m:\u001b[0m\u001b[0;34m,\u001b[0m \u001b[0;34m:\u001b[0m\u001b[0;34m,\u001b[0m \u001b[0;34m-\u001b[0m\u001b[0;36m1\u001b[0m\u001b[0;34m]\u001b[0m\u001b[0;34m.\u001b[0m\u001b[0munsqueeze\u001b[0m\u001b[0;34m(\u001b[0m\u001b[0;36m2\u001b[0m\u001b[0;34m)\u001b[0m \u001b[0;32mif\u001b[0m \u001b[0mdec_num\u001b[0m \u001b[0;32mis\u001b[0m \u001b[0;32mnot\u001b[0m \u001b[0;32mNone\u001b[0m \u001b[0;32melse\u001b[0m \u001b[0;32mNone\u001b[0m\u001b[0;34m\u001b[0m\u001b[0;34m\u001b[0m\u001b[0m\n\u001b[1;32m    158\u001b[0m             \u001b[0mstep_categorical\u001b[0m \u001b[0;34m=\u001b[0m \u001b[0mdec_cat\u001b[0m\u001b[0;34m[\u001b[0m\u001b[0;34m:\u001b[0m\u001b[0;34m,\u001b[0m \u001b[0;34m:\u001b[0m\u001b[0;34m,\u001b[0m \u001b[0;34m-\u001b[0m\u001b[0;36m1\u001b[0m\u001b[0;34m]\u001b[0m\u001b[0;34m.\u001b[0m\u001b[0munsqueeze\u001b[0m\u001b[0;34m(\u001b[0m\u001b[0;36m2\u001b[0m\u001b[0;34m)\u001b[0m \u001b[0;32mif\u001b[0m \u001b[0mdec_cat\u001b[0m \u001b[0;32mis\u001b[0m \u001b[0;32mnot\u001b[0m \u001b[0;32mNone\u001b[0m \u001b[0;32melse\u001b[0m \u001b[0;32mNone\u001b[0m\u001b[0;34m\u001b[0m\u001b[0;34m\u001b[0m\u001b[0m\n\u001b[0;32m--> 159\u001b[0;31m             \u001b[0mstep_x\u001b[0m\u001b[0;34m,\u001b[0m \u001b[0mqueues\u001b[0m \u001b[0;34m=\u001b[0m \u001b[0mself\u001b[0m\u001b[0;34m.\u001b[0m\u001b[0mdecode\u001b[0m\u001b[0;34m(\u001b[0m\u001b[0mstep_x\u001b[0m\u001b[0;34m,\u001b[0m \u001b[0mqueues\u001b[0m\u001b[0;34m,\u001b[0m \u001b[0mstep_numerical\u001b[0m\u001b[0;34m,\u001b[0m \u001b[0mstep_categorical\u001b[0m\u001b[0;34m)\u001b[0m\u001b[0;34m\u001b[0m\u001b[0;34m\u001b[0m\u001b[0m\n\u001b[0m\u001b[1;32m    160\u001b[0m             \u001b[0mresults\u001b[0m\u001b[0;34m.\u001b[0m\u001b[0mappend\u001b[0m\u001b[0;34m(\u001b[0m\u001b[0mstep_x\u001b[0m\u001b[0;34m)\u001b[0m\u001b[0;34m\u001b[0m\u001b[0;34m\u001b[0m\u001b[0m\n\u001b[1;32m    161\u001b[0m         \u001b[0my_hat\u001b[0m \u001b[0;34m=\u001b[0m \u001b[0mtorch\u001b[0m\u001b[0;34m.\u001b[0m\u001b[0mcat\u001b[0m\u001b[0;34m(\u001b[0m\u001b[0mresults\u001b[0m\u001b[0;34m,\u001b[0m \u001b[0mdim\u001b[0m\u001b[0;34m=\u001b[0m\u001b[0;36m2\u001b[0m\u001b[0;34m)\u001b[0m  \u001b[0;31m# (B, N, S)\u001b[0m\u001b[0;34m\u001b[0m\u001b[0;34m\u001b[0m\u001b[0m\n",
      "\u001b[0;32m~/project/Deep-Time-Series-Prediction/deepseries/models/wavenet.py\u001b[0m in \u001b[0;36mdecode\u001b[0;34m(self, x, states, numerical, categorical)\u001b[0m\n\u001b[1;32m    146\u001b[0m     \u001b[0;32mdef\u001b[0m \u001b[0mdecode\u001b[0m\u001b[0;34m(\u001b[0m\u001b[0mself\u001b[0m\u001b[0;34m,\u001b[0m \u001b[0mx\u001b[0m\u001b[0;34m,\u001b[0m \u001b[0mstates\u001b[0m\u001b[0;34m,\u001b[0m \u001b[0mnumerical\u001b[0m\u001b[0;34m=\u001b[0m\u001b[0;32mNone\u001b[0m\u001b[0;34m,\u001b[0m \u001b[0mcategorical\u001b[0m\u001b[0;34m=\u001b[0m\u001b[0;32mNone\u001b[0m\u001b[0;34m)\u001b[0m\u001b[0;34m:\u001b[0m\u001b[0;34m\u001b[0m\u001b[0;34m\u001b[0m\u001b[0m\n\u001b[1;32m    147\u001b[0m         \u001b[0mdec_features\u001b[0m \u001b[0;34m=\u001b[0m \u001b[0mself\u001b[0m\u001b[0;34m.\u001b[0m\u001b[0mdec_trans\u001b[0m\u001b[0;34m(\u001b[0m\u001b[0mnumerical\u001b[0m\u001b[0;34m,\u001b[0m \u001b[0mcategorical\u001b[0m\u001b[0;34m)\u001b[0m\u001b[0;34m\u001b[0m\u001b[0;34m\u001b[0m\u001b[0m\n\u001b[0;32m--> 148\u001b[0;31m         \u001b[0my_hat\u001b[0m\u001b[0;34m,\u001b[0m \u001b[0mupdated_queues\u001b[0m \u001b[0;34m=\u001b[0m \u001b[0mself\u001b[0m\u001b[0;34m.\u001b[0m\u001b[0mdec\u001b[0m\u001b[0;34m(\u001b[0m\u001b[0mx\u001b[0m\u001b[0;34m,\u001b[0m \u001b[0mdec_features\u001b[0m\u001b[0;34m,\u001b[0m \u001b[0mstates\u001b[0m\u001b[0;34m)\u001b[0m\u001b[0;34m\u001b[0m\u001b[0;34m\u001b[0m\u001b[0m\n\u001b[0m\u001b[1;32m    149\u001b[0m         \u001b[0;32mreturn\u001b[0m \u001b[0my_hat\u001b[0m\u001b[0;34m,\u001b[0m \u001b[0mupdated_queues\u001b[0m\u001b[0;34m\u001b[0m\u001b[0;34m\u001b[0m\u001b[0m\n\u001b[1;32m    150\u001b[0m \u001b[0;34m\u001b[0m\u001b[0m\n",
      "\u001b[0;32m~/anaconda3/envs/pytorch_1.3/lib/python3.7/site-packages/torch/nn/modules/module.py\u001b[0m in \u001b[0;36m__call__\u001b[0;34m(self, *input, **kwargs)\u001b[0m\n\u001b[1;32m    539\u001b[0m             \u001b[0mresult\u001b[0m \u001b[0;34m=\u001b[0m \u001b[0mself\u001b[0m\u001b[0;34m.\u001b[0m\u001b[0m_slow_forward\u001b[0m\u001b[0;34m(\u001b[0m\u001b[0;34m*\u001b[0m\u001b[0minput\u001b[0m\u001b[0;34m,\u001b[0m \u001b[0;34m**\u001b[0m\u001b[0mkwargs\u001b[0m\u001b[0;34m)\u001b[0m\u001b[0;34m\u001b[0m\u001b[0;34m\u001b[0m\u001b[0m\n\u001b[1;32m    540\u001b[0m         \u001b[0;32melse\u001b[0m\u001b[0;34m:\u001b[0m\u001b[0;34m\u001b[0m\u001b[0;34m\u001b[0m\u001b[0m\n\u001b[0;32m--> 541\u001b[0;31m             \u001b[0mresult\u001b[0m \u001b[0;34m=\u001b[0m \u001b[0mself\u001b[0m\u001b[0;34m.\u001b[0m\u001b[0mforward\u001b[0m\u001b[0;34m(\u001b[0m\u001b[0;34m*\u001b[0m\u001b[0minput\u001b[0m\u001b[0;34m,\u001b[0m \u001b[0;34m**\u001b[0m\u001b[0mkwargs\u001b[0m\u001b[0;34m)\u001b[0m\u001b[0;34m\u001b[0m\u001b[0;34m\u001b[0m\u001b[0m\n\u001b[0m\u001b[1;32m    542\u001b[0m         \u001b[0;32mfor\u001b[0m \u001b[0mhook\u001b[0m \u001b[0;32min\u001b[0m \u001b[0mself\u001b[0m\u001b[0;34m.\u001b[0m\u001b[0m_forward_hooks\u001b[0m\u001b[0;34m.\u001b[0m\u001b[0mvalues\u001b[0m\u001b[0;34m(\u001b[0m\u001b[0;34m)\u001b[0m\u001b[0;34m:\u001b[0m\u001b[0;34m\u001b[0m\u001b[0;34m\u001b[0m\u001b[0m\n\u001b[1;32m    543\u001b[0m             \u001b[0mhook_result\u001b[0m \u001b[0;34m=\u001b[0m \u001b[0mhook\u001b[0m\u001b[0;34m(\u001b[0m\u001b[0mself\u001b[0m\u001b[0;34m,\u001b[0m \u001b[0minput\u001b[0m\u001b[0;34m,\u001b[0m \u001b[0mresult\u001b[0m\u001b[0;34m)\u001b[0m\u001b[0;34m\u001b[0m\u001b[0;34m\u001b[0m\u001b[0m\n",
      "\u001b[0;32m~/project/Deep-Time-Series-Prediction/deepseries/models/wavenet.py\u001b[0m in \u001b[0;36mforward\u001b[0;34m(self, x, features, queues)\u001b[0m\n\u001b[1;32m     92\u001b[0m             \u001b[0mstate_len\u001b[0m \u001b[0;34m=\u001b[0m \u001b[0mstate\u001b[0m\u001b[0;34m.\u001b[0m\u001b[0mshape\u001b[0m\u001b[0;34m[\u001b[0m\u001b[0;36m2\u001b[0m\u001b[0;34m]\u001b[0m\u001b[0;34m\u001b[0m\u001b[0;34m\u001b[0m\u001b[0m\n\u001b[1;32m     93\u001b[0m             \u001b[0;32mif\u001b[0m \u001b[0mstate_len\u001b[0m \u001b[0;34m>=\u001b[0m \u001b[0mdilation\u001b[0m\u001b[0;34m:\u001b[0m\u001b[0;34m\u001b[0m\u001b[0;34m\u001b[0m\u001b[0m\n\u001b[0;32m---> 94\u001b[0;31m                 \u001b[0mconv_inputs\u001b[0m \u001b[0;34m=\u001b[0m \u001b[0mtorch\u001b[0m\u001b[0;34m.\u001b[0m\u001b[0mcat\u001b[0m\u001b[0;34m(\u001b[0m\u001b[0;34m[\u001b[0m\u001b[0mstate\u001b[0m\u001b[0;34m[\u001b[0m\u001b[0;34m:\u001b[0m\u001b[0;34m,\u001b[0m \u001b[0;34m:\u001b[0m\u001b[0;34m,\u001b[0m \u001b[0;34m[\u001b[0m\u001b[0;34m(\u001b[0m\u001b[0mstate_len\u001b[0m\u001b[0;34m-\u001b[0m\u001b[0;36m1\u001b[0m\u001b[0;34m)\u001b[0m\u001b[0;34m-\u001b[0m\u001b[0;34m(\u001b[0m\u001b[0mdilation\u001b[0m\u001b[0;34m-\u001b[0m\u001b[0;36m1\u001b[0m\u001b[0;34m)\u001b[0m\u001b[0;34m]\u001b[0m\u001b[0;34m]\u001b[0m\u001b[0;34m,\u001b[0m \u001b[0mh\u001b[0m\u001b[0;34m]\u001b[0m\u001b[0;34m,\u001b[0m \u001b[0mdim\u001b[0m\u001b[0;34m=\u001b[0m\u001b[0;36m2\u001b[0m\u001b[0;34m)\u001b[0m\u001b[0;34m\u001b[0m\u001b[0;34m\u001b[0m\u001b[0m\n\u001b[0m\u001b[1;32m     95\u001b[0m             \u001b[0;32melse\u001b[0m\u001b[0;34m:\u001b[0m\u001b[0;34m\u001b[0m\u001b[0;34m\u001b[0m\u001b[0m\n\u001b[1;32m     96\u001b[0m                 \u001b[0mstep_padding\u001b[0m \u001b[0;34m+=\u001b[0m \u001b[0;36m1\u001b[0m\u001b[0;34m\u001b[0m\u001b[0;34m\u001b[0m\u001b[0m\n",
      "\u001b[0;31mKeyboardInterrupt\u001b[0m: "
     ]
    }
   ],
   "source": [
    "model = WaveNet(enc_numerical=16, \n",
    "                enc_categorical=[(3049, 16), (7, 1), (10, 1), (3, 1), (3, 1), (32, 4), (5, 1), (5, 1), (3, 1)],\n",
    "                dec_numerical=14,\n",
    "                dec_categorical=[(3049, 16), (7, 1), (10, 1), (3, 1), (3, 1), (32, 4), (5, 1), (5, 1), (3, 1)],\n",
    "                hidden_size=512,\n",
    "                dropout=0.2,\n",
    "                debug=False,\n",
    "                dilations=[2 ** i for i in range(11)] * 2, \n",
    "                kernels_size=[2 for i in range(11)] * 2,\n",
    "               )\n",
    "opt = Adam(model.parameters(), 0.002)\n",
    "loss_fn = MSELoss()\n",
    "lr_scheduler = ReduceCosineAnnealingLR(opt, 64, eta_min=1e-4, gamma=0.998)\n",
    "model.cuda()\n",
    "learner = Learner(model, opt, loss_fn, './m5', verbose=-1, lr_scheduler=lr_scheduler)\n",
    "learner.fit(400, train_dl, valid_dl, patient=64, start_save=100, early_stopping=False)"
   ]
  },
  {
   "cell_type": "code",
   "execution_count": 29,
   "metadata": {},
   "outputs": [],
   "source": [
    "def predict_submission(model, test_dl):\n",
    "    model.eval()\n",
    "    test_dl.test()\n",
    "    preds = []\n",
    "    for batch in test_dl:\n",
    "        preds.append(model.predict(**batch).cpu().detach().numpy())\n",
    "    preds = np.concatenate(preds, axis=0).squeeze()\n",
    "    preds = np.expm1(preds * np.expand_dims(xy_std, 1) + np.expand_dims(xy_mean, 1))\n",
    "    return preds\n",
    "\n",
    "preds = predict_submission(learner.model, test_dl)"
   ]
  },
  {
   "cell_type": "code",
   "execution_count": 30,
   "metadata": {},
   "outputs": [],
   "source": [
    "# xy_id_sort = pd.Series(np.arange(df_xy.shape[0]), index=df_xy.index)[df_sub.iloc[:df_xy.shape[0]].id.values]"
   ]
  },
  {
   "cell_type": "code",
   "execution_count": 31,
   "metadata": {},
   "outputs": [],
   "source": [
    "top1 = pd.read_csv(\"./data/submission_top1.csv\").iloc[:30490]"
   ]
  },
  {
   "cell_type": "code",
   "execution_count": 32,
   "metadata": {},
   "outputs": [],
   "source": [
    "def plot(idx):\n",
    "    plt.figure(figsize=(16, 5))\n",
    "    plt.plot(df_xy.iloc[idx, -56:-28].values)\n",
    "    plt.plot(np.arange(28, 56), preds[idx], label='wave')\n",
    "    plt.plot(np.arange(28, 56), top1.iloc[idx, 1:].values, label='lgb')\n",
    "    plt.title(f\"enc {df_xy.iloc[idx, -56:-28].values.mean():.2f} pred {preds[idx].mean():.2f}\\\n",
    "    top1 mean {top1.iloc[idx, 1:].values.mean():.2f}\")\n",
    "    plt.legend()"
   ]
  },
  {
   "cell_type": "code",
   "execution_count": 35,
   "metadata": {},
   "outputs": [
    {
     "data": {
      "image/png": "[encoded data removed]",
      "text/plain": [
       "<Figure size 1152x360 with 1 Axes>"
      ]
     },
     "metadata": {
      "needs_background": "light"
     },
     "output_type": "display_data"
    }
   ],
   "source": [
    "plot(1)"
   ]
  },
  {
   "cell_type": "code",
   "execution_count": null,
   "metadata": {},
   "outputs": [],
   "source": []
  },
  {
   "cell_type": "code",
   "execution_count": 34,
   "metadata": {
    "scrolled": true
   },
   "outputs": [
    {
     "data": {
      "text/plain": [
       "count    30490.000000\n",
       "mean         1.386433\n",
       "std          3.009287\n",
       "min          0.000000\n",
       "25%          0.250000\n",
       "50%          0.607143\n",
       "75%          1.392857\n",
       "max        110.357143\n",
       "dtype: float64"
      ]
     },
     "execution_count": 34,
     "metadata": {},
     "output_type": "execute_result"
    }
   ],
   "source": [
    "df_xy.iloc[:, -56:-28].mean(1).describe()"
   ]
  },
  {
   "cell_type": "code",
   "execution_count": 35,
   "metadata": {},
   "outputs": [
    {
     "data": {
      "text/plain": [
       "count    30490.000000\n",
       "mean         0.927329\n",
       "std          2.127844\n",
       "min          0.000000\n",
       "25%          0.183547\n",
       "50%          0.408598\n",
       "75%          0.906018\n",
       "max         91.084044\n",
       "dtype: float64"
      ]
     },
     "execution_count": 35,
     "metadata": {},
     "output_type": "execute_result"
    }
   ],
   "source": [
    "pd.DataFrame(preds).mean(1).describe()"
   ]
  },
  {
   "cell_type": "code",
   "execution_count": 37,
   "metadata": {},
   "outputs": [
    {
     "data": {
      "image/png": "[encoded data removed]",
      "text/plain": [
       "<Figure size 1152x360 with 1 Axes>"
      ]
     },
     "metadata": {
      "needs_background": "light"
     },
     "output_type": "display_data"
    }
   ],
   "source": [
    "plot(200)"
   ]
  },
  {
   "cell_type": "code",
   "execution_count": null,
   "metadata": {},
   "outputs": [],
   "source": []
  },
  {
   "cell_type": "code",
   "execution_count": 8,
   "metadata": {},
   "outputs": [
    {
     "data": {
      "text/plain": [
       "1.2561647366396398"
      ]
     },
     "execution_count": 8,
     "metadata": {},
     "output_type": "execute_result"
    }
   ],
   "source": [
    "df_xy.mean(axis=1).mean()"
   ]
  },
  {
   "cell_type": "code",
   "execution_count": 10,
   "metadata": {},
   "outputs": [
    {
     "name": "stderr",
     "output_type": "stream",
     "text": [
      "C:\\Users\\evilp\\AppData\\Local\\Continuum\\anaconda3\\envs\\dl\\lib\\site-packages\\ipykernel_launcher.py:1: RuntimeWarning: invalid value encountered in log1p\n",
      "  \"\"\"Entry point for launching an IPython kernel.\n"
     ]
    },
    {
     "data": {
      "text/plain": [
       "1.0215643845357223"
      ]
     },
     "execution_count": 10,
     "metadata": {},
     "output_type": "execute_result"
    }
   ],
   "source": [
    "masked_xy = np.ma.array(np.log1p(df_xy).values, mask=(df_xy.values == 0) | (df_xy.isnull().values))\n",
    "masked_xy.mean(axis=1).mean()"
   ]
  },
  {
   "cell_type": "code",
   "execution_count": 14,
   "metadata": {},
   "outputs": [
    {
     "name": "stderr",
     "output_type": "stream",
     "text": [
      "C:\\Users\\evilp\\AppData\\Local\\Continuum\\anaconda3\\envs\\dl\\lib\\site-packages\\ipykernel_launcher.py:1: RuntimeWarning: invalid value encountered in log1p\n",
      "  \"\"\"Entry point for launching an IPython kernel.\n"
     ]
    },
    {
     "data": {
      "text/plain": [
       "0.46371134106875833"
      ]
     },
     "execution_count": 14,
     "metadata": {},
     "output_type": "execute_result"
    }
   ],
   "source": [
    "np.log1p(df_xy).mean().mean()"
   ]
  },
  {
   "cell_type": "code",
   "execution_count": 15,
   "metadata": {},
   "outputs": [
    {
     "ename": "NameError",
     "evalue": "name 'preds' is not defined",
     "output_type": "error",
     "traceback": [
      "\u001b[1;31m---------------------------------------------------------------------------\u001b[0m",
      "\u001b[1;31mNameError\u001b[0m                                 Traceback (most recent call last)",
      "\u001b[1;32m<ipython-input-15-2bbdd9d773fc>\u001b[0m in \u001b[0;36m<module>\u001b[1;34m\u001b[0m\n\u001b[1;32m----> 1\u001b[1;33m \u001b[0mpreds\u001b[0m\u001b[1;33m.\u001b[0m\u001b[0mmean\u001b[0m\u001b[1;33m(\u001b[0m\u001b[1;33m)\u001b[0m\u001b[1;33m\u001b[0m\u001b[1;33m\u001b[0m\u001b[0m\n\u001b[0m",
      "\u001b[1;31mNameError\u001b[0m: name 'preds' is not defined"
     ]
    }
   ],
   "source": [
    "preds.mean()"
   ]
  },
  {
   "cell_type": "code",
   "execution_count": 36,
   "metadata": {},
   "outputs": [
    {
     "data": {
      "text/plain": [
       "1.4331789663311454"
      ]
     },
     "execution_count": 36,
     "metadata": {},
     "output_type": "execute_result"
    }
   ],
   "source": [
    "top1.iloc[:, 1:].mean().mean()"
   ]
  },
  {
   "cell_type": "code",
   "execution_count": 35,
   "metadata": {},
   "outputs": [],
   "source": [
    "\n",
    "# plt.figure(figsize=(16, 8))\n",
    "# plt.plot(pd.read_csv(\"./data/submission_top1.csv\").mean(1).iloc[:30490], alpha=0.5, label='lgb')\n",
    "# plt.plot(pd.DataFrame(preds).mean(1), label='wave', alpha=0.5)\n",
    "# plt.figure(figsize=(16, 2))\n",
    "# plt.plot(df_xy.dropna(axis=1).iloc[:, -28:].mean(1).values, label='enc', alpha=0.5)\n",
    "# plt.figure(figsize=(16, 2))\n",
    "# plt.plot(df_xy.dropna(axis=1).iloc[:, ].mean(1).values, label='all', alpha=0.5)\n",
    "# plt.figure(figsize=(16, 2))\n",
    "# plt.plot(xy_mean)\n",
    "# plt.legend()"
   ]
  },
  {
   "cell_type": "code",
   "execution_count": 24,
   "metadata": {},
   "outputs": [],
   "source": [
    "\n",
    "\n",
    "# sort_id = pd.Series(dict(zip(np.arange(df_xy.shape[0]), sub_ids.sort_values().index.values))).values\n",
    "\n",
    "# pd.DataFrame(preds[sort_id]).mean(axis=1)\n",
    "\n",
    "# pd.DataFrame(preds).mean(axis=1)\n",
    "\n",
    "# df_xy.mean(axis=1)\n",
    "\n",
    "# pd.DataFrame({'sub_ids': sub_ids, 'xy_ids': xy_ids})\n",
    "\n",
    "# pd.read_csv(\"./data/submission_top1.csv\").set_index(\"id\").mean().mean()\n",
    "\n",
    "# pd.DataFrame(sub_ids).reset_index()\n",
    "\n",
    "# xy_ids = pd.Series(df_xy.index.values)\n",
    "\n",
    "# df_sub.iloc[: preds.shape[0], 1:] = preds\n",
    "# df_sub.iloc[preds.shape[0]:, 1:] = preds\n",
    "\n",
    "# df_sub.to_csv(\"./data/sub_0412_1.csv\", index=None)\n",
    "\n"
   ]
  },
  {
   "cell_type": "code",
   "execution_count": null,
   "metadata": {},
   "outputs": [],
   "source": []
  }
 ],
 "metadata": {
  "kernelspec": {
   "display_name": "Python [conda env:dl]",
   "language": "python",
   "name": "conda-env-dl-py"
  },
  "language_info": {
   "codemirror_mode": {
    "name": "ipython",
    "version": 3
   },
   "file_extension": ".py",
   "mimetype": "text/x-python",
   "name": "python",
   "nbconvert_exporter": "python",
   "pygments_lexer": "ipython3",
   "version": "3.6.9"
  }
 },
 "nbformat": 4,
 "nbformat_minor": 2
}
