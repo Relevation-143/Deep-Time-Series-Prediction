{
 "cells": [
  {
   "cell_type": "code",
   "execution_count": 2,
   "metadata": {},
   "outputs": [],
   "source": [
    "import os\n",
    "import gc\n",
    "import warnings\n",
    "\n",
    "import pandas as pd\n",
    "from pandas.plotting import register_matplotlib_converters\n",
    "import numpy as np\n",
    "import matplotlib.pyplot as plt\n",
    "import seaborn as sns\n",
    "import lightgbm as lgb\n",
    "from sklearn.metrics import mean_squared_error\n",
    "from sklearn.preprocessing import LabelEncoder\n",
    "import seaborn as sns\n",
    "from  datetime import datetime, timedelta\n",
    "import gc\n",
    "import numpy as np, pandas as pd\n",
    "import lightgbm as lgb\n",
    "import scipy as sp\n",
    "%matplotlib inline\n",
    "\n",
    "import torch\n",
    "from torch.optim import Adam\n",
    "from torch.nn import MSELoss\n",
    "\n",
    "from deepseries.models import WaveNet\n",
    "from deepseries.train import Learner\n",
    "from deepseries.dataset import TimeSeries, Property, Seq2SeqDataLoader"
   ]
  },
  {
   "cell_type": "code",
   "execution_count": 4,
   "metadata": {},
   "outputs": [],
   "source": [
    "DIR = \"./data\"\n",
    "N_ROWS = 100\n",
    "BATCH_SIZE = 128\n",
    "DROP_BEFORE = 1200\n",
    "\n",
    "LAGS = [28]\n",
    "MAX_LAGS = max(LAGS)\n",
    "\n",
    "\n",
    "ENC_LEN = 28 * 4\n",
    "DEC_LEN = 28\n",
    "\n",
    "VALID_LEN = 28\n",
    "TEST_LEN = 28\n",
    "\n",
    "TRAIN_LAST_DAY = 1913\n",
    "USE_SERIES_LEN = TRAIN_LAST_DAY - DROP_BEFORE + 1 + 28\n",
    "\n",
    "CAL_DTYPES={\"event_name_1\": \"category\", \"event_name_2\": \"category\", \"event_type_1\": \"category\", \n",
    "         \"event_type_2\": \"category\", \"weekday\": \"category\", 'wm_yr_wk': 'int16', \"wday\": \"int16\",\n",
    "        \"month\": \"int16\", \"year\": \"int16\", \"snap_CA\": \"int16\", 'snap_TX': 'int16', 'snap_WI': 'int16' }\n",
    "PRICE_DTYPES = {\"store_id\": \"category\", \"item_id\": \"category\", \"wm_yr_wk\": \"int16\",\"sell_price\":\"float32\" }\n",
    "\n",
    "# FIRST_DAY = datetime(2011, 1, 29) \n",
    "# FORECAST_DAY = datetime(2016,4, 25) "
   ]
  },
  {
   "cell_type": "code",
   "execution_count": 5,
   "metadata": {},
   "outputs": [],
   "source": [
    "def load_data():\n",
    "    label_encoders = {}\n",
    "    \n",
    "    prices = pd.read_csv(os.path.join(DIR, \"sell_prices.csv\"), dtype = PRICE_DTYPES)\n",
    "    for col, col_dtype in PRICE_DTYPES.items():\n",
    "        if col_dtype == \"category\":\n",
    "            if col not in label_encoders:\n",
    "                label_encoders[col] = LabelEncoder().fit(prices[col].astype(str).fillna(\"None\"))\n",
    "            prices[col] = label_encoders[col].transform(prices[col].astype(str).fillna(\"None\")).astype(\"int16\")\n",
    "    \n",
    "    cal = pd.read_csv(os.path.join(DIR, \"calendar.csv\"), dtype = CAL_DTYPES)\n",
    "    cal[\"date\"] = pd.to_datetime(cal[\"date\"])\n",
    "    for col, col_dtype in CAL_DTYPES.items():\n",
    "        if col_dtype == \"category\":\n",
    "            if col not in label_encoders:\n",
    "                label_encoders[col] = LabelEncoder().fit(cal[col].astype(str).fillna(\"None\"))\n",
    "            cal[col] = label_encoders[col].transform(cal[col].astype(str).fillna(\"None\")).astype(\"int16\")\n",
    "    \n",
    "    start_day = max(1, DROP_BEFORE-MAX_LAGS)\n",
    "    numcols = [f\"d_{day}\" for day in range(start_day, TRAIN_LAST_DAY+1)]\n",
    "    catcols = ['id', 'item_id', 'dept_id','store_id', 'cat_id', 'state_id']\n",
    "    dtype = {numcol:\"float32\" for numcol in numcols} \n",
    "    dtype.update({col: \"category\" for col in catcols if col != \"id\"})\n",
    "    dt = pd.read_csv(os.path.join(DIR, \"sales_train_validation.csv\"), \n",
    "                     usecols = catcols + numcols, dtype = dtype)\n",
    "    \n",
    "    for col in catcols:\n",
    "        if col != \"id\":\n",
    "            if col not in label_encoders:\n",
    "                label_encoders[col] = LabelEncoder().fit(dt[col].astype(str).fillna(\"None\"))\n",
    "            dt[col] = label_encoders[col].transform(dt[col].astype(str).fillna(\"None\")).astype(\"int16\")\n",
    "\n",
    "    for day in range(TRAIN_LAST_DAY+1, TRAIN_LAST_DAY+28+1):\n",
    "        dt[f\"d_{day}\"] = np.nan\n",
    "    \n",
    "    product = dt[catcols].copy()\n",
    "    print(f\"product shape {product.shape}\")\n",
    "\n",
    "    dt = pd.melt(dt,\n",
    "                  id_vars = catcols,\n",
    "                  value_vars = [col for col in dt.columns if col.startswith(\"d_\")],\n",
    "                  var_name = \"d\",\n",
    "                  value_name = \"sales\")\n",
    "\n",
    "    dt = dt.merge(cal[['d', 'wm_yr_wk']], on= \"d\", copy = False)\n",
    "    dt = dt.merge(prices, on = [\"store_id\", \"item_id\", \"wm_yr_wk\"], copy = False)\n",
    "    dt['d'] = dt['d'].str.replace('d_', '').astype(\"int32\")\n",
    "    price = dt.pivot(index=\"id\", columns=\"d\", values=\"sell_price\")\n",
    "    xy = dt.pivot(index=\"id\", columns=\"d\", values=\"sales\")\n",
    "    del dt; gc.collect()\n",
    "    print(f\"sale_xy shape {xy.shape}\")\n",
    "    print(f\"price shape {price.shape}\")\n",
    "\n",
    "    cal_use_col = ['date', 'wday', 'month', 'year', 'event_name_1',\n",
    "    'event_type_1', 'event_name_2', 'event_type_2', 'snap_CA', 'snap_TX',\n",
    "    'snap_WI']\n",
    "    cal = cal[cal_use_col]\n",
    "    cal['year'] = cal['year'] - cal['year'].min()\n",
    "    cal['quarter'] = cal.date.dt.quarter\n",
    "    cal = cal.drop(\"date\", axis=1).T\n",
    "    cal = cal[xy.columns]\n",
    "    print(f\"calendar shape {cal.shape}\")\n",
    "    \n",
    "    submission = pd.read_csv(os.path.join(DIR, \"sample_submission.csv\"))\n",
    "    print(f\"submisson shape {submission.shape}\")\n",
    "    return xy, price, cal, product, submission"
   ]
  },
  {
   "cell_type": "code",
   "execution_count": 6,
   "metadata": {},
   "outputs": [
    {
     "name": "stdout",
     "output_type": "stream",
     "text": [
      "product shape (30490, 6)\n",
      "sale_xy shape (30490, 770)\n",
      "price shape (30490, 770)\n",
      "calendar shape (11, 770)\n",
      "submisson shape (60980, 29)\n"
     ]
    }
   ],
   "source": [
    "df_xy, df_price, df_calendar, df_product, df_sub = load_data()"
   ]
  },
  {
   "cell_type": "markdown",
   "metadata": {},
   "source": [
    "## 缺失数据"
   ]
  },
  {
   "cell_type": "code",
   "execution_count": 5,
   "metadata": {},
   "outputs": [
    {
     "data": {
      "image/png": "[encoded data removed]",
      "text/plain": [
       "<Figure size 1440x1440 with 4 Axes>"
      ]
     },
     "metadata": {
      "needs_background": "light"
     },
     "output_type": "display_data"
    }
   ],
   "source": [
    "plt.figure(figsize=(20,20))\n",
    "\n",
    "for i in range(1, 5):\n",
    "    plt.subplot(int(f'14{i}'))\n",
    "    plt.imshow(df_xy.isnull().values.astype(int)[i * 1000: (i+1)*1000])\n",
    "    plt.title(f\"id {i * 1000} - {(i+1) * 1000} sale nan values\")"
   ]
  },
  {
   "cell_type": "code",
   "execution_count": 6,
   "metadata": {},
   "outputs": [],
   "source": [
    "id_not_sell = df_xy.isnull().values.astype(int)\n",
    "id_not_sell[:, -28:] = 0"
   ]
  },
  {
   "cell_type": "code",
   "execution_count": 7,
   "metadata": {},
   "outputs": [
    {
     "data": {
      "text/plain": [
       "Text(0.5, 1.0, 'each series num of nan')"
      ]
     },
     "execution_count": 7,
     "metadata": {},
     "output_type": "execute_result"
    },
    {
     "data": {
      "image/png": "[encoded data removed]",
      "text/plain": [
       "<Figure size 432x288 with 1 Axes>"
      ]
     },
     "metadata": {
      "needs_background": "light"
     },
     "output_type": "display_data"
    }
   ],
   "source": [
    "plt.plot(np.sort(id_not_sell.sum(axis=1)))\n",
    "plt.title(\"each series num of nan\")"
   ]
  },
  {
   "cell_type": "code",
   "execution_count": 8,
   "metadata": {},
   "outputs": [
    {
     "data": {
      "text/plain": [
       "count    30490.000000\n",
       "mean        18.223614\n",
       "std         72.079074\n",
       "min          0.000000\n",
       "25%          0.000000\n",
       "50%          0.000000\n",
       "75%          0.000000\n",
       "max        670.000000\n",
       "dtype: float64"
      ]
     },
     "execution_count": 8,
     "metadata": {},
     "output_type": "execute_result"
    }
   ],
   "source": [
    "pd.Series(id_not_sell.sum(axis=1)).describe()"
   ]
  },
  {
   "cell_type": "markdown",
   "metadata": {},
   "source": [
    "没有销售，同样没有价格"
   ]
  },
  {
   "cell_type": "code",
   "execution_count": 9,
   "metadata": {},
   "outputs": [
    {
     "data": {
      "image/png": "[encoded data removed]",
      "text/plain": [
       "<Figure size 1440x1440 with 4 Axes>"
      ]
     },
     "metadata": {
      "needs_background": "light"
     },
     "output_type": "display_data"
    }
   ],
   "source": [
    "plt.figure(figsize=(20,20))\n",
    "\n",
    "for i in range(1, 5):\n",
    "    plt.subplot(int(f'14{i}'))\n",
    "    plt.imshow(df_price.isnull().values.astype(int)[i * 1000: (i+1)*1000])\n",
    "    plt.title(f\"id {i * 1000} - {(i+1) * 1000} price nan values\")"
   ]
  },
  {
   "cell_type": "markdown",
   "metadata": {},
   "source": [
    "## 数据处理\n",
    "- log1p\n",
    "- 序列状态\n",
    "- 序列统计指标\n",
    "- 序列标准化\n",
    "\n",
    "## 特征\n",
    "\n",
    "### 时间序列状态\n",
    "- 11_price\n",
    "- 11_calendar\n",
    "- 11_is_sell: 是否销售\n",
    "- 10_is_zero: 是否为0销售\n",
    "- 10_continue_zero: 为0第N天\n",
    "- 10_lag_N：前N天销量\n",
    "- 10_lag_M_rolling_N_mean/std: 窗口统计\n",
    "- 品类销量\n",
    "- 日期类\n",
    "\n",
    "### 序列统计\n",
    "- id 均值/中位数/偏度/峰度/分位数\n",
    "- 365/90/30 自相关系数\n",
    "- 品类下的日销排名/波动排名\n",
    "- 品类下的价格排名\n",
    "\n",
    "\n",
    "### Tips\n",
    "- 特征标记{1,0}{1,0}{1,0}{1,0}\n",
    "- #1 1 if use in encoder else 0\n",
    "- #2 1 if use in decoder else 0\n",
    "- #3 series(1), property(0)\n",
    "- #4 num(1), categorical(0)"
   ]
  },
  {
   "cell_type": "code",
   "execution_count": 7,
   "metadata": {
    "scrolled": true
   },
   "outputs": [
    {
     "name": "stderr",
     "output_type": "stream",
     "text": [
      "C:\\Users\\evilp\\AppData\\Local\\Continuum\\anaconda3\\envs\\dl\\lib\\site-packages\\ipykernel_launcher.py:2: RuntimeWarning: invalid value encountered in log1p\n",
      "  \n",
      "C:\\Users\\evilp\\AppData\\Local\\Continuum\\anaconda3\\envs\\dl\\lib\\site-packages\\ipykernel_launcher.py:3: RuntimeWarning: invalid value encountered in log1p\n",
      "  This is separate from the ipykernel package so we can avoid doing imports until\n"
     ]
    }
   ],
   "source": [
    "# series\n",
    "xy = np.log1p(df_xy.values)\n",
    "price = np.log1p(df_price.values)"
   ]
  },
  {
   "cell_type": "code",
   "execution_count": 23,
   "metadata": {},
   "outputs": [],
   "source": [
    "# series state\n",
    "xy_nan = np.isnan(xy).astype(\"float32\")\n",
    "xy_zero = (xy == 0).astype(\"float32\")"
   ]
  },
  {
   "cell_type": "code",
   "execution_count": 24,
   "metadata": {},
   "outputs": [],
   "source": [
    "# series statistics\n",
    "\n",
    "xy_valid_masked = np.ma.masked_array(xy, mask=xy_nan.astype(bool))\n",
    "\n",
    "xy_mean = xy_valid_masked.mean(axis=1).data\n",
    "xy_std = xy_valid_masked.std(axis=1).data\n",
    "xy_skew = sp.stats.mstats.skew(xy_valid_masked, axis=1).data\n",
    "xy_kurt = np.clip(sp.stats.mstats.kurtosis(xy_valid_masked, axis=1).data, None, 10)"
   ]
  },
  {
   "cell_type": "code",
   "execution_count": 25,
   "metadata": {},
   "outputs": [],
   "source": [
    "# series normalization\n",
    "\n",
    "xy = np.nan_to_num((xy - np.expand_dims(xy_mean, 1)) / (np.expand_dims(xy_std, 1) + 1e-6), 0.).astype(\"float32\")"
   ]
  },
  {
   "cell_type": "code",
   "execution_count": 26,
   "metadata": {
    "scrolled": true
   },
   "outputs": [
    {
     "data": {
      "text/plain": [
       "120"
      ]
     },
     "execution_count": 26,
     "metadata": {},
     "output_type": "execute_result"
    }
   ],
   "source": [
    "# series statistic features\n",
    "\n",
    "xy_mean_mean = xy_mean.mean()\n",
    "xy_mean_std = xy_mean.std()\n",
    "xy_std_mean = xy_std.mean()\n",
    "xy_std_std = xy_std.std()\n",
    "xy_skew_mean = xy_skew.mean()\n",
    "xy_skew_std = xy_skew.std()\n",
    "xy_kurt_mean = xy_kurt.mean()\n",
    "xy_kurt_std = xy_kurt.std()\n",
    "\n",
    "f1101_xy_mean = (xy_mean - xy_mean_mean) / xy_mean_std\n",
    "f1101_xy_std = (xy_std - xy_std_mean) / xy_std_std\n",
    "f1101_xy_skew = (xy_skew - xy_skew_mean) / xy_skew_std\n",
    "f1101_xy_kurt = (xy_kurt - xy_kurt_mean) / xy_kurt_std\n",
    "\n",
    "f1101_xy_statistic = np.stack([f1101_xy_mean, f1101_xy_std, f1101_xy_skew, f1101_xy_kurt], \n",
    "                              axis=1).astype(\"float32\")\n",
    "f1011_xy_stats = np.stack([xy_nan, xy_zero], axis=1).astype(\"float32\")[:, :, MAX_LAGS:]\n",
    "\n",
    "del f1101_xy_mean; del f1101_xy_std; del f1101_xy_skew; del f1101_xy_kurt; gc.collect()"
   ]
  },
  {
   "cell_type": "code",
   "execution_count": 27,
   "metadata": {},
   "outputs": [],
   "source": [
    "# series lags\n",
    "\n",
    "def create_lags(xy, n_lags):\n",
    "    r = []\n",
    "    for l in n_lags:\n",
    "        lag = np.zeros_like(xy)\n",
    "        lag[:, l:] = xy[:, :-l]\n",
    "        r.append(lag)\n",
    "    return np.stack(r, axis=1)\n",
    "\n",
    "f1111_xy_lags = create_lags(xy, LAGS)[:, :, MAX_LAGS:].astype(\"float32\")"
   ]
  },
  {
   "cell_type": "code",
   "execution_count": 28,
   "metadata": {},
   "outputs": [],
   "source": [
    "# series categorical\n",
    "\n",
    "f1100_xy_cate = df_product.set_index(\"id\").values.astype(\"int64\")"
   ]
  },
  {
   "cell_type": "code",
   "execution_count": 29,
   "metadata": {},
   "outputs": [],
   "source": [
    "# series drop nan lag\n",
    "\n",
    "xy = np.expand_dims(xy, 1)[:, :, MAX_LAGS:]"
   ]
  },
  {
   "cell_type": "code",
   "execution_count": 30,
   "metadata": {},
   "outputs": [],
   "source": [
    "# calendar feature\n",
    "\n",
    "def periodic_feature(x, T):\n",
    "    psin = np.sin(x * np.pi * 2 / T)\n",
    "    pcos = np.cos(x * np.pi * 2 / T)\n",
    "    return np.stack([psin, pcos], axis=0)\n",
    "\n",
    "f1111_date = np.concatenate([\n",
    "    periodic_feature(df_calendar.T['wday'].values, 7),\n",
    "    periodic_feature(df_calendar.T['month'].values, 12),\n",
    "    periodic_feature(df_calendar.T['quarter'].values, 4),\n",
    "    df_calendar.T[['snap_CA', 'snap_TX', 'snap_WI']].values.T\n",
    "])\n",
    "f1111_date = np.expand_dims(f1111_date, 0)[:, :, MAX_LAGS:]\n",
    "\n",
    "\n",
    "f1110_event = np.expand_dims(\n",
    "    df_calendar.T[['event_name_1', 'event_type_1', 'event_name_2', 'event_type_2']].T.values, 0)[:, :, MAX_LAGS:]"
   ]
  },
  {
   "cell_type": "code",
   "execution_count": 31,
   "metadata": {},
   "outputs": [],
   "source": [
    "class ForwardSpliter:\n",
    "    \n",
    "    def split(self, time_idx, enc_len, dec_len, valid_size):\n",
    "        if valid_size < 1:\n",
    "            valid_size = int(np.floor(len(time_idx) * valid_size))\n",
    "        valid_idx = time_idx[-(valid_size+enc_len):]\n",
    "        train_idx = time_idx[:-valid_size]\n",
    "        return train_idx, valid_idx"
   ]
  },
  {
   "cell_type": "code",
   "execution_count": 32,
   "metadata": {},
   "outputs": [],
   "source": [
    "spliter = ForwardSpliter()\n",
    "\n",
    "train_idx, valid_idx = spliter.split(np.arange(xy.shape[2]), ENC_LEN, DEC_LEN, VALID_LEN+TEST_LEN)\n",
    "valid_idx, test_idx = spliter.split(valid_idx, ENC_LEN, DEC_LEN, TEST_LEN)"
   ]
  },
  {
   "cell_type": "code",
   "execution_count": 33,
   "metadata": {},
   "outputs": [],
   "source": [
    "train_f1011_xy_stats = TimeSeries(f1011_xy_stats[:, :, train_idx])\n",
    "valid_f1011_xy_stats = TimeSeries(f1011_xy_stats[:, :, valid_idx])\n",
    "test_f1011_xy_stats = TimeSeries(f1011_xy_stats[:, :, test_idx])\n",
    "\n",
    "train_f1101_xy_statistic = Property(f1101_xy_statistic)\n",
    "valid_f1101_xy_statistic = Property(f1101_xy_statistic)\n",
    "test_f1101_xy_statistic = Property(f1101_xy_statistic)\n",
    "\n",
    "train_f1111_xy_lags = TimeSeries(f1111_xy_lags[:, :, train_idx])\n",
    "valid_f1111_xy_lags = TimeSeries(f1111_xy_lags[:, :, valid_idx])\n",
    "test_f1111_xy_lags = TimeSeries(f1111_xy_lags[:, :, test_idx])\n",
    "\n",
    "train_f1100_xy_cate = Property(f1100_xy_cate)\n",
    "valid_f1100_xy_cate = Property(f1100_xy_cate)\n",
    "test_f1100_xy_cate = Property(f1100_xy_cate)\n",
    "\n",
    "train_f1110_event = TimeSeries(f1110_event[:, :, train_idx], idx_map=np.zeros_like(np.arange(df_xy.shape[0])))\n",
    "valid_f1110_event = TimeSeries(f1110_event[:, :, valid_idx], idx_map=np.zeros_like(np.arange(df_xy.shape[0])))\n",
    "test_f1110_event = TimeSeries(f1110_event[:, :, test_idx], idx_map=np.zeros_like(np.arange(df_xy.shape[0])))\n",
    "\n",
    "train_f1111_date = TimeSeries(f1111_date[:, :, train_idx], idx_map=np.zeros_like(np.arange(df_xy.shape[0])))\n",
    "valid_f1111_date = TimeSeries(f1111_date[:, :, valid_idx], idx_map=np.zeros_like(np.arange(df_xy.shape[0])))\n",
    "test_f1111_date = TimeSeries(f1111_date[:, :, test_idx], idx_map=np.zeros_like(np.arange(df_xy.shape[0])))"
   ]
  },
  {
   "cell_type": "code",
   "execution_count": 34,
   "metadata": {},
   "outputs": [],
   "source": [
    "train_xy = TimeSeries(xy[:, :, train_idx])\n",
    "valid_xy = TimeSeries(xy[:, :, valid_idx])\n",
    "test_xy = TimeSeries(xy[:, :, test_idx])"
   ]
  },
  {
   "cell_type": "code",
   "execution_count": null,
   "metadata": {},
   "outputs": [],
   "source": [
    "train_frame = Seq2SeqDataLoader(train_xy, batch_size=4, enc_lens=ENC_LEN, dec_lens=DEC_LEN, use_cuda=True, mode='train', time_free_space=24,\n",
    "                          enc_num_feats=[train_xy_features, train_x_features], dec_num_feats=[train_xy_features], weight=train_weight)\n",
    "valid_frame = Seq2SeqDataLoader(valid_xy, batch_size=32, enc_lens=ENC_LEN, dec_lens=DEC_LEN, use_cuda=True, mode='train', time_free_space=0,\n",
    "                         time_interval=48, enc_num_feats=[valid_xy_features, valid_x_features], dec_num_feats=[valid_xy_features],\n",
    "                               weight=valid_weight)"
   ]
  },
  {
   "cell_type": "code",
   "execution_count": 35,
   "metadata": {},
   "outputs": [],
   "source": [
    "train_dl = Seq2SeqDataLoader(train_xy, \n",
    "                             batch_size=BATCH_SIZE, \n",
    "                             enc_lens=ENC_LEN, \n",
    "                             dec_lens=DEC_LEN, \n",
    "                             use_cuda=True, \n",
    "                             mode='train', \n",
    "                             time_free_space=4,\n",
    "                             enc_num_feats=[train_f1011_xy_stats, train_f1101_xy_statistic, train_f1111_xy_lags, train_f1111_date], \n",
    "                             enc_cat_feats=[train_f1100_xy_cate, train_f1110_event], \n",
    "                             dec_num_feats=[train_f1101_xy_statistic, train_f1111_xy_lags, train_f1111_date], \n",
    "                             dec_cat_feats=[train_f1100_xy_cate, train_f1110_event],\n",
    "                             weight=None)\n",
    "\n",
    "valid_dl = Seq2SeqDataLoader(train_xy, \n",
    "                             batch_size=BATCH_SIZE, \n",
    "                             enc_lens=ENC_LEN, \n",
    "                             dec_lens=DEC_LEN, \n",
    "                             use_cuda=True, \n",
    "                             mode='valid', \n",
    "                             time_free_space=0,\n",
    "                             enc_num_feats=[valid_f1011_xy_stats, valid_f1101_xy_statistic, valid_f1111_xy_lags, valid_f1111_date], \n",
    "                             enc_cat_feats=[valid_f1100_xy_cate, valid_f1110_event], \n",
    "                             dec_num_feats=[valid_f1101_xy_statistic, valid_f1111_xy_lags, valid_f1111_date],\n",
    "                             dec_cat_feats=[valid_f1100_xy_cate, valid_f1110_event], \n",
    "                              )\n",
    "\n",
    "test_dl = Seq2SeqDataLoader(train_xy, \n",
    "                             batch_size=BATCH_SIZE, \n",
    "                             enc_lens=ENC_LEN, \n",
    "                             dec_lens=DEC_LEN, \n",
    "                             use_cuda=True, \n",
    "                             mode='valid', \n",
    "                             time_free_space=0,\n",
    "                             enc_num_feats=[test_f1011_xy_stats, test_f1101_xy_statistic, test_f1111_xy_lags, test_f1111_date], \n",
    "                             enc_cat_feats=[test_f1100_xy_cate, test_f1110_event], \n",
    "                             dec_num_feats=[test_f1101_xy_statistic, test_f1111_xy_lags, test_f1111_date],\n",
    "                             dec_cat_feats=[test_f1100_xy_cate, test_f1110_event],\n",
    "                      )"
   ]
  },
  {
   "cell_type": "code",
   "execution_count": 36,
   "metadata": {},
   "outputs": [],
   "source": [
    "class RMSELoss:\n",
    "    \n",
    "    def __init__(self):\n",
    "        self.mse = MSELoss()\n",
    "    \n",
    "    def __call__(self, yhat, y):\n",
    "        return torch.sqrt(self.mse(yhat, y) + 1e-6)"
   ]
  },
  {
   "cell_type": "code",
   "execution_count": 41,
   "metadata": {},
   "outputs": [
    {
     "name": "stderr",
     "output_type": "stream",
     "text": [
      "/home/zhouzr/anaconda3/envs/pytorch_1.3/lib/python3.7/site-packages/ipykernel_launcher.py:1: RuntimeWarning: invalid value encountered in log1p\n",
      "  \"\"\"Entry point for launching an IPython kernel.\n"
     ]
    },
    {
     "data": {
      "text/plain": [
       "count    741.000000\n",
       "mean       0.404291\n",
       "std        0.502400\n",
       "min        0.000000\n",
       "25%        0.000000\n",
       "50%        0.000000\n",
       "75%        0.693147\n",
       "max        2.079442\n",
       "Name: FOODS_1_001_CA_1_validation, dtype: float64"
      ]
     },
     "execution_count": 41,
     "metadata": {},
     "output_type": "execute_result"
    }
   ],
   "source": [
    "np.log1p(df_xy).iloc[0, :-29].describe()"
   ]
  },
  {
   "cell_type": "code",
   "execution_count": 44,
   "metadata": {},
   "outputs": [
    {
     "name": "stderr",
     "output_type": "stream",
     "text": [
      "/home/zhouzr/anaconda3/envs/pytorch_1.3/lib/python3.7/site-packages/ipykernel_launcher.py:1: RuntimeWarning: invalid value encountered in log1p\n",
      "  \"\"\"Entry point for launching an IPython kernel.\n"
     ]
    },
    {
     "data": {
      "text/plain": [
       "count    30490.000000\n",
       "mean         2.115438\n",
       "std          0.705153\n",
       "min          0.000000\n",
       "25%          1.609438\n",
       "50%          1.945910\n",
       "75%          2.484907\n",
       "max          6.342121\n",
       "dtype: float64"
      ]
     },
     "execution_count": 44,
     "metadata": {},
     "output_type": "execute_result"
    }
   ],
   "source": [
    "np.log1p(df_xy).T.max().describe()"
   ]
  },
  {
   "cell_type": "code",
   "execution_count": 37,
   "metadata": {
    "scrolled": false
   },
   "outputs": [
    {
     "name": "stderr",
     "output_type": "stream",
     "text": [
      "start training >>>>>>>>>>>see log: tensorboard --logdir ./m5_0412_2/logs\n",
      "start training >>>>>>>>>>>see log: tensorboard --logdir ./m5_0412_2/logs\n",
      "epoch 1 / 100, batch  21%, train loss 0.9878\n",
      "epoch 1 / 100, batch  21%, train loss 0.9878\n",
      "epoch 1 / 100, batch  41%, train loss 0.9813\n",
      "epoch 1 / 100, batch  41%, train loss 0.9813\n",
      "epoch 1 / 100, batch  62%, train loss 0.9765\n",
      "epoch 1 / 100, batch  62%, train loss 0.9765\n",
      "epoch 1 / 100, batch  83%, train loss 0.9719\n",
      "epoch 1 / 100, batch  83%, train loss 0.9719\n",
      "epoch 1 / 100, batch 100%, train loss 0.9701, valid loss 1.0465\n",
      "epoch 1 / 100, batch 100%, train loss 0.9701, valid loss 1.0465\n",
      "epoch 2 / 100, batch   4%, train loss 0.9650\n",
      "epoch 2 / 100, batch   4%, train loss 0.9650\n",
      "epoch 2 / 100, batch  25%, train loss 0.9565\n",
      "epoch 2 / 100, batch  25%, train loss 0.9565\n",
      "epoch 2 / 100, batch  46%, train loss 0.9571\n",
      "epoch 2 / 100, batch  46%, train loss 0.9571\n",
      "epoch 2 / 100, batch  67%, train loss 0.9561\n",
      "epoch 2 / 100, batch  67%, train loss 0.9561\n",
      "epoch 2 / 100, batch  88%, train loss 0.9563\n",
      "epoch 2 / 100, batch  88%, train loss 0.9563\n",
      "epoch 2 / 100, batch 100%, train loss 0.9573, valid loss 1.0450\n",
      "epoch 2 / 100, batch 100%, train loss 0.9573, valid loss 1.0450\n",
      "epoch 3 / 100, batch   9%, train loss 0.9551\n",
      "epoch 3 / 100, batch   9%, train loss 0.9551\n",
      "epoch 3 / 100, batch  30%, train loss 0.9569\n",
      "epoch 3 / 100, batch  30%, train loss 0.9569\n",
      "epoch 3 / 100, batch  51%, train loss 0.9553\n",
      "epoch 3 / 100, batch  51%, train loss 0.9553\n",
      "epoch 3 / 100, batch  72%, train loss 0.9551\n",
      "epoch 3 / 100, batch  72%, train loss 0.9551\n",
      "epoch 3 / 100, batch  92%, train loss 0.9544\n",
      "epoch 3 / 100, batch  92%, train loss 0.9544\n",
      "epoch 3 / 100, batch 100%, train loss 0.9549, valid loss 1.0402\n",
      "epoch 3 / 100, batch 100%, train loss 0.9549, valid loss 1.0402\n",
      "epoch 4 / 100, batch  13%, train loss 0.9655\n",
      "epoch 4 / 100, batch  13%, train loss 0.9655\n",
      "epoch 4 / 100, batch  34%, train loss 0.9657\n",
      "epoch 4 / 100, batch  34%, train loss 0.9657\n",
      "epoch 4 / 100, batch  55%, train loss 0.9623\n",
      "epoch 4 / 100, batch  55%, train loss 0.9623\n",
      "epoch 4 / 100, batch  76%, train loss 0.9592\n",
      "epoch 4 / 100, batch  76%, train loss 0.9592\n",
      "epoch 4 / 100, batch  97%, train loss 0.9577\n",
      "epoch 4 / 100, batch  97%, train loss 0.9577\n",
      "epoch 4 / 100, batch 100%, train loss 0.9583, valid loss 1.0408\n",
      "epoch 4 / 100, batch 100%, train loss 0.9583, valid loss 1.0408\n",
      "epoch 5 / 100, batch  18%, train loss 0.9526\n",
      "epoch 5 / 100, batch  18%, train loss 0.9526\n",
      "epoch 5 / 100, batch  39%, train loss 0.9477\n",
      "epoch 5 / 100, batch  39%, train loss 0.9477\n",
      "epoch 5 / 100, batch  60%, train loss 0.9516\n",
      "epoch 5 / 100, batch  60%, train loss 0.9516\n",
      "epoch 5 / 100, batch  81%, train loss 0.9538\n",
      "epoch 5 / 100, batch  81%, train loss 0.9538\n",
      "epoch 5 / 100, batch 100%, train loss 0.9558, valid loss 1.0377\n",
      "epoch 5 / 100, batch 100%, train loss 0.9558, valid loss 1.0377\n",
      "epoch 6 / 100, batch   2%, train loss 0.9720\n",
      "epoch 6 / 100, batch   2%, train loss 0.9720\n"
     ]
    },
    {
     "ename": "KeyboardInterrupt",
     "evalue": "",
     "output_type": "error",
     "traceback": [
      "\u001b[0;31m---------------------------------------------------------------------------\u001b[0m",
      "\u001b[0;31mKeyboardInterrupt\u001b[0m                         Traceback (most recent call last)",
      "\u001b[0;32m<ipython-input-37-0ca4f82cf1de>\u001b[0m in \u001b[0;36m<module>\u001b[0;34m\u001b[0m\n\u001b[1;32m      9\u001b[0m \u001b[0mmodel\u001b[0m\u001b[0;34m.\u001b[0m\u001b[0mcuda\u001b[0m\u001b[0;34m(\u001b[0m\u001b[0;34m)\u001b[0m\u001b[0;34m\u001b[0m\u001b[0;34m\u001b[0m\u001b[0m\n\u001b[1;32m     10\u001b[0m \u001b[0mlearner\u001b[0m \u001b[0;34m=\u001b[0m \u001b[0mLearner\u001b[0m\u001b[0;34m(\u001b[0m\u001b[0mmodel\u001b[0m\u001b[0;34m,\u001b[0m \u001b[0mopt\u001b[0m\u001b[0;34m,\u001b[0m \u001b[0mloss_fn\u001b[0m\u001b[0;34m,\u001b[0m \u001b[0;34m'./m5_0412_2'\u001b[0m\u001b[0;34m,\u001b[0m \u001b[0mlog_interval\u001b[0m\u001b[0;34m=\u001b[0m\u001b[0;36m50\u001b[0m\u001b[0;34m,\u001b[0m \u001b[0mlr_scheduler\u001b[0m\u001b[0;34m=\u001b[0m\u001b[0mlr_scheduler\u001b[0m\u001b[0;34m)\u001b[0m\u001b[0;34m\u001b[0m\u001b[0;34m\u001b[0m\u001b[0m\n\u001b[0;32m---> 11\u001b[0;31m \u001b[0mlearner\u001b[0m\u001b[0;34m.\u001b[0m\u001b[0mfit\u001b[0m\u001b[0;34m(\u001b[0m\u001b[0;36m100\u001b[0m\u001b[0;34m,\u001b[0m \u001b[0mtrain_dl\u001b[0m\u001b[0;34m,\u001b[0m \u001b[0mvalid_dl\u001b[0m\u001b[0;34m,\u001b[0m \u001b[0mpatient\u001b[0m\u001b[0;34m=\u001b[0m\u001b[0;36m32\u001b[0m\u001b[0;34m,\u001b[0m \u001b[0mstart_save\u001b[0m\u001b[0;34m=\u001b[0m\u001b[0;36m1\u001b[0m\u001b[0;34m)\u001b[0m\u001b[0;34m\u001b[0m\u001b[0;34m\u001b[0m\u001b[0m\n\u001b[0m",
      "\u001b[0;32m~/project/Deep-Time-Series-Prediction/deepseries/train.py\u001b[0m in \u001b[0;36mfit\u001b[0;34m(self, max_epochs, train_dl, valid_dl, early_stopping, patient, start_save)\u001b[0m\n\u001b[1;32m     59\u001b[0m                 \u001b[0mtrain_loss\u001b[0m \u001b[0;34m=\u001b[0m \u001b[0;36m0\u001b[0m\u001b[0;34m\u001b[0m\u001b[0;34m\u001b[0m\u001b[0m\n\u001b[1;32m     60\u001b[0m                 \u001b[0;32mfor\u001b[0m \u001b[0mi\u001b[0m\u001b[0;34m,\u001b[0m \u001b[0;34m(\u001b[0m\u001b[0mx\u001b[0m\u001b[0;34m,\u001b[0m \u001b[0my\u001b[0m\u001b[0;34m)\u001b[0m \u001b[0;32min\u001b[0m \u001b[0menumerate\u001b[0m\u001b[0;34m(\u001b[0m\u001b[0mtrain_dl\u001b[0m\u001b[0;34m)\u001b[0m\u001b[0;34m:\u001b[0m\u001b[0;34m\u001b[0m\u001b[0;34m\u001b[0m\u001b[0m\n\u001b[0;32m---> 61\u001b[0;31m                     \u001b[0mloss\u001b[0m \u001b[0;34m=\u001b[0m \u001b[0mself\u001b[0m\u001b[0;34m.\u001b[0m\u001b[0mloss_batch\u001b[0m\u001b[0;34m(\u001b[0m\u001b[0mx\u001b[0m\u001b[0;34m,\u001b[0m \u001b[0my\u001b[0m\u001b[0;34m)\u001b[0m\u001b[0;34m\u001b[0m\u001b[0;34m\u001b[0m\u001b[0m\n\u001b[0m\u001b[1;32m     62\u001b[0m                     \u001b[0mwriter\u001b[0m\u001b[0;34m.\u001b[0m\u001b[0madd_scalar\u001b[0m\u001b[0;34m(\u001b[0m\u001b[0;34m\"Loss/train\"\u001b[0m\u001b[0;34m,\u001b[0m \u001b[0mloss\u001b[0m\u001b[0;34m,\u001b[0m \u001b[0mglobal_steps\u001b[0m\u001b[0;34m)\u001b[0m\u001b[0;34m\u001b[0m\u001b[0;34m\u001b[0m\u001b[0m\n\u001b[1;32m     63\u001b[0m                     \u001b[0mglobal_steps\u001b[0m \u001b[0;34m+=\u001b[0m \u001b[0;36m1\u001b[0m\u001b[0;34m\u001b[0m\u001b[0;34m\u001b[0m\u001b[0m\n",
      "\u001b[0;32m~/project/Deep-Time-Series-Prediction/deepseries/train.py\u001b[0m in \u001b[0;36mloss_batch\u001b[0;34m(self, x, y)\u001b[0m\n\u001b[1;32m    101\u001b[0m             \u001b[0my_hat\u001b[0m \u001b[0;34m=\u001b[0m \u001b[0mself\u001b[0m\u001b[0;34m.\u001b[0m\u001b[0mmodel\u001b[0m\u001b[0;34m.\u001b[0m\u001b[0mpredict\u001b[0m\u001b[0;34m(\u001b[0m\u001b[0;34m*\u001b[0m\u001b[0mx\u001b[0m\u001b[0;34m)\u001b[0m\u001b[0;34m\u001b[0m\u001b[0;34m\u001b[0m\u001b[0m\n\u001b[1;32m    102\u001b[0m         \u001b[0mloss\u001b[0m \u001b[0;34m=\u001b[0m \u001b[0mself\u001b[0m\u001b[0;34m.\u001b[0m\u001b[0mloss_fn\u001b[0m\u001b[0;34m(\u001b[0m\u001b[0my_hat\u001b[0m\u001b[0;34m,\u001b[0m \u001b[0my\u001b[0m\u001b[0;34m)\u001b[0m \u001b[0;31m# / y.shape[0]  # add gradient normalize\u001b[0m\u001b[0;34m\u001b[0m\u001b[0;34m\u001b[0m\u001b[0m\n\u001b[0;32m--> 103\u001b[0;31m         \u001b[0mloss\u001b[0m\u001b[0;34m.\u001b[0m\u001b[0mbackward\u001b[0m\u001b[0;34m(\u001b[0m\u001b[0;34m)\u001b[0m\u001b[0;34m\u001b[0m\u001b[0;34m\u001b[0m\u001b[0m\n\u001b[0m\u001b[1;32m    104\u001b[0m         \u001b[0mself\u001b[0m\u001b[0;34m.\u001b[0m\u001b[0moptimizer\u001b[0m\u001b[0;34m.\u001b[0m\u001b[0mstep\u001b[0m\u001b[0;34m(\u001b[0m\u001b[0;34m)\u001b[0m\u001b[0;34m\u001b[0m\u001b[0;34m\u001b[0m\u001b[0m\n\u001b[1;32m    105\u001b[0m         \u001b[0mself\u001b[0m\u001b[0;34m.\u001b[0m\u001b[0moptimizer\u001b[0m\u001b[0;34m.\u001b[0m\u001b[0mzero_grad\u001b[0m\u001b[0;34m(\u001b[0m\u001b[0;34m)\u001b[0m\u001b[0;34m\u001b[0m\u001b[0;34m\u001b[0m\u001b[0m\n",
      "\u001b[0;32m~/anaconda3/envs/pytorch_1.3/lib/python3.7/site-packages/torch/tensor.py\u001b[0m in \u001b[0;36mbackward\u001b[0;34m(self, gradient, retain_graph, create_graph)\u001b[0m\n\u001b[1;32m    148\u001b[0m                 \u001b[0mproducts\u001b[0m\u001b[0;34m.\u001b[0m \u001b[0mDefaults\u001b[0m \u001b[0mto\u001b[0m\u001b[0;31m \u001b[0m\u001b[0;31m`\u001b[0m\u001b[0;31m`\u001b[0m\u001b[0;32mFalse\u001b[0m\u001b[0;31m`\u001b[0m\u001b[0;31m`\u001b[0m\u001b[0;34m.\u001b[0m\u001b[0;34m\u001b[0m\u001b[0;34m\u001b[0m\u001b[0m\n\u001b[1;32m    149\u001b[0m         \"\"\"\n\u001b[0;32m--> 150\u001b[0;31m         \u001b[0mtorch\u001b[0m\u001b[0;34m.\u001b[0m\u001b[0mautograd\u001b[0m\u001b[0;34m.\u001b[0m\u001b[0mbackward\u001b[0m\u001b[0;34m(\u001b[0m\u001b[0mself\u001b[0m\u001b[0;34m,\u001b[0m \u001b[0mgradient\u001b[0m\u001b[0;34m,\u001b[0m \u001b[0mretain_graph\u001b[0m\u001b[0;34m,\u001b[0m \u001b[0mcreate_graph\u001b[0m\u001b[0;34m)\u001b[0m\u001b[0;34m\u001b[0m\u001b[0;34m\u001b[0m\u001b[0m\n\u001b[0m\u001b[1;32m    151\u001b[0m \u001b[0;34m\u001b[0m\u001b[0m\n\u001b[1;32m    152\u001b[0m     \u001b[0;32mdef\u001b[0m \u001b[0mregister_hook\u001b[0m\u001b[0;34m(\u001b[0m\u001b[0mself\u001b[0m\u001b[0;34m,\u001b[0m \u001b[0mhook\u001b[0m\u001b[0;34m)\u001b[0m\u001b[0;34m:\u001b[0m\u001b[0;34m\u001b[0m\u001b[0;34m\u001b[0m\u001b[0m\n",
      "\u001b[0;32m~/anaconda3/envs/pytorch_1.3/lib/python3.7/site-packages/torch/autograd/__init__.py\u001b[0m in \u001b[0;36mbackward\u001b[0;34m(tensors, grad_tensors, retain_graph, create_graph, grad_variables)\u001b[0m\n\u001b[1;32m     97\u001b[0m     Variable._execution_engine.run_backward(\n\u001b[1;32m     98\u001b[0m         \u001b[0mtensors\u001b[0m\u001b[0;34m,\u001b[0m \u001b[0mgrad_tensors\u001b[0m\u001b[0;34m,\u001b[0m \u001b[0mretain_graph\u001b[0m\u001b[0;34m,\u001b[0m \u001b[0mcreate_graph\u001b[0m\u001b[0;34m,\u001b[0m\u001b[0;34m\u001b[0m\u001b[0;34m\u001b[0m\u001b[0m\n\u001b[0;32m---> 99\u001b[0;31m         allow_unreachable=True)  # allow_unreachable flag\n\u001b[0m\u001b[1;32m    100\u001b[0m \u001b[0;34m\u001b[0m\u001b[0m\n\u001b[1;32m    101\u001b[0m \u001b[0;34m\u001b[0m\u001b[0m\n",
      "\u001b[0;31mKeyboardInterrupt\u001b[0m: "
     ]
    }
   ],
   "source": [
    "model = WaveNet(enc_numerical=16, \n",
    "                enc_categorical=[(3049, 16), (7, 1), (10, 1), (3, 1), (3, 1), (32, 4), (5, 1), (5, 1), (3, 1)],\n",
    "                dec_numerical=14,\n",
    "                dec_categorical=[(3049, 16), (7, 1), (10, 1), (3, 1), (3, 1), (32, 4), (5, 1), (5, 1), (3, 1)],\n",
    "               )\n",
    "opt = Adam(model.parameters(), 0.001)\n",
    "loss_fn = RMSELoss()\n",
    "lr_scheduler = torch.optim.lr_scheduler.CosineAnnealingLR(opt, 32, eta_min=1e-4)\n",
    "model.cuda()\n",
    "learner = Learner(model, opt, loss_fn, './m5_0412_2', log_interval=50, lr_scheduler=lr_scheduler)\n",
    "learner.fit(100, train_dl, valid_dl, patient=32, start_save=1)"
   ]
  },
  {
   "cell_type": "code",
   "execution_count": 22,
   "metadata": {},
   "outputs": [],
   "source": [
    "learner.load(\"./m5_0412_2/checkpoints/model-epoch-13.pkl\")"
   ]
  },
  {
   "cell_type": "code",
   "execution_count": 33,
   "metadata": {},
   "outputs": [],
   "source": [
    "def predict_submission(model, test_dl):\n",
    "    model.eval()\n",
    "    test_dl.eval()\n",
    "    preds = []\n",
    "    for batch in test_dl:\n",
    "        preds.append(model.predict(**batch).cpu().detach().numpy())\n",
    "    preds = np.concatenate(preds, axis=0).squeeze()\n",
    "    preds = np.expm1(preds * np.expand_dims(xy_std, 1) + np.expand_dims(xy_mean, 1))\n",
    "    return preds\n",
    "\n",
    "preds = predict_submission(learner.model, test_dl)"
   ]
  },
  {
   "cell_type": "code",
   "execution_count": 22,
   "metadata": {},
   "outputs": [],
   "source": [
    "# xy_id_sort = pd.Series(np.arange(df_xy.shape[0]), index=df_xy.index)[df_sub.iloc[:df_xy.shape[0]].id.values]"
   ]
  },
  {
   "cell_type": "code",
   "execution_count": 23,
   "metadata": {},
   "outputs": [],
   "source": [
    "top1 = pd.read_csv(\"./data/submission_top1.csv\").iloc[:30490]"
   ]
  },
  {
   "cell_type": "code",
   "execution_count": 24,
   "metadata": {},
   "outputs": [],
   "source": [
    "def plot(idx):\n",
    "    plt.figure(figsize=(16, 5))\n",
    "    plt.plot(df_xy.iloc[idx, -56:-28].values)\n",
    "    plt.plot(np.arange(28, 56), preds[idx], label='wave')\n",
    "    plt.plot(np.arange(28, 56), top1.iloc[idx, 1:].values, label='lgb')\n",
    "    plt.legend()"
   ]
  },
  {
   "cell_type": "code",
   "execution_count": 25,
   "metadata": {
    "scrolled": true
   },
   "outputs": [
    {
     "data": {
      "text/plain": [
       "count    30490.000000\n",
       "mean         1.386433\n",
       "std          3.009287\n",
       "min          0.000000\n",
       "25%          0.250000\n",
       "50%          0.607143\n",
       "75%          1.392857\n",
       "max        110.357143\n",
       "dtype: float64"
      ]
     },
     "execution_count": 25,
     "metadata": {},
     "output_type": "execute_result"
    }
   ],
   "source": [
    "df_xy.iloc[:, -56:-28].mean(1).describe()"
   ]
  },
  {
   "cell_type": "code",
   "execution_count": 1,
   "metadata": {},
   "outputs": [
    {
     "ename": "NameError",
     "evalue": "name 'pd' is not defined",
     "output_type": "error",
     "traceback": [
      "\u001b[0;31m---------------------------------------------------------------------------\u001b[0m",
      "\u001b[0;31mNameError\u001b[0m                                 Traceback (most recent call last)",
      "\u001b[0;32m<ipython-input-1-3d60b65afd9a>\u001b[0m in \u001b[0;36m<module>\u001b[0;34m\u001b[0m\n\u001b[0;32m----> 1\u001b[0;31m \u001b[0mpd\u001b[0m\u001b[0;34m.\u001b[0m\u001b[0mDataFrame\u001b[0m\u001b[0;34m(\u001b[0m\u001b[0mpreds\u001b[0m\u001b[0;34m)\u001b[0m\u001b[0;34m.\u001b[0m\u001b[0mmean\u001b[0m\u001b[0;34m(\u001b[0m\u001b[0;36m1\u001b[0m\u001b[0;34m)\u001b[0m\u001b[0;34m.\u001b[0m\u001b[0mdescribe\u001b[0m\u001b[0;34m(\u001b[0m\u001b[0;34m)\u001b[0m\u001b[0;34m\u001b[0m\u001b[0;34m\u001b[0m\u001b[0m\n\u001b[0m",
      "\u001b[0;31mNameError\u001b[0m: name 'pd' is not defined"
     ]
    }
   ],
   "source": [
    "pd.DataFrame(preds).mean(1).describe()"
   ]
  },
  {
   "cell_type": "code",
   "execution_count": 28,
   "metadata": {},
   "outputs": [
    {
     "data": {
      "text/plain": [
       "<matplotlib.axes._subplots.AxesSubplot at 0x7fdc39d38750>"
      ]
     },
     "execution_count": 28,
     "metadata": {},
     "output_type": "execute_result"
    },
    {
     "data": {
      "image/png": "[encoded data removed]",
      "text/plain": [
       "<Figure size 432x288 with 1 Axes>"
      ]
     },
     "metadata": {
      "needs_background": "light"
     },
     "output_type": "display_data"
    }
   ],
   "source": [
    "df_xy.iloc[200, :-28].plot()"
   ]
  },
  {
   "cell_type": "code",
   "execution_count": 31,
   "metadata": {},
   "outputs": [
    {
     "data": {
      "text/plain": [
       "0.12264150943396226"
      ]
     },
     "execution_count": 31,
     "metadata": {},
     "output_type": "execute_result"
    }
   ],
   "source": [
    "df_xy.iloc[200, :-28].mean()"
   ]
  },
  {
   "cell_type": "code",
   "execution_count": 30,
   "metadata": {},
   "outputs": [
    {
     "data": {
      "image/png": "[encoded data removed]",
      "text/plain": [
       "<Figure size 1152x360 with 1 Axes>"
      ]
     },
     "metadata": {
      "needs_background": "light"
     },
     "output_type": "display_data"
    }
   ],
   "source": [
    "plot(200)"
   ]
  },
  {
   "cell_type": "code",
   "execution_count": null,
   "metadata": {},
   "outputs": [],
   "source": []
  },
  {
   "cell_type": "code",
   "execution_count": 8,
   "metadata": {},
   "outputs": [
    {
     "data": {
      "text/plain": [
       "1.2561647366396398"
      ]
     },
     "execution_count": 8,
     "metadata": {},
     "output_type": "execute_result"
    }
   ],
   "source": [
    "df_xy.mean(axis=1).mean()"
   ]
  },
  {
   "cell_type": "code",
   "execution_count": 10,
   "metadata": {},
   "outputs": [
    {
     "name": "stderr",
     "output_type": "stream",
     "text": [
      "C:\\Users\\evilp\\AppData\\Local\\Continuum\\anaconda3\\envs\\dl\\lib\\site-packages\\ipykernel_launcher.py:1: RuntimeWarning: invalid value encountered in log1p\n",
      "  \"\"\"Entry point for launching an IPython kernel.\n"
     ]
    },
    {
     "data": {
      "text/plain": [
       "1.0215643845357223"
      ]
     },
     "execution_count": 10,
     "metadata": {},
     "output_type": "execute_result"
    }
   ],
   "source": [
    "masked_xy = np.ma.array(np.log1p(df_xy).values, mask=(df_xy.values == 0) | (df_xy.isnull().values))\n",
    "masked_xy.mean(axis=1).mean()"
   ]
  },
  {
   "cell_type": "code",
   "execution_count": 14,
   "metadata": {},
   "outputs": [
    {
     "name": "stderr",
     "output_type": "stream",
     "text": [
      "C:\\Users\\evilp\\AppData\\Local\\Continuum\\anaconda3\\envs\\dl\\lib\\site-packages\\ipykernel_launcher.py:1: RuntimeWarning: invalid value encountered in log1p\n",
      "  \"\"\"Entry point for launching an IPython kernel.\n"
     ]
    },
    {
     "data": {
      "text/plain": [
       "0.46371134106875833"
      ]
     },
     "execution_count": 14,
     "metadata": {},
     "output_type": "execute_result"
    }
   ],
   "source": [
    "np.log1p(df_xy).mean().mean()"
   ]
  },
  {
   "cell_type": "code",
   "execution_count": 15,
   "metadata": {},
   "outputs": [
    {
     "ename": "NameError",
     "evalue": "name 'preds' is not defined",
     "output_type": "error",
     "traceback": [
      "\u001b[1;31m---------------------------------------------------------------------------\u001b[0m",
      "\u001b[1;31mNameError\u001b[0m                                 Traceback (most recent call last)",
      "\u001b[1;32m<ipython-input-15-2bbdd9d773fc>\u001b[0m in \u001b[0;36m<module>\u001b[1;34m\u001b[0m\n\u001b[1;32m----> 1\u001b[1;33m \u001b[0mpreds\u001b[0m\u001b[1;33m.\u001b[0m\u001b[0mmean\u001b[0m\u001b[1;33m(\u001b[0m\u001b[1;33m)\u001b[0m\u001b[1;33m\u001b[0m\u001b[1;33m\u001b[0m\u001b[0m\n\u001b[0m",
      "\u001b[1;31mNameError\u001b[0m: name 'preds' is not defined"
     ]
    }
   ],
   "source": [
    "preds.mean()"
   ]
  },
  {
   "cell_type": "code",
   "execution_count": 36,
   "metadata": {},
   "outputs": [
    {
     "data": {
      "text/plain": [
       "1.4331789663311454"
      ]
     },
     "execution_count": 36,
     "metadata": {},
     "output_type": "execute_result"
    }
   ],
   "source": [
    "top1.iloc[:, 1:].mean().mean()"
   ]
  },
  {
   "cell_type": "code",
   "execution_count": 35,
   "metadata": {},
   "outputs": [],
   "source": [
    "\n",
    "# plt.figure(figsize=(16, 8))\n",
    "# plt.plot(pd.read_csv(\"./data/submission_top1.csv\").mean(1).iloc[:30490], alpha=0.5, label='lgb')\n",
    "# plt.plot(pd.DataFrame(preds).mean(1), label='wave', alpha=0.5)\n",
    "# plt.figure(figsize=(16, 2))\n",
    "# plt.plot(df_xy.dropna(axis=1).iloc[:, -28:].mean(1).values, label='enc', alpha=0.5)\n",
    "# plt.figure(figsize=(16, 2))\n",
    "# plt.plot(df_xy.dropna(axis=1).iloc[:, ].mean(1).values, label='all', alpha=0.5)\n",
    "# plt.figure(figsize=(16, 2))\n",
    "# plt.plot(xy_mean)\n",
    "# plt.legend()"
   ]
  },
  {
   "cell_type": "code",
   "execution_count": 24,
   "metadata": {},
   "outputs": [],
   "source": [
    "\n",
    "\n",
    "# sort_id = pd.Series(dict(zip(np.arange(df_xy.shape[0]), sub_ids.sort_values().index.values))).values\n",
    "\n",
    "# pd.DataFrame(preds[sort_id]).mean(axis=1)\n",
    "\n",
    "# pd.DataFrame(preds).mean(axis=1)\n",
    "\n",
    "# df_xy.mean(axis=1)\n",
    "\n",
    "# pd.DataFrame({'sub_ids': sub_ids, 'xy_ids': xy_ids})\n",
    "\n",
    "# pd.read_csv(\"./data/submission_top1.csv\").set_index(\"id\").mean().mean()\n",
    "\n",
    "# pd.DataFrame(sub_ids).reset_index()\n",
    "\n",
    "# xy_ids = pd.Series(df_xy.index.values)\n",
    "\n",
    "# df_sub.iloc[: preds.shape[0], 1:] = preds\n",
    "# df_sub.iloc[preds.shape[0]:, 1:] = preds\n",
    "\n",
    "# df_sub.to_csv(\"./data/sub_0412_1.csv\", index=None)\n",
    "\n"
   ]
  },
  {
   "cell_type": "code",
   "execution_count": null,
   "metadata": {},
   "outputs": [],
   "source": []
  }
 ],
 "metadata": {
  "kernelspec": {
   "display_name": "Python [conda env:dl]",
   "language": "python",
   "name": "conda-env-dl-py"
  },
  "language_info": {
   "codemirror_mode": {
    "name": "ipython",
    "version": 3
   },
   "file_extension": ".py",
   "mimetype": "text/x-python",
   "name": "python",
   "nbconvert_exporter": "python",
   "pygments_lexer": "ipython3",
   "version": "3.6.9"
  }
 },
 "nbformat": 4,
 "nbformat_minor": 2
}
