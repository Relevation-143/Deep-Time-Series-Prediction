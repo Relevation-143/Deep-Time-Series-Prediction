{
 "cells": [
  {
   "cell_type": "code",
   "execution_count": 1,
   "metadata": {},
   "outputs": [
    {
     "ename": "ImportError",
     "evalue": "cannot import name 'PropertyFeature' from 'deepseries.dataset' (/home/zhouzr/project/Deep-Time-Series-Prediction/deepseries/dataset.py)",
     "output_type": "error",
     "traceback": [
      "\u001b[0;31m---------------------------------------------------------------------------\u001b[0m",
      "\u001b[0;31mImportError\u001b[0m                               Traceback (most recent call last)",
      "\u001b[0;32m<ipython-input-1-33bf8a09618a>\u001b[0m in \u001b[0;36m<module>\u001b[0;34m\u001b[0m\n\u001b[1;32m      7\u001b[0m \u001b[0;32mimport\u001b[0m \u001b[0mtorch\u001b[0m\u001b[0;34m\u001b[0m\u001b[0;34m\u001b[0m\u001b[0m\n\u001b[1;32m      8\u001b[0m \u001b[0;32mfrom\u001b[0m \u001b[0mdeepseries\u001b[0m\u001b[0;34m.\u001b[0m\u001b[0mmodels\u001b[0m \u001b[0;32mimport\u001b[0m \u001b[0mWaveNet\u001b[0m\u001b[0;34m\u001b[0m\u001b[0;34m\u001b[0m\u001b[0m\n\u001b[0;32m----> 9\u001b[0;31m \u001b[0;32mfrom\u001b[0m \u001b[0mdeepseries\u001b[0m\u001b[0;34m.\u001b[0m\u001b[0mdataset\u001b[0m \u001b[0;32mimport\u001b[0m \u001b[0mPropertyFeature\u001b[0m\u001b[0;34m,\u001b[0m \u001b[0mSeriesFeature\u001b[0m\u001b[0;34m,\u001b[0m \u001b[0mSeriesFrame\u001b[0m\u001b[0;34m\u001b[0m\u001b[0;34m\u001b[0m\u001b[0m\n\u001b[0m\u001b[1;32m     10\u001b[0m \u001b[0;32mfrom\u001b[0m \u001b[0mdeepseries\u001b[0m\u001b[0;34m.\u001b[0m\u001b[0mtrain\u001b[0m \u001b[0;32mimport\u001b[0m \u001b[0mLearner\u001b[0m\u001b[0;34m\u001b[0m\u001b[0;34m\u001b[0m\u001b[0m\n\u001b[1;32m     11\u001b[0m \u001b[0;32mfrom\u001b[0m \u001b[0mtorch\u001b[0m\u001b[0;34m.\u001b[0m\u001b[0moptim\u001b[0m \u001b[0;32mimport\u001b[0m \u001b[0mAdam\u001b[0m\u001b[0;34m\u001b[0m\u001b[0;34m\u001b[0m\u001b[0m\n",
      "\u001b[0;31mImportError\u001b[0m: cannot import name 'PropertyFeature' from 'deepseries.dataset' (/home/zhouzr/project/Deep-Time-Series-Prediction/deepseries/dataset.py)"
     ]
    }
   ],
   "source": [
    "import pandas as pd\n",
    "import numpy as np\n",
    "import matplotlib.pyplot as plt\n",
    "import seaborn as sns\n",
    "import lightgbm as lgb\n",
    "%matplotlib inline\n",
    "import torch\n",
    "from deepseries.models import WaveNet\n",
    "from deepseries.dataset import PropertyFeature, SeriesFeature, SeriesFrame\n",
    "from deepseries.train import Learner\n",
    "from torch.optim import Adam\n",
    "from torch import nn\n",
    "import matplotlib as mpl"
   ]
  },
  {
   "cell_type": "code",
   "execution_count": null,
   "metadata": {},
   "outputs": [],
   "source": [
    "power = pd.read_csv(\"./data/C.test_data201803.csv\", parse_dates=['time'])[['time', 'KWH']]\n",
    "power = power.set_index(\"time\").resample(\"H\").mean().reset_index()\n",
    "power['KWH'] = np.log1p(power.KWH)"
   ]
  },
  {
   "cell_type": "code",
   "execution_count": null,
   "metadata": {},
   "outputs": [],
   "source": [
    "N_TEST = 24 * 30\n",
    "DROP_ZERO = True\n",
    "DEC_LEN = 1\n",
    "ENC_LEN = 24 * 7"
   ]
  },
  {
   "cell_type": "code",
   "execution_count": 4,
   "metadata": {},
   "outputs": [],
   "source": [
    "power['is_zero'] = (power.KWH == 0).astype('float32')\n",
    "power.loc[power.KWH.isnull(), 'is_zero'] = 1.\n",
    "\n",
    "if DROP_ZERO:\n",
    "    mu = power.KWH[power.is_zero != 1].iloc[:-N_TEST].mean()\n",
    "    std = power.KWH[power.is_zero != 1].iloc[:-N_TEST].std()\n",
    "    power['KWH'] = (power.KWH - mu) / std\n",
    "    power.loc[power.is_zero == 1, 'KWH'] = 0."
   ]
  },
  {
   "cell_type": "code",
   "execution_count": 5,
   "metadata": {},
   "outputs": [],
   "source": [
    "def periodic_feature(x, T):\n",
    "    psin = np.sin(x * np.pi * 2 / T)\n",
    "    pcos = np.cos(x * np.pi * 2 / T)\n",
    "    return np.stack([psin, pcos], axis=0)"
   ]
  },
  {
   "cell_type": "code",
   "execution_count": 6,
   "metadata": {},
   "outputs": [
    {
     "data": {
      "text/plain": [
       "array([0.        , 0.        , 0.        , ..., 0.18087174, 0.14899873,\n",
       "       0.12411923])"
      ]
     },
     "execution_count": 6,
     "metadata": {},
     "output_type": "execute_result"
    }
   ],
   "source": [
    "power['KWH'].values"
   ]
  },
  {
   "cell_type": "code",
   "execution_count": 7,
   "metadata": {},
   "outputs": [],
   "source": [
    "weekday = periodic_feature(power.time.dt.weekday, 7).reshape(1, 1, -1).astype('float32')\n",
    "hour = periodic_feature(power.time.dt.hour, 24).reshape(1, 1, -1).astype('float32')\n",
    "lag_168 = power['KWH'].shift(168).fillna(0).values.reshape(1, 1, -1).astype('float32')\n",
    "xy = power['KWH'].values.reshape(1, 1, -1).astype('float32')\n",
    "is_zero = power['is_zero'].values.reshape(1, 1, -1).astype('float32')"
   ]
  },
  {
   "cell_type": "code",
   "execution_count": 8,
   "metadata": {},
   "outputs": [],
   "source": [
    "class ForwardSpliter:\n",
    "    \n",
    "    def split(self, time_idx, enc_len, dec_len, valid_size):\n",
    "        if valid_size < 1:\n",
    "            valid_size = int(np.floor(len(time_idx) * valid_size))\n",
    "        valid_idx = time_idx[-(valid_size+enc_len):]\n",
    "        train_idx = time_idx[:-valid_size]\n",
    "        return train_idx, valid_idx"
   ]
  },
  {
   "cell_type": "code",
   "execution_count": 9,
   "metadata": {},
   "outputs": [],
   "source": [
    "spliter = ForwardSpliter()\n",
    "train_idx, valid_idx = spliter.split(power.index.values, ENC_LEN, DEC_LEN, 96 * 60)\n",
    "valid_idx, test_idx = spliter.split(valid_idx, ENC_LEN, DEC_LEN, 96 * 30)"
   ]
  },
  {
   "cell_type": "code",
   "execution_count": 10,
   "metadata": {},
   "outputs": [],
   "source": [
    "train_xy = SeriesFeature('xy', 'num', xy[:, :, train_idx])\n",
    "train_lag_168 = SeriesFeature('lag168', 'num', lag_168[:, :, train_idx])\n",
    "train_weekday = SeriesFeature('weekday', 'num', weekday[:, :, train_idx])\n",
    "\n",
    "train_frame = SeriesFrame(train_xy, train_lag_168, train_weekday, batch_size=16, enc_lens=ENC_LEN, dec_lens=DEC_LEN)\n",
    "\n",
    "valid_xy = SeriesFeature('xy', 'num', xy[:, :, valid_idx])\n",
    "valid_lag_168 = SeriesFeature('lag168', 'num', lag_168[:, :, valid_idx])\n",
    "valid_weekday = SeriesFeature('weekday', 'num', weekday[:, :, valid_idx])\n",
    "\n",
    "valid_frame = SeriesFrame(valid_xy, valid_lag_168, valid_weekday, batch_size=16, enc_lens=ENC_LEN, dec_lens=DEC_LEN)"
   ]
  },
  {
   "cell_type": "code",
   "execution_count": 11,
   "metadata": {},
   "outputs": [],
   "source": [
    "model = WaveNet()\n",
    "opt = Adam(model.parameters(), 0.001)\n",
    "loss_fn = nn.MSELoss()"
   ]
  },
  {
   "cell_type": "code",
   "execution_count": 12,
   "metadata": {},
   "outputs": [],
   "source": [
    "learner = Learner(model, opt, loss_fn, '.', log_interval=20)"
   ]
  },
  {
   "cell_type": "code",
   "execution_count": 13,
   "metadata": {
    "scrolled": false
   },
   "outputs": [
    {
     "name": "stderr",
     "output_type": "stream",
     "text": [
      "epoch: 0 / 30 finished, valid loss 0.0000\n",
      "epoch: 1 / 30 finished, valid loss 0.0000\n",
      "epoch: 2 / 30 finished, valid loss 0.0000\n",
      "epoch: 3 / 30 finished, valid loss 0.0000\n",
      "epoch: 4 / 30 finished, valid loss 0.0000\n",
      "epoch: 5 / 30 finished, valid loss 0.0000\n",
      "epoch: 6 / 30 finished, valid loss 0.0000\n",
      "epoch: 7 / 30 finished, valid loss 0.0000\n",
      "epoch: 8 / 30 finished, valid loss 0.0000\n",
      "epoch: 9 / 30 finished, valid loss 0.0000\n",
      "epoch: 10 / 30 finished, valid loss 0.0000\n",
      "epoch: 11 / 30 finished, valid loss 0.0000\n"
     ]
    }
   ],
   "source": [
    "learner.fit(30, train_frame, valid_frame, )"
   ]
  },
  {
   "cell_type": "code",
   "execution_count": 14,
   "metadata": {},
   "outputs": [
    {
     "ename": "ValueError",
     "evalue": "__len__() should return >= 0",
     "output_type": "error",
     "traceback": [
      "\u001b[0;31m---------------------------------------------------------------------------\u001b[0m",
      "\u001b[0;31mValueError\u001b[0m                                Traceback (most recent call last)",
      "\u001b[0;32m<ipython-input-14-41e8ac0e4217>\u001b[0m in \u001b[0;36m<module>\u001b[0;34m\u001b[0m\n\u001b[0;32m----> 1\u001b[0;31m \u001b[0mlen\u001b[0m\u001b[0;34m(\u001b[0m\u001b[0mtrain_frame\u001b[0m\u001b[0;34m)\u001b[0m\u001b[0;34m\u001b[0m\u001b[0;34m\u001b[0m\u001b[0m\n\u001b[0m",
      "\u001b[0;31mValueError\u001b[0m: __len__() should return >= 0"
     ]
    }
   ],
   "source": [
    "len(train_frame)"
   ]
  },
  {
   "cell_type": "code",
   "execution_count": 15,
   "metadata": {},
   "outputs": [
    {
     "data": {
      "text/plain": [
       "<deepseries.dataset.SeriesFrame at 0x7f7bb473d290>"
      ]
     },
     "execution_count": 15,
     "metadata": {},
     "output_type": "execute_result"
    }
   ],
   "source": [
    "train_frame"
   ]
  },
  {
   "cell_type": "code",
   "execution_count": 16,
   "metadata": {},
   "outputs": [],
   "source": [
    "for x, y in valid_frame:\n",
    "    pass"
   ]
  },
  {
   "cell_type": "code",
   "execution_count": 21,
   "metadata": {
    "scrolled": true
   },
   "outputs": [
    {
     "data": {
      "text/plain": [
       "'float32'"
      ]
     },
     "execution_count": 21,
     "metadata": {},
     "output_type": "execute_result"
    }
   ],
   "source": [
    "str(xy.dtype)"
   ]
  },
  {
   "cell_type": "code",
   "execution_count": 22,
   "metadata": {},
   "outputs": [
    {
     "data": {
      "text/plain": [
       "numpy.ndarray"
      ]
     },
     "execution_count": 22,
     "metadata": {},
     "output_type": "execute_result"
    }
   ],
   "source": [
    "type(xy)"
   ]
  },
  {
   "cell_type": "code",
   "execution_count": 27,
   "metadata": {},
   "outputs": [
    {
     "data": {
      "text/plain": [
       "True"
      ]
     },
     "execution_count": 27,
     "metadata": {},
     "output_type": "execute_result"
    }
   ],
   "source": [
    "isinstance(xy, np.ndarray)"
   ]
  },
  {
   "cell_type": "code",
   "execution_count": 26,
   "metadata": {},
   "outputs": [
    {
     "data": {
      "text/plain": [
       "numpy.ndarray"
      ]
     },
     "execution_count": 26,
     "metadata": {},
     "output_type": "execute_result"
    }
   ],
   "source": [
    "np.ndarray"
   ]
  },
  {
   "cell_type": "code",
   "execution_count": null,
   "metadata": {},
   "outputs": [],
   "source": []
  }
 ],
 "metadata": {
  "kernelspec": {
   "display_name": "Python [conda env:pytorch_1.3]",
   "language": "python",
   "name": "conda-env-pytorch_1.3-py"
  },
  "language_info": {
   "codemirror_mode": {
    "name": "ipython",
    "version": 3
   },
   "file_extension": ".py",
   "mimetype": "text/x-python",
   "name": "python",
   "nbconvert_exporter": "python",
   "pygments_lexer": "ipython3",
   "version": "3.7.4"
  }
 },
 "nbformat": 4,
 "nbformat_minor": 2
}
