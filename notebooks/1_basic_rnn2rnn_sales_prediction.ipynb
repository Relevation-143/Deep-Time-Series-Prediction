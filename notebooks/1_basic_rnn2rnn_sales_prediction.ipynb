{
 "cells": [
  {
   "cell_type": "markdown",
   "metadata": {},
   "source": [
    "## Basic RNN2RNN Model\n",
    "\n",
    "- test data : [Kaggle m5-forecasting-accuracy competition first **1000** item sale series](https://www.kaggle.com/c/m5-forecasting-accuracy/overview)\n",
    "- metric and loss function: RMSE"
   ]
  },
  {
   "cell_type": "code",
   "execution_count": 1,
   "metadata": {},
   "outputs": [],
   "source": [
    "import os\n",
    "import gc\n",
    "import warnings\n",
    "\n",
    "import pandas as pd\n",
    "import numpy as np\n",
    "import matplotlib.pyplot as plt\n",
    "import seaborn as sns\n",
    "from sklearn.metrics import mean_squared_error\n",
    "from sklearn.preprocessing import LabelEncoder\n",
    "import seaborn as sns\n",
    "from  datetime import datetime, timedelta\n",
    "import scipy as sp\n",
    "%matplotlib inline\n",
    "\n",
    "import torch\n",
    "from torch.optim import Adam\n",
    "from torch.nn import MSELoss\n",
    "\n",
    "from deepseries.models import BasicSeq2Seq\n",
    "from deepseries.train import Learner\n",
    "from deepseries.dataset import TimeSeries, Property, Seq2SeqDataLoader\n",
    "from deepseries.nn.loss import RMSELoss\n",
    "from deepseries.optim import ReduceCosineAnnealingLR"
   ]
  },
  {
   "cell_type": "code",
   "execution_count": 57,
   "metadata": {},
   "outputs": [],
   "source": [
    "DIR = \"../data\"\n",
    "N_ROWS = 1000\n",
    "BATCH_SIZE = 32\n",
    "\n",
    "\n",
    "LAGS = [365]\n",
    "MAX_LAGS = max(LAGS)\n",
    "DROP_BEFORE = 1300\n",
    "\n",
    "SEQ_LAST = False\n",
    "ENC_LEN = 512\n",
    "DEC_LEN = 28\n",
    "\n",
    "VALID_LEN = 28\n",
    "TEST_LEN = 28\n",
    "\n",
    "TRAIN_LAST_DAY = 1913\n",
    "USE_SERIES_LEN = TRAIN_LAST_DAY - DROP_BEFORE + 1 + 28\n",
    "\n",
    "CAL_DTYPES={\"event_name_1\": \"category\", \"event_name_2\": \"category\", \"event_type_1\": \"category\", \n",
    "         \"event_type_2\": \"category\", \"weekday\": \"category\", 'wm_yr_wk': 'int16', \"wday\": \"int16\",\n",
    "        \"month\": \"int16\", \"year\": \"int16\", \"snap_CA\": \"int16\", 'snap_TX': 'int16', 'snap_WI': 'int16' }\n",
    "PRICE_DTYPES = {\"store_id\": \"category\", \"item_id\": \"category\", \"wm_yr_wk\": \"int16\",\"sell_price\":\"float32\" }\n",
    "\n",
    "# FIRST_DAY = datetime(2011, 1, 29) \n",
    "# FORECAST_DAY = datetime(2016,4, 25) "
   ]
  },
  {
   "cell_type": "code",
   "execution_count": 58,
   "metadata": {},
   "outputs": [
    {
     "name": "stdout",
     "output_type": "stream",
     "text": [
      "product shape (1000, 6)\n",
      "sale_xy shape (1000, 642)\n",
      "price shape (1000, 642)\n",
      "calendar shape (11, 642)\n",
      "submisson shape (60980, 29)\n"
     ]
    }
   ],
   "source": [
    "def load_data():\n",
    "    label_encoders = {}\n",
    "    \n",
    "    prices = pd.read_csv(os.path.join(DIR, \"sell_prices.csv\"), dtype = PRICE_DTYPES)\n",
    "    for col, col_dtype in PRICE_DTYPES.items():\n",
    "        if col_dtype == \"category\":\n",
    "            if col not in label_encoders:\n",
    "                label_encoders[col] = LabelEncoder().fit(prices[col].astype(str).fillna(\"None\"))\n",
    "            prices[col] = label_encoders[col].transform(prices[col].astype(str).fillna(\"None\")).astype(\"int16\")\n",
    "    \n",
    "    cal = pd.read_csv(os.path.join(DIR, \"calendar.csv\"), dtype = CAL_DTYPES)\n",
    "    cal[\"date\"] = pd.to_datetime(cal[\"date\"])\n",
    "    for col, col_dtype in CAL_DTYPES.items():\n",
    "        if col_dtype == \"category\":\n",
    "            if col not in label_encoders:\n",
    "                label_encoders[col] = LabelEncoder().fit(cal[col].astype(str).fillna(\"None\"))\n",
    "            cal[col] = label_encoders[col].transform(cal[col].astype(str).fillna(\"None\")).astype(\"int16\")\n",
    "    \n",
    "    numcols = [f\"d_{day}\" for day in range(DROP_BEFORE, TRAIN_LAST_DAY+1)]\n",
    "    catcols = ['id', 'item_id', 'dept_id','store_id', 'cat_id', 'state_id']\n",
    "    dtype = {numcol:\"float32\" for numcol in numcols} \n",
    "    dtype.update({col: \"category\" for col in catcols if col != \"id\"})\n",
    "    dt = pd.read_csv(os.path.join(DIR, \"sales_train_validation.csv\"), \n",
    "                     usecols = catcols + numcols, dtype = dtype, nrows=N_ROWS)\n",
    "    \n",
    "    for col in catcols:\n",
    "        if col != \"id\":\n",
    "            if col not in label_encoders:\n",
    "                label_encoders[col] = LabelEncoder().fit(dt[col].astype(str).fillna(\"None\"))\n",
    "            dt[col] = label_encoders[col].transform(dt[col].astype(str).fillna(\"None\")).astype(\"int16\")\n",
    "\n",
    "    for day in range(TRAIN_LAST_DAY+1, TRAIN_LAST_DAY+28+1):\n",
    "        dt[f\"d_{day}\"] = np.nan\n",
    "    \n",
    "    product = dt[catcols].copy()\n",
    "    print(f\"product shape {product.shape}\")\n",
    "\n",
    "    dt = pd.melt(dt,\n",
    "                  id_vars = catcols,\n",
    "                  value_vars = [col for col in dt.columns if col.startswith(\"d_\")],\n",
    "                  var_name = \"d\",\n",
    "                  value_name = \"sales\")\n",
    "\n",
    "    dt = dt.merge(cal[['d', 'wm_yr_wk']], on= \"d\", copy = False)\n",
    "    dt = dt.merge(prices, on = [\"store_id\", \"item_id\", \"wm_yr_wk\"], copy = False)\n",
    "    dt['d'] = dt['d'].str.replace('d_', '').astype(\"int32\")\n",
    "    price = dt.pivot(index=\"id\", columns=\"d\", values=\"sell_price\")\n",
    "    xy = dt.pivot(index=\"id\", columns=\"d\", values=\"sales\")\n",
    "    del dt; gc.collect()\n",
    "    print(f\"sale_xy shape {xy.shape}\")\n",
    "    print(f\"price shape {price.shape}\")\n",
    "\n",
    "    cal_use_col = ['date', 'wday', 'month', 'year', 'event_name_1',\n",
    "    'event_type_1', 'event_name_2', 'event_type_2', 'snap_CA', 'snap_TX',\n",
    "    'snap_WI']\n",
    "    cal = cal[cal_use_col]\n",
    "    cal['year'] = cal['year'] - cal['year'].min()\n",
    "    cal['quarter'] = cal.date.dt.quarter\n",
    "    cal = cal.drop(\"date\", axis=1).T\n",
    "    cal = cal[xy.columns]\n",
    "    print(f\"calendar shape {cal.shape}\")\n",
    "    \n",
    "    submission = pd.read_csv(os.path.join(DIR, \"sample_submission.csv\"))\n",
    "    print(f\"submisson shape {submission.shape}\")\n",
    "    return xy, price, cal, product, submission\n",
    "\n",
    "df_series, df_price, df_calendar, df_product, df_sub = load_data()"
   ]
  },
  {
   "cell_type": "code",
   "execution_count": 59,
   "metadata": {},
   "outputs": [
    {
     "name": "stderr",
     "output_type": "stream",
     "text": [
      "C:\\Users\\evilp\\AppData\\Local\\Continuum\\anaconda3\\envs\\dl\\lib\\site-packages\\ipykernel_launcher.py:2: RuntimeWarning: invalid value encountered in log1p\n",
      "  \n",
      "C:\\Users\\evilp\\AppData\\Local\\Continuum\\anaconda3\\envs\\dl\\lib\\site-packages\\ipykernel_launcher.py:3: RuntimeWarning: invalid value encountered in log1p\n",
      "  This is separate from the ipykernel package so we can avoid doing imports until\n"
     ]
    }
   ],
   "source": [
    "# series\n",
    "series = np.log1p(df_series.values)\n",
    "price = np.log1p(df_price.values)"
   ]
  },
  {
   "cell_type": "code",
   "execution_count": 60,
   "metadata": {},
   "outputs": [],
   "source": [
    "# series state\n",
    "series_nan = np.isnan(series).astype(\"int8\")\n",
    "series_zero = (series == 0).astype(\"int8\")"
   ]
  },
  {
   "cell_type": "code",
   "execution_count": 61,
   "metadata": {},
   "outputs": [],
   "source": [
    "# series statistics\n",
    "\n",
    "series_valid_masked = np.ma.masked_array(series, mask=series_nan.astype(bool))\n",
    "\n",
    "series_mean = series_valid_masked.mean(axis=1).data\n",
    "series_std = series_valid_masked.std(axis=1).data\n",
    "series_skew = sp.stats.mstats.skew(series_valid_masked, axis=1).data\n",
    "series_kurt = np.clip(sp.stats.mstats.kurtosis(series_valid_masked, axis=1).data, None, 10)"
   ]
  },
  {
   "cell_type": "code",
   "execution_count": 62,
   "metadata": {},
   "outputs": [],
   "source": [
    "# series normalization\n",
    "\n",
    "series = np.nan_to_num(\n",
    "    (series - np.expand_dims(series_mean, 1)) / (np.expand_dims(series_std, 1) + 1e-7), 0.).astype(\"float32\")"
   ]
  },
  {
   "cell_type": "code",
   "execution_count": 63,
   "metadata": {},
   "outputs": [],
   "source": [
    "# series statistic features\n",
    "\n",
    "series_mean_mean = series_mean.mean()\n",
    "series_mean_std = series_mean.std()\n",
    "series_std_mean = series_std.mean()\n",
    "series_std_std = series_std.std()\n",
    "series_skew_mean = series_skew.mean()\n",
    "series_skew_std = series_skew.std()\n",
    "series_kurt_mean = series_kurt.mean()\n",
    "series_kurt_std = series_kurt.std()\n",
    "\n",
    "xy_series_mean = (series_mean - series_mean_mean) / series_mean_std\n",
    "xy_series_std = (series_std - series_std_mean) / series_std_std\n",
    "xy_series_skew = (series_skew - series_skew_mean) / series_skew_std\n",
    "xy_series_kurt = (series_kurt - series_kurt_mean) / series_kurt_std\n",
    "\n",
    "\n",
    "xy_series_stats = np.stack([xy_series_mean, xy_series_std, xy_series_skew, xy_series_kurt], axis=1)\n",
    "x_series_label = np.stack([series_nan, series_zero], axis=1)\n",
    "series = np.expand_dims(series, axis=1)"
   ]
  },
  {
   "cell_type": "code",
   "execution_count": 64,
   "metadata": {},
   "outputs": [],
   "source": [
    "# series categorical features\n",
    "\n",
    "xy_series_cat = df_product.set_index(\"id\").values.astype(\"int64\")"
   ]
  },
  {
   "cell_type": "code",
   "execution_count": 65,
   "metadata": {},
   "outputs": [],
   "source": [
    "# calendar feature\n",
    "\n",
    "def periodic_feature(x, T):\n",
    "    psin = np.sin(x * np.pi * 2 / T)\n",
    "    pcos = np.cos(x * np.pi * 2 / T)\n",
    "    return np.stack([psin, pcos], axis=0)\n",
    "\n",
    "xy_calendar_embed = np.concatenate([\n",
    "    periodic_feature(df_calendar.T['wday'].values, 7),\n",
    "    periodic_feature(df_calendar.T['month'].values, 12),\n",
    "    periodic_feature(df_calendar.T['quarter'].values, 4),\n",
    "    df_calendar.T[['snap_CA', 'snap_TX', 'snap_WI']].values.T\n",
    "])\n",
    "xy_calendar_embed = np.expand_dims(xy_calendar_embed, 0)\n",
    "\n",
    "xy_event_type = np.expand_dims(\n",
    "    df_calendar.T[['event_name_1', 'event_type_1', 'event_name_2', 'event_type_2']].T.values, 0)"
   ]
  },
  {
   "cell_type": "code",
   "execution_count": 66,
   "metadata": {},
   "outputs": [],
   "source": [
    "class ForwardSpliter:\n",
    "    \n",
    "    def split(self, time_idx, enc_len, dec_len, valid_size):\n",
    "        if valid_size < 1:\n",
    "            valid_size = int(np.floor(len(time_idx) * valid_size))\n",
    "        valid_idx = time_idx[-(valid_size+enc_len):]\n",
    "        train_idx = time_idx[:-valid_size]\n",
    "        return train_idx, valid_idx\n",
    "    \n",
    "spliter = ForwardSpliter()\n",
    "\n",
    "train_idx, valid_idx = spliter.split(np.arange(series.shape[2]), ENC_LEN, DEC_LEN, VALID_LEN+TEST_LEN)\n",
    "valid_idx, test_idx = spliter.split(valid_idx, ENC_LEN, DEC_LEN, TEST_LEN)"
   ]
  },
  {
   "cell_type": "code",
   "execution_count": 67,
   "metadata": {},
   "outputs": [],
   "source": [
    "train_series = TimeSeries(series[:, :, train_idx].transpose(0, 2, 1))\n",
    "valid_series = TimeSeries(series[:, :, valid_idx].transpose(0, 2, 1))\n",
    "test_series = TimeSeries(series[:, :, test_idx].transpose(0, 2, 1))\n",
    "\n",
    "train_xy_series_stats = Property(xy_series_stats)\n",
    "valid_xy_series_stats = Property(xy_series_stats)\n",
    "test_xy_series_stats = Property(xy_series_stats)\n",
    "\n",
    "train_x_series_label = TimeSeries(x_series_label[: ,: ,train_idx].transpose(0, 2, 1))\n",
    "valid_x_series_label = TimeSeries(x_series_label[:, :, valid_idx].transpose(0, 2, 1))\n",
    "test_x_series_label = TimeSeries(x_series_label[:, :, test_idx].transpose(0, 2, 1))\n",
    "\n",
    "train_xy_cat = Property(xy_series_cat)\n",
    "valid_xy_cat = Property(xy_series_cat)\n",
    "test_xy_cat = Property(xy_series_cat)\n",
    "\n",
    "train_xy_event = TimeSeries(xy_event_type[:, :, train_idx].transpose(0, 2, 1), idx_map=dict(zip(np.arange(N_ROWS), [0] * N_ROWS)))\n",
    "valid_xy_event = TimeSeries(xy_event_type[:, :, valid_idx].transpose(0, 2, 1), idx_map=dict(zip(np.arange(N_ROWS), [0] * N_ROWS)))\n",
    "test_xy_event = TimeSeries(xy_event_type[:, :, test_idx].transpose(0, 2, 1), idx_map=dict(zip(np.arange(N_ROWS), [0] * N_ROWS)))\n",
    "\n",
    "train_xy_calendar_embed = TimeSeries(xy_calendar_embed[:, :, train_idx].transpose(0, 2, 1), idx_map=dict(zip(np.arange(N_ROWS), [0] * N_ROWS)))\n",
    "valid_xy_calendar_embed = TimeSeries(xy_calendar_embed[:, :, valid_idx].transpose(0, 2, 1), idx_map=dict(zip(np.arange(N_ROWS), [0] * N_ROWS)))\n",
    "test_xy_calendar_embed = TimeSeries(xy_calendar_embed[:, :, test_idx].transpose(0, 2, 1), idx_map=dict(zip(np.arange(N_ROWS), [0] * N_ROWS)))"
   ]
  },
  {
   "cell_type": "code",
   "execution_count": 72,
   "metadata": {},
   "outputs": [
    {
     "data": {
      "text/plain": [
       "0.007501628664495114"
      ]
     },
     "execution_count": 72,
     "metadata": {},
     "output_type": "execute_result"
    }
   ],
   "source": [
    "series_nan[:, :-28].mean()"
   ]
  },
  {
   "cell_type": "code",
   "execution_count": 73,
   "metadata": {},
   "outputs": [],
   "source": [
    "train_dl = Seq2SeqDataLoader(train_series, \n",
    "                             batch_size=BATCH_SIZE, \n",
    "                             enc_lens=ENC_LEN, \n",
    "                             dec_lens=DEC_LEN, \n",
    "                             use_cuda=True, \n",
    "                             mode='train', \n",
    "                             time_free_space=10,\n",
    "                             enc_num_feats=[train_xy_series_stats, train_x_series_label, train_xy_calendar_embed], \n",
    "                             enc_cat_feats=[train_xy_cat, train_xy_event], \n",
    "                             dec_num_feats=[train_xy_series_stats, train_xy_calendar_embed], \n",
    "                             dec_cat_feats=[train_xy_cat, train_xy_event],\n",
    "                             seq_last=False,\n",
    "                            )\n",
    "\n",
    "valid_dl = Seq2SeqDataLoader(valid_series, \n",
    "                             batch_size=BATCH_SIZE, \n",
    "                             enc_lens=ENC_LEN, \n",
    "                             dec_lens=DEC_LEN, \n",
    "                             use_cuda=True, \n",
    "                             mode='valid', \n",
    "                             time_free_space=0,\n",
    "                             enc_num_feats=[valid_xy_series_stats, valid_x_series_label, valid_xy_calendar_embed], \n",
    "                             enc_cat_feats=[valid_xy_cat, valid_xy_event], \n",
    "                             dec_num_feats=[valid_xy_series_stats, valid_xy_calendar_embed],\n",
    "                             dec_cat_feats=[valid_xy_cat, valid_xy_event], \n",
    "                             seq_last=False\n",
    "                              )\n",
    "\n",
    "test_dl = Seq2SeqDataLoader(test_series, \n",
    "                             batch_size=BATCH_SIZE, \n",
    "                             enc_lens=ENC_LEN, \n",
    "                             dec_lens=DEC_LEN, \n",
    "                             use_cuda=True, \n",
    "                             mode='test', \n",
    "                             time_free_space=0,\n",
    "                             enc_num_feats=[test_xy_series_stats, test_x_series_label, test_xy_calendar_embed], \n",
    "                             enc_cat_feats=[test_xy_cat, test_xy_event], \n",
    "                             dec_num_feats=[test_xy_series_stats, test_xy_calendar_embed],\n",
    "                             dec_cat_feats=[test_xy_cat, test_xy_event], \n",
    "                            seq_last=False,\n",
    "                      )"
   ]
  },
  {
   "cell_type": "code",
   "execution_count": 74,
   "metadata": {},
   "outputs": [
    {
     "name": "stderr",
     "output_type": "stream",
     "text": [
      "[[04/23/2020 15:47:53]] start training >>>>>>>>>>>  see log: tensorboard --logdir ./m5_rnn\\logs\n",
      "[[04/23/2020 15:48:06]] epoch 1 / 10, batch 100%, train loss 0.9766, valid loss 1.0092, cost 0.2 min\n",
      "[[04/23/2020 15:48:20]] epoch 2 / 10, batch 100%, train loss 0.9715, valid loss 1.0036, cost 0.2 min\n",
      "[[04/23/2020 15:48:33]] epoch 3 / 10, batch 100%, train loss 0.9656, valid loss 0.9975, cost 0.2 min\n",
      "[[04/23/2020 15:48:47]] epoch 4 / 10, batch 100%, train loss 0.9757, valid loss 0.9962, cost 0.2 min\n",
      "[[04/23/2020 15:49:00]] epoch 5 / 10, batch 100%, train loss 0.9616, valid loss 0.9920, cost 0.2 min\n",
      "[[04/23/2020 15:49:14]] epoch 6 / 10, batch 100%, train loss 0.9591, valid loss 0.9878, cost 0.2 min\n",
      "[[04/23/2020 15:49:28]] epoch 7 / 10, batch 100%, train loss 0.9499, valid loss 0.9950, cost 0.2 min\n",
      "[[04/23/2020 15:49:42]] epoch 8 / 10, batch 100%, train loss 0.9535, valid loss 0.9893, cost 0.2 min\n",
      "[[04/23/2020 15:49:56]] epoch 9 / 10, batch 100%, train loss 0.9644, valid loss 0.9880, cost 0.2 min\n",
      "[[04/23/2020 15:50:09]] epoch 10 / 10, batch 100%, train loss 0.9491, valid loss 0.9953, cost 0.2 min\n",
      "[[04/23/2020 15:50:09]] training finished, best epoch 6, best valid loss 0.9878\n"
     ]
    }
   ],
   "source": [
    "model = BasicSeq2Seq(series_dim=1, hidden_dim=128, enc_num=15, \n",
    "                enc_cat=[(3049, 16), (7, 1), (10, 1), (3, 1), (3, 1), (32, 4), (5, 1), (5, 1), (3, 1)],\n",
    "                dec_num=13,\n",
    "                dec_cat=[(3049, 16), (7, 1), (10, 1), (3, 1), (3, 1), (32, 4), (5, 1), (5, 1), (3, 1)],\n",
    "                dropout=0.2, n_layers=2, rnn_type=\"lstm\"\n",
    "               )\n",
    "opt = Adam(model.parameters(), 0.002)\n",
    "loss_fn = RMSELoss()\n",
    "lr_scheduler = ReduceCosineAnnealingLR(opt, 64, eta_min=1e-4, gamma=0.998)\n",
    "model.cuda()\n",
    "learner = Learner(model, opt, loss_fn, './m5_rnn', verbose=-1, lr_scheduler=lr_scheduler)\n",
    "learner.fit(10, train_dl, valid_dl, patient=64, start_save=100, early_stopping=False)"
   ]
  },
  {
   "cell_type": "code",
   "execution_count": 80,
   "metadata": {},
   "outputs": [
    {
     "name": "stderr",
     "output_type": "stream",
     "text": [
      "[[04/23/2020 15:51:02]] start training >>>>>>>>>>>  see log: tensorboard --logdir ./m5_rnn\\logs\n",
      "[[04/23/2020 15:51:17]] epoch 11 / 110, batch 100%, train loss 0.9468, valid loss 0.9959, cost 0.2 min\n",
      "[[04/23/2020 15:51:31]] epoch 12 / 110, batch 100%, train loss 0.9409, valid loss 0.9867, cost 0.2 min\n",
      "[[04/23/2020 15:51:45]] epoch 13 / 110, batch 100%, train loss 0.9452, valid loss 0.9916, cost 0.2 min\n",
      "[[04/23/2020 15:51:59]] epoch 14 / 110, batch 100%, train loss 0.9414, valid loss 0.9965, cost 0.2 min\n",
      "[[04/23/2020 15:52:13]] epoch 15 / 110, batch 100%, train loss 0.9370, valid loss 0.9918, cost 0.2 min\n",
      "[[04/23/2020 15:52:26]] epoch 16 / 110, batch 100%, train loss 0.9399, valid loss 0.9917, cost 0.2 min\n",
      "[[04/23/2020 15:52:40]] epoch 17 / 110, batch 100%, train loss 0.9382, valid loss 0.9949, cost 0.2 min\n",
      "[[04/23/2020 15:52:54]] epoch 18 / 110, batch 100%, train loss 0.9315, valid loss 0.9968, cost 0.2 min\n",
      "[[04/23/2020 15:53:08]] epoch 19 / 110, batch 100%, train loss 0.9233, valid loss 0.9959, cost 0.2 min\n",
      "[[04/23/2020 15:53:21]] epoch 20 / 110, batch 100%, train loss 0.9244, valid loss 0.9959, cost 0.2 min\n",
      "[[04/23/2020 15:53:35]] epoch 21 / 110, batch 100%, train loss 0.9222, valid loss 0.9973, cost 0.2 min\n",
      "[[04/23/2020 15:53:49]] epoch 22 / 110, batch 100%, train loss 0.9231, valid loss 0.9978, cost 0.2 min\n",
      "[[04/23/2020 15:54:02]] epoch 23 / 110, batch 100%, train loss 0.9217, valid loss 1.0003, cost 0.2 min\n",
      "[[04/23/2020 15:54:16]] epoch 24 / 110, batch 100%, train loss 0.9208, valid loss 1.0043, cost 0.2 min\n",
      "[[04/23/2020 15:54:30]] epoch 25 / 110, batch 100%, train loss 0.9264, valid loss 1.0031, cost 0.2 min\n",
      "[[04/23/2020 15:54:44]] epoch 26 / 110, batch 100%, train loss 0.9057, valid loss 1.0048, cost 0.2 min\n",
      "[[04/23/2020 15:54:58]] epoch 27 / 110, batch 100%, train loss 0.9206, valid loss 1.0042, cost 0.2 min\n",
      "[[04/23/2020 15:55:12]] epoch 28 / 110, batch 100%, train loss 0.9246, valid loss 1.0013, cost 0.2 min\n",
      "[[04/23/2020 15:55:25]] epoch 29 / 110, batch 100%, train loss 0.9207, valid loss 1.0098, cost 0.2 min\n",
      "[[04/23/2020 15:55:39]] epoch 30 / 110, batch 100%, train loss 0.9127, valid loss 1.0038, cost 0.2 min\n",
      "[[04/23/2020 15:55:52]] epoch 31 / 110, batch 100%, train loss 0.9102, valid loss 1.0077, cost 0.2 min\n",
      "[[04/23/2020 15:56:06]] epoch 32 / 110, batch 100%, train loss 0.9063, valid loss 1.0080, cost 0.2 min\n",
      "[[04/23/2020 15:56:20]] epoch 33 / 110, batch 100%, train loss 0.8939, valid loss 1.0111, cost 0.2 min\n",
      "[[04/23/2020 15:56:35]] epoch 34 / 110, batch 100%, train loss 0.9070, valid loss 1.0163, cost 0.2 min\n",
      "[[04/23/2020 15:56:49]] epoch 35 / 110, batch 100%, train loss 0.8944, valid loss 1.0140, cost 0.2 min\n",
      "[[04/23/2020 15:57:02]] epoch 36 / 110, batch 100%, train loss 0.8957, valid loss 1.0126, cost 0.2 min\n",
      "[[04/23/2020 15:57:16]] epoch 37 / 110, batch 100%, train loss 0.8842, valid loss 1.0129, cost 0.2 min\n",
      "[[04/23/2020 15:57:29]] epoch 38 / 110, batch 100%, train loss 0.8841, valid loss 1.0212, cost 0.2 min\n",
      "[[04/23/2020 15:57:42]] epoch 39 / 110, batch 100%, train loss 0.8845, valid loss 1.0214, cost 0.2 min\n",
      "[[04/23/2020 15:57:56]] epoch 40 / 110, batch 100%, train loss 0.8802, valid loss 1.0194, cost 0.2 min\n",
      "[[04/23/2020 15:58:09]] epoch 41 / 110, batch 100%, train loss 0.8874, valid loss 1.0221, cost 0.2 min\n",
      "[[04/23/2020 15:58:23]] epoch 42 / 110, batch 100%, train loss 0.8838, valid loss 1.0212, cost 0.2 min\n",
      "[[04/23/2020 15:58:37]] epoch 43 / 110, batch 100%, train loss 0.8775, valid loss 1.0279, cost 0.2 min\n",
      "[[04/23/2020 15:58:50]] epoch 44 / 110, batch 100%, train loss 0.8760, valid loss 1.0239, cost 0.2 min\n",
      "[[04/23/2020 15:59:03]] epoch 45 / 110, batch 100%, train loss 0.8735, valid loss 1.0303, cost 0.2 min\n",
      "[[04/23/2020 15:59:17]] epoch 46 / 110, batch 100%, train loss 0.8608, valid loss 1.0298, cost 0.2 min\n",
      "[[04/23/2020 15:59:31]] epoch 47 / 110, batch 100%, train loss 0.8588, valid loss 1.0305, cost 0.2 min\n",
      "[[04/23/2020 15:59:45]] epoch 48 / 110, batch 100%, train loss 0.8586, valid loss 1.0335, cost 0.2 min\n",
      "[[04/23/2020 15:59:59]] epoch 49 / 110, batch 100%, train loss 0.8624, valid loss 1.0337, cost 0.2 min\n",
      "[[04/23/2020 16:00:13]] epoch 50 / 110, batch 100%, train loss 0.8631, valid loss 1.0375, cost 0.2 min\n",
      "[[04/23/2020 16:00:26]] epoch 51 / 110, batch 100%, train loss 0.8507, valid loss 1.0417, cost 0.2 min\n",
      "[[04/23/2020 16:00:40]] epoch 52 / 110, batch 100%, train loss 0.8584, valid loss 1.0383, cost 0.2 min\n",
      "[[04/23/2020 16:00:54]] epoch 53 / 110, batch 100%, train loss 0.8588, valid loss 1.0361, cost 0.2 min\n",
      "[[04/23/2020 16:01:07]] epoch 54 / 110, batch 100%, train loss 0.8573, valid loss 1.0375, cost 0.2 min\n",
      "[[04/23/2020 16:01:21]] epoch 55 / 110, batch 100%, train loss 0.8597, valid loss 1.0383, cost 0.2 min\n",
      "[[04/23/2020 16:01:35]] epoch 56 / 110, batch 100%, train loss 0.8558, valid loss 1.0401, cost 0.2 min\n",
      "[[04/23/2020 16:01:48]] epoch 57 / 110, batch 100%, train loss 0.8480, valid loss 1.0416, cost 0.2 min\n",
      "[[04/23/2020 16:02:02]] epoch 58 / 110, batch 100%, train loss 0.8485, valid loss 1.0418, cost 0.2 min\n",
      "[[04/23/2020 16:02:16]] epoch 59 / 110, batch 100%, train loss 0.8472, valid loss 1.0417, cost 0.2 min\n",
      "[[04/23/2020 16:02:29]] epoch 60 / 110, batch 100%, train loss 0.8373, valid loss 1.0444, cost 0.2 min\n",
      "[[04/23/2020 16:02:43]] epoch 61 / 110, batch 100%, train loss 0.8325, valid loss 1.0435, cost 0.2 min\n",
      "[[04/23/2020 16:02:57]] epoch 62 / 110, batch 100%, train loss 0.8489, valid loss 1.0438, cost 0.2 min\n",
      "[[04/23/2020 16:03:10]] epoch 63 / 110, batch 100%, train loss 0.8383, valid loss 1.0459, cost 0.2 min\n",
      "[[04/23/2020 16:03:24]] epoch 64 / 110, batch 100%, train loss 0.8366, valid loss 1.0461, cost 0.2 min\n",
      "[[04/23/2020 16:03:37]] epoch 65 / 110, batch 100%, train loss 0.8413, valid loss 1.0462, cost 0.2 min\n",
      "[[04/23/2020 16:03:51]] epoch 66 / 110, batch 100%, train loss 0.8264, valid loss 1.0474, cost 0.2 min\n",
      "[[04/23/2020 16:04:04]] epoch 67 / 110, batch 100%, train loss 0.8321, valid loss 1.0468, cost 0.2 min\n",
      "[[04/23/2020 16:04:18]] epoch 68 / 110, batch 100%, train loss 0.8319, valid loss 1.0478, cost 0.2 min\n",
      "[[04/23/2020 16:04:32]] epoch 69 / 110, batch 100%, train loss 0.8389, valid loss 1.0469, cost 0.2 min\n",
      "[[04/23/2020 16:04:46]] epoch 70 / 110, batch 100%, train loss 0.8335, valid loss 1.0477, cost 0.2 min\n",
      "[[04/23/2020 16:04:59]] epoch 71 / 110, batch 100%, train loss 0.8606, valid loss 1.0432, cost 0.2 min\n",
      "[[04/23/2020 16:05:13]] epoch 72 / 110, batch 100%, train loss 0.8401, valid loss 1.0453, cost 0.2 min\n",
      "[[04/23/2020 16:05:27]] epoch 73 / 110, batch 100%, train loss 0.8461, valid loss 1.0456, cost 0.2 min\n",
      "[[04/23/2020 16:05:41]] epoch 74 / 110, batch 100%, train loss 0.8344, valid loss 1.0470, cost 0.2 min\n",
      "[[04/23/2020 16:05:55]] epoch 75 / 110, batch 100%, train loss 0.8316, valid loss 1.0469, cost 0.2 min\n",
      "[[04/23/2020 16:06:09]] epoch 76 / 110, batch 100%, train loss 0.8510, valid loss 1.0470, cost 0.2 min\n",
      "[[04/23/2020 16:06:23]] epoch 77 / 110, batch 100%, train loss 0.8385, valid loss 1.0449, cost 0.2 min\n",
      "[[04/23/2020 16:06:36]] epoch 78 / 110, batch 100%, train loss 0.8294, valid loss 1.0540, cost 0.2 min\n",
      "[[04/23/2020 16:06:49]] epoch 79 / 110, batch 100%, train loss 0.8299, valid loss 1.0458, cost 0.2 min\n",
      "[[04/23/2020 16:07:03]] epoch 80 / 110, batch 100%, train loss 0.8385, valid loss 1.0538, cost 0.2 min\n",
      "[[04/23/2020 16:07:16]] epoch 81 / 110, batch 100%, train loss 0.8409, valid loss 1.0502, cost 0.2 min\n",
      "[[04/23/2020 16:07:30]] epoch 82 / 110, batch 100%, train loss 0.8229, valid loss 1.0500, cost 0.2 min\n",
      "[[04/23/2020 16:07:44]] epoch 83 / 110, batch 100%, train loss 0.8262, valid loss 1.0521, cost 0.2 min\n",
      "[[04/23/2020 16:07:58]] epoch 84 / 110, batch 100%, train loss 0.8285, valid loss 1.0493, cost 0.2 min\n",
      "[[04/23/2020 16:08:12]] epoch 85 / 110, batch 100%, train loss 0.8170, valid loss 1.0511, cost 0.2 min\n",
      "[[04/23/2020 16:08:26]] epoch 86 / 110, batch 100%, train loss 0.8288, valid loss 1.0506, cost 0.2 min\n",
      "[[04/23/2020 16:08:40]] epoch 87 / 110, batch 100%, train loss 0.8066, valid loss 1.0531, cost 0.2 min\n",
      "[[04/23/2020 16:08:53]] epoch 88 / 110, batch 100%, train loss 0.8117, valid loss 1.0643, cost 0.2 min\n"
     ]
    },
    {
     "name": "stderr",
     "output_type": "stream",
     "text": [
      "[[04/23/2020 16:09:07]] epoch 89 / 110, batch 100%, train loss 0.8350, valid loss 1.0516, cost 0.2 min\n",
      "[[04/23/2020 16:09:20]] epoch 90 / 110, batch 100%, train loss 0.8147, valid loss 1.0592, cost 0.2 min\n",
      "[[04/23/2020 16:09:34]] epoch 91 / 110, batch 100%, train loss 0.8275, valid loss 1.0545, cost 0.2 min\n",
      "[[04/23/2020 16:09:48]] epoch 92 / 110, batch 100%, train loss 0.8348, valid loss 1.0562, cost 0.2 min\n",
      "[[04/23/2020 16:10:01]] epoch 93 / 110, batch 100%, train loss 0.8187, valid loss 1.0501, cost 0.2 min\n",
      "[[04/23/2020 16:10:15]] epoch 94 / 110, batch 100%, train loss 0.7990, valid loss 1.0667, cost 0.2 min\n",
      "[[04/23/2020 16:10:28]] epoch 95 / 110, batch 100%, train loss 0.7936, valid loss 1.0629, cost 0.2 min\n",
      "[[04/23/2020 16:10:42]] epoch 96 / 110, batch 100%, train loss 0.8074, valid loss 1.0622, cost 0.2 min\n",
      "[[04/23/2020 16:10:56]] epoch 97 / 110, batch 100%, train loss 0.7961, valid loss 1.0639, cost 0.2 min\n",
      "[[04/23/2020 16:11:10]] epoch 98 / 110, batch 100%, train loss 0.8252, valid loss 1.0498, cost 0.2 min\n",
      "[[04/23/2020 16:11:24]] epoch 99 / 110, batch 100%, train loss 0.8183, valid loss 1.0563, cost 0.2 min\n",
      "[[04/23/2020 16:11:38]] epoch 100 / 110, batch 100%, train loss 0.8225, valid loss 1.0535, cost 0.2 min\n",
      "[[04/23/2020 16:11:51]] epoch 101 / 110, batch 100%, train loss 0.7923, valid loss 1.0573, cost 0.2 min\n",
      "[[04/23/2020 16:12:05]] epoch 102 / 110, batch 100%, train loss 0.8073, valid loss 1.0620, cost 0.2 min\n",
      "[[04/23/2020 16:12:19]] epoch 103 / 110, batch 100%, train loss 0.8264, valid loss 1.0478, cost 0.2 min\n",
      "[[04/23/2020 16:12:33]] epoch 104 / 110, batch 100%, train loss 0.7854, valid loss 1.0547, cost 0.2 min\n",
      "[[04/23/2020 16:12:46]] epoch 105 / 110, batch 100%, train loss 0.7987, valid loss 1.0583, cost 0.2 min\n",
      "[[04/23/2020 16:12:59]] epoch 106 / 110, batch 100%, train loss 0.8117, valid loss 1.0629, cost 0.2 min\n",
      "[[04/23/2020 16:13:13]] epoch 107 / 110, batch 100%, train loss 0.8241, valid loss 1.0495, cost 0.2 min\n",
      "[[04/23/2020 16:13:27]] epoch 108 / 110, batch 100%, train loss 0.7917, valid loss 1.0663, cost 0.2 min\n",
      "[[04/23/2020 16:13:40]] epoch 109 / 110, batch 100%, train loss 0.7786, valid loss 1.0659, cost 0.2 min\n",
      "[[04/23/2020 16:13:54]] epoch 110 / 110, batch 100%, train loss 0.8059, valid loss 1.0578, cost 0.2 min\n",
      "[[04/23/2020 16:13:54]] training finished, best epoch 12, best valid loss 0.9867\n"
     ]
    }
   ],
   "source": [
    "learner.fit(100, train_dl, valid_dl, patient=64, start_save=100, early_stopping=False)"
   ]
  },
  {
   "cell_type": "code",
   "execution_count": 81,
   "metadata": {},
   "outputs": [],
   "source": [
    "def predict_submission(model, test_dl):\n",
    "    model.eval()\n",
    "    test_dl.test()\n",
    "    preds = []\n",
    "    for batch in test_dl:\n",
    "        preds.append(model.predict(**batch).cpu().detach().numpy())\n",
    "    preds = np.concatenate(preds, axis=0).squeeze()\n",
    "    preds = np.expm1(preds * np.expand_dims(series_std, 1) + np.expand_dims(series_mean, 1))\n",
    "    return preds\n",
    "\n",
    "preds = predict_submission(learner.model, test_dl)\n",
    "top1 = pd.read_csv(\"../data/submission_top1.csv\").set_index(\"id\").loc[df_series.index]"
   ]
  },
  {
   "cell_type": "code",
   "execution_count": 82,
   "metadata": {},
   "outputs": [],
   "source": [
    "def plot(idx):\n",
    "    plt.figure(figsize=(16, 5))\n",
    "#     plt.plot(df_series.iloc[idx, -56:-28].values)\n",
    "    plt.plot(preds[idx], label='wave')\n",
    "    plt.plot(top1.iloc[idx, 1:].values, label='lgb')\n",
    "#     plt.title(f\"enc {df_xy.iloc[idx, -56:-28].values.mean():.2f} pred {preds[idx].mean():.2f} top1 mean {top1.iloc[idx, 1:].values.mean():.2f}\")\n",
    "    plt.legend()"
   ]
  },
  {
   "cell_type": "code",
   "execution_count": 86,
   "metadata": {},
   "outputs": [
    {
     "data": {
      "image/png": "[encoded data removed]",
      "text/plain": [
       "<Figure size 1152x360 with 1 Axes>"
      ]
     },
     "metadata": {
      "needs_background": "light"
     },
     "output_type": "display_data"
    }
   ],
   "source": [
    "plot(2)"
   ]
  },
  {
   "cell_type": "code",
   "execution_count": 89,
   "metadata": {},
   "outputs": [],
   "source": [
    "preds = predict_submission(learner.model, valid_dl)"
   ]
  },
  {
   "cell_type": "code",
   "execution_count": 104,
   "metadata": {},
   "outputs": [
    {
     "data": {
      "text/plain": [
       "0      0.541747\n",
       "1      0.070160\n",
       "2      0.215761\n",
       "3      1.381991\n",
       "4      0.640397\n",
       "         ...   \n",
       "995    1.288999\n",
       "996    4.578080\n",
       "997    0.642700\n",
       "998    1.773958\n",
       "999    0.054329\n",
       "Length: 1000, dtype: float64"
      ]
     },
     "execution_count": 104,
     "metadata": {},
     "output_type": "execute_result"
    }
   ],
   "source": [
    "pd.DataFrame(preds).mean(1)"
   ]
  },
  {
   "cell_type": "code",
   "execution_count": 105,
   "metadata": {},
   "outputs": [
    {
     "data": {
      "text/plain": [
       "0      0.289408\n",
       "1     -0.408422\n",
       "2      0.327670\n",
       "3     -0.124861\n",
       "4      0.210488\n",
       "         ...   \n",
       "995    0.365585\n",
       "996   -0.237647\n",
       "997   -0.934368\n",
       "998    0.147295\n",
       "999   -0.367463\n",
       "Length: 1000, dtype: float32"
      ]
     },
     "execution_count": 105,
     "metadata": {},
     "output_type": "execute_result"
    }
   ],
   "source": [
    "pd.DataFrame(valid_dl.xy.values.squeeze()[:, -28:]).mean(1)"
   ]
  },
  {
   "cell_type": "code",
   "execution_count": 88,
   "metadata": {},
   "outputs": [
    {
     "data": {
      "text/plain": [
       "1.1953029063497234"
      ]
     },
     "execution_count": 88,
     "metadata": {},
     "output_type": "execute_result"
    }
   ],
   "source": [
    "top1.mean().mean()"
   ]
  },
  {
   "cell_type": "code",
   "execution_count": null,
   "metadata": {},
   "outputs": [],
   "source": [
    "\n",
    "# plt.figure(figsize=(16, 8))\n",
    "# plt.plot(pd.read_csv(\"./data/submission_top1.csv\").mean(1).iloc[:30490], alpha=0.5, label='lgb')\n",
    "# plt.plot(pd.DataFrame(preds).mean(1), label='wave', alpha=0.5)\n",
    "# plt.figure(figsize=(16, 2))\n",
    "# plt.plot(df_xy.dropna(axis=1).iloc[:, -28:].mean(1).values, label='enc', alpha=0.5)\n",
    "# plt.figure(figsize=(16, 2))\n",
    "# plt.plot(df_xy.dropna(axis=1).iloc[:, ].mean(1).values, label='all', alpha=0.5)\n",
    "# plt.figure(figsize=(16, 2))\n",
    "# plt.plot(xy_mean)\n",
    "# plt.legend()\n",
    "\n",
    "\n",
    "\n",
    "# sort_id = pd.Series(dict(zip(np.arange(df_xy.shape[0]), sub_ids.sort_values().index.values))).values\n",
    "\n",
    "# pd.DataFrame(preds[sort_id]).mean(axis=1)\n",
    "\n",
    "# pd.DataFrame(preds).mean(axis=1)\n",
    "\n",
    "# df_xy.mean(axis=1)\n",
    "\n",
    "# pd.DataFrame({'sub_ids': sub_ids, 'xy_ids': xy_ids})\n",
    "\n",
    "# pd.read_csv(\"./data/submission_top1.csv\").set_index(\"id\").mean().mean()\n",
    "\n",
    "# pd.DataFrame(sub_ids).reset_index()\n",
    "\n",
    "# xy_ids = pd.Series(df_xy.index.values)\n",
    "\n",
    "# df_sub.iloc[: preds.shape[0], 1:] = preds\n",
    "# df_sub.iloc[preds.shape[0]:, 1:] = preds\n",
    "\n",
    "# df_sub.to_csv(\"./data/sub_0412_1.csv\", index=None)\n",
    "\n"
   ]
  }
 ],
 "metadata": {
  "kernelspec": {
   "display_name": "Python [conda env:dl]",
   "language": "python",
   "name": "conda-env-dl-py"
  },
  "language_info": {
   "codemirror_mode": {
    "name": "ipython",
    "version": 3
   },
   "file_extension": ".py",
   "mimetype": "text/x-python",
   "name": "python",
   "nbconvert_exporter": "python",
   "pygments_lexer": "ipython3",
   "version": "3.6.9"
  }
 },
 "nbformat": 4,
 "nbformat_minor": 2
}
