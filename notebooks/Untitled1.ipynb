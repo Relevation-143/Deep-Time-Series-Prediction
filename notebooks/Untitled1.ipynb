{
 "cells": [
  {
   "cell_type": "code",
   "execution_count": 39,
   "metadata": {},
   "outputs": [
    {
     "ename": "ModuleNotFoundError",
     "evalue": "No module named '__main__.deepseries'; '__main__' is not a package",
     "output_type": "error",
     "traceback": [
      "\u001b[1;31m---------------------------------------------------------------------------\u001b[0m",
      "\u001b[1;31mModuleNotFoundError\u001b[0m                       Traceback (most recent call last)",
      "\u001b[1;32m<ipython-input-39-7d02efb4efde>\u001b[0m in \u001b[0;36m<module>\u001b[1;34m\u001b[0m\n\u001b[0;32m      3\u001b[0m \u001b[0mget_ipython\u001b[0m\u001b[1;33m(\u001b[0m\u001b[1;33m)\u001b[0m\u001b[1;33m.\u001b[0m\u001b[0mrun_line_magic\u001b[0m\u001b[1;33m(\u001b[0m\u001b[1;34m'matplotlib'\u001b[0m\u001b[1;33m,\u001b[0m \u001b[1;34m'inline'\u001b[0m\u001b[1;33m)\u001b[0m\u001b[1;33m\u001b[0m\u001b[1;33m\u001b[0m\u001b[0m\n\u001b[0;32m      4\u001b[0m \u001b[1;33m\u001b[0m\u001b[0m\n\u001b[1;32m----> 5\u001b[1;33m \u001b[1;32mfrom\u001b[0m \u001b[1;33m.\u001b[0m\u001b[0mdeepseries\u001b[0m\u001b[1;33m.\u001b[0m\u001b[0mmodels\u001b[0m \u001b[1;32mimport\u001b[0m \u001b[0mWaveNet\u001b[0m\u001b[1;33m\u001b[0m\u001b[1;33m\u001b[0m\u001b[0m\n\u001b[0m",
      "\u001b[1;31mModuleNotFoundError\u001b[0m: No module named '__main__.deepseries'; '__main__' is not a package"
     ]
    }
   ],
   "source": [
    "import pandas as pd\n",
    "import numpy as np\n",
    "%matplotlib inline\n",
    "\n",
    "from deepseries.models import WaveNet"
   ]
  },
  {
   "cell_type": "code",
   "execution_count": 2,
   "metadata": {},
   "outputs": [],
   "source": [
    "power = pd.read_csv(\"../data/power.csv\")"
   ]
  },
  {
   "cell_type": "code",
   "execution_count": 4,
   "metadata": {},
   "outputs": [
    {
     "data": {
      "text/plain": [
       "cid\n",
       "91E0B6DC00B91783E0530BC8100A0E30    2018-05-24 00:00:00\n",
       "91E0B6DC00BC1783E0530BC8100A0E30    2018-10-15 00:00:00\n",
       "91E0B6DC00C91783E0530BC8100A0E30    2018-12-29 00:00:00\n",
       "91E0B6DC00CB1783E0530BC8100A0E30    2019-01-11 00:00:00\n",
       "91E0B6DC00DA1783E0530BC8100A0E30    2019-02-27 00:00:00\n",
       "91E0B6DC00E31783E0530BC8100A0E30    2019-04-01 00:00:00\n",
       "91E0B6DC00E91783E0530BC8100A0E30    2019-11-08 00:00:00\n",
       "91E0B6DC01081783E0530BC8100A0E30    2019-05-13 00:00:00\n",
       "91E0B6DC01171783E0530BC8100A0E30    2019-07-18 00:00:00\n",
       "91E0B6DC01221783E0530BC8100A0E30    2019-07-05 00:00:00\n",
       "91E0B6DC013E1783E0530BC8100A0E30    2019-06-15 00:00:00\n",
       "91E0C8BAA12E259EE0530BC8100AFFB2    2019-08-06 00:00:00\n",
       "91E0C8BAA163259EE0530BC8100AFFB2    2019-06-28 00:00:00\n",
       "91E0C8BAA1A7259EE0530BC8100AFFB2    2019-08-14 00:00:00\n",
       "91E0C8BAA1A8259EE0530BC8100AFFB2    2019-08-15 00:00:00\n",
       "91E0C8BAA1B2259EE0530BC8100AFFB2    2018-09-03 00:00:00\n",
       "91E0C8BAA1B5259EE0530BC8100AFFB2    2018-09-03 00:00:00\n",
       "91E0C8BAA1B6259EE0530BC8100AFFB2    2018-06-29 00:00:00\n",
       "91E0C8BAA1B7259EE0530BC8100AFFB2    2018-11-07 00:00:00\n",
       "91E1E413742C0582E0530BC8100A3E6E    2019-07-31 00:00:00\n",
       "9AC089DEFCF45804E0530BC8100A23FC    2019-12-25 00:00:00\n",
       "Name: data_time, dtype: object"
      ]
     },
     "execution_count": 4,
     "metadata": {},
     "output_type": "execute_result"
    }
   ],
   "source": [
    "power.groupby(\"cid\")['data_time'].min()"
   ]
  },
  {
   "cell_type": "code",
   "execution_count": 9,
   "metadata": {},
   "outputs": [
    {
     "data": {
      "text/plain": [
       "<matplotlib.axes._subplots.AxesSubplot at 0x20780f8de10>"
      ]
     },
     "execution_count": 9,
     "metadata": {},
     "output_type": "execute_result"
    },
    {
     "data": {
      "image/png": "[encoded data removed]",
      "text/plain": [
       "<Figure size 432x288 with 1 Axes>"
      ]
     },
     "metadata": {
      "needs_background": "light"
     },
     "output_type": "display_data"
    }
   ],
   "source": [
    "power[power.cid == \"91E0B6DC00B91783E0530BC8100A0E30\"].set_index(\"data_time\").value.plot()"
   ]
  },
  {
   "cell_type": "code",
   "execution_count": 11,
   "metadata": {},
   "outputs": [],
   "source": [
    "data = power[power.cid == \"91E0B6DC00B91783E0530BC8100A0E30\"].drop([\"Unnamed: 0\", \"cid\"], axis=1)"
   ]
  },
  {
   "cell_type": "code",
   "execution_count": 13,
   "metadata": {},
   "outputs": [],
   "source": [
    "data['data_time'] = pd.to_datetime(data.data_time)"
   ]
  },
  {
   "cell_type": "code",
   "execution_count": 17,
   "metadata": {},
   "outputs": [],
   "source": [
    "data = data.set_index(\"data_time\").resample(\"15min\").mean().reset_index()"
   ]
  },
  {
   "cell_type": "code",
   "execution_count": 25,
   "metadata": {},
   "outputs": [],
   "source": [
    "data['is_null'] = data.value.isnull().astype(\"int\")\n",
    "data['is_zero'] = (data.value == 0).astype(\"int\")"
   ]
  },
  {
   "cell_type": "code",
   "execution_count": 26,
   "metadata": {},
   "outputs": [
    {
     "data": {
      "text/html": [
       "<div>\n",
       "<style scoped>\n",
       "    .dataframe tbody tr th:only-of-type {\n",
       "        vertical-align: middle;\n",
       "    }\n",
       "\n",
       "    .dataframe tbody tr th {\n",
       "        vertical-align: top;\n",
       "    }\n",
       "\n",
       "    .dataframe thead th {\n",
       "        text-align: right;\n",
       "    }\n",
       "</style>\n",
       "<table border=\"1\" class=\"dataframe\">\n",
       "  <thead>\n",
       "    <tr style=\"text-align: right;\">\n",
       "      <th></th>\n",
       "      <th>value</th>\n",
       "      <th>is_null</th>\n",
       "      <th>is_zero</th>\n",
       "    </tr>\n",
       "  </thead>\n",
       "  <tbody>\n",
       "    <tr>\n",
       "      <th>count</th>\n",
       "      <td>62976.000000</td>\n",
       "      <td>63168.000000</td>\n",
       "      <td>63168.000000</td>\n",
       "    </tr>\n",
       "    <tr>\n",
       "      <th>mean</th>\n",
       "      <td>3590.894272</td>\n",
       "      <td>0.003040</td>\n",
       "      <td>0.000142</td>\n",
       "    </tr>\n",
       "    <tr>\n",
       "      <th>std</th>\n",
       "      <td>1263.836364</td>\n",
       "      <td>0.055048</td>\n",
       "      <td>0.011936</td>\n",
       "    </tr>\n",
       "    <tr>\n",
       "      <th>min</th>\n",
       "      <td>0.000000</td>\n",
       "      <td>0.000000</td>\n",
       "      <td>0.000000</td>\n",
       "    </tr>\n",
       "    <tr>\n",
       "      <th>25%</th>\n",
       "      <td>3040.380000</td>\n",
       "      <td>0.000000</td>\n",
       "      <td>0.000000</td>\n",
       "    </tr>\n",
       "    <tr>\n",
       "      <th>50%</th>\n",
       "      <td>3785.879987</td>\n",
       "      <td>0.000000</td>\n",
       "      <td>0.000000</td>\n",
       "    </tr>\n",
       "    <tr>\n",
       "      <th>75%</th>\n",
       "      <td>4447.397500</td>\n",
       "      <td>0.000000</td>\n",
       "      <td>0.000000</td>\n",
       "    </tr>\n",
       "    <tr>\n",
       "      <th>max</th>\n",
       "      <td>6826.470000</td>\n",
       "      <td>1.000000</td>\n",
       "      <td>1.000000</td>\n",
       "    </tr>\n",
       "  </tbody>\n",
       "</table>\n",
       "</div>"
      ],
      "text/plain": [
       "              value       is_null       is_zero\n",
       "count  62976.000000  63168.000000  63168.000000\n",
       "mean    3590.894272      0.003040      0.000142\n",
       "std     1263.836364      0.055048      0.011936\n",
       "min        0.000000      0.000000      0.000000\n",
       "25%     3040.380000      0.000000      0.000000\n",
       "50%     3785.879987      0.000000      0.000000\n",
       "75%     4447.397500      0.000000      0.000000\n",
       "max     6826.470000      1.000000      1.000000"
      ]
     },
     "execution_count": 26,
     "metadata": {},
     "output_type": "execute_result"
    }
   ],
   "source": [
    "data.describe()"
   ]
  },
  {
   "cell_type": "code",
   "execution_count": 32,
   "metadata": {},
   "outputs": [],
   "source": [
    "data['value'] = np.log1p(data.value)"
   ]
  },
  {
   "cell_type": "code",
   "execution_count": 35,
   "metadata": {},
   "outputs": [],
   "source": [
    "mu = data.value[:-1440].mean()\n",
    "std = data.value[:-1440].std()\n",
    "\n",
    "data['value'] = (data.value - mu) / std"
   ]
  },
  {
   "cell_type": "code",
   "execution_count": 36,
   "metadata": {},
   "outputs": [
    {
     "data": {
      "text/html": [
       "<div>\n",
       "<style scoped>\n",
       "    .dataframe tbody tr th:only-of-type {\n",
       "        vertical-align: middle;\n",
       "    }\n",
       "\n",
       "    .dataframe tbody tr th {\n",
       "        vertical-align: top;\n",
       "    }\n",
       "\n",
       "    .dataframe thead th {\n",
       "        text-align: right;\n",
       "    }\n",
       "</style>\n",
       "<table border=\"1\" class=\"dataframe\">\n",
       "  <thead>\n",
       "    <tr style=\"text-align: right;\">\n",
       "      <th></th>\n",
       "      <th>data_time</th>\n",
       "      <th>value</th>\n",
       "      <th>is_null</th>\n",
       "      <th>is_zero</th>\n",
       "    </tr>\n",
       "  </thead>\n",
       "  <tbody>\n",
       "    <tr>\n",
       "      <th>0</th>\n",
       "      <td>2018-05-24 00:00:00</td>\n",
       "      <td>0.056481</td>\n",
       "      <td>0</td>\n",
       "      <td>0</td>\n",
       "    </tr>\n",
       "    <tr>\n",
       "      <th>1</th>\n",
       "      <td>2018-05-24 00:15:00</td>\n",
       "      <td>0.081105</td>\n",
       "      <td>0</td>\n",
       "      <td>0</td>\n",
       "    </tr>\n",
       "    <tr>\n",
       "      <th>2</th>\n",
       "      <td>2018-05-24 00:30:00</td>\n",
       "      <td>0.149026</td>\n",
       "      <td>0</td>\n",
       "      <td>0</td>\n",
       "    </tr>\n",
       "    <tr>\n",
       "      <th>3</th>\n",
       "      <td>2018-05-24 00:45:00</td>\n",
       "      <td>0.168729</td>\n",
       "      <td>0</td>\n",
       "      <td>0</td>\n",
       "    </tr>\n",
       "    <tr>\n",
       "      <th>4</th>\n",
       "      <td>2018-05-24 01:00:00</td>\n",
       "      <td>0.119331</td>\n",
       "      <td>0</td>\n",
       "      <td>0</td>\n",
       "    </tr>\n",
       "    <tr>\n",
       "      <th>...</th>\n",
       "      <td>...</td>\n",
       "      <td>...</td>\n",
       "      <td>...</td>\n",
       "      <td>...</td>\n",
       "    </tr>\n",
       "    <tr>\n",
       "      <th>63163</th>\n",
       "      <td>2020-03-11 22:45:00</td>\n",
       "      <td>0.539919</td>\n",
       "      <td>0</td>\n",
       "      <td>0</td>\n",
       "    </tr>\n",
       "    <tr>\n",
       "      <th>63164</th>\n",
       "      <td>2020-03-11 23:00:00</td>\n",
       "      <td>0.500894</td>\n",
       "      <td>0</td>\n",
       "      <td>0</td>\n",
       "    </tr>\n",
       "    <tr>\n",
       "      <th>63165</th>\n",
       "      <td>2020-03-11 23:15:00</td>\n",
       "      <td>0.471347</td>\n",
       "      <td>0</td>\n",
       "      <td>0</td>\n",
       "    </tr>\n",
       "    <tr>\n",
       "      <th>63166</th>\n",
       "      <td>2020-03-11 23:30:00</td>\n",
       "      <td>0.486844</td>\n",
       "      <td>0</td>\n",
       "      <td>0</td>\n",
       "    </tr>\n",
       "    <tr>\n",
       "      <th>63167</th>\n",
       "      <td>2020-03-11 23:45:00</td>\n",
       "      <td>0.501389</td>\n",
       "      <td>0</td>\n",
       "      <td>0</td>\n",
       "    </tr>\n",
       "  </tbody>\n",
       "</table>\n",
       "<p>63168 rows × 4 columns</p>\n",
       "</div>"
      ],
      "text/plain": [
       "                data_time     value  is_null  is_zero\n",
       "0     2018-05-24 00:00:00  0.056481        0        0\n",
       "1     2018-05-24 00:15:00  0.081105        0        0\n",
       "2     2018-05-24 00:30:00  0.149026        0        0\n",
       "3     2018-05-24 00:45:00  0.168729        0        0\n",
       "4     2018-05-24 01:00:00  0.119331        0        0\n",
       "...                   ...       ...      ...      ...\n",
       "63163 2020-03-11 22:45:00  0.539919        0        0\n",
       "63164 2020-03-11 23:00:00  0.500894        0        0\n",
       "63165 2020-03-11 23:15:00  0.471347        0        0\n",
       "63166 2020-03-11 23:30:00  0.486844        0        0\n",
       "63167 2020-03-11 23:45:00  0.501389        0        0\n",
       "\n",
       "[63168 rows x 4 columns]"
      ]
     },
     "execution_count": 36,
     "metadata": {},
     "output_type": "execute_result"
    }
   ],
   "source": [
    "data"
   ]
  },
  {
   "cell_type": "code",
   "execution_count": null,
   "metadata": {},
   "outputs": [],
   "source": []
  }
 ],
 "metadata": {
  "kernelspec": {
   "display_name": "Python [conda env:dl]",
   "language": "python",
   "name": "conda-env-dl-py"
  },
  "language_info": {
   "codemirror_mode": {
    "name": "ipython",
    "version": 3
   },
   "file_extension": ".py",
   "mimetype": "text/x-python",
   "name": "python",
   "nbconvert_exporter": "python",
   "pygments_lexer": "ipython3",
   "version": "3.6.9"
  }
 },
 "nbformat": 4,
 "nbformat_minor": 2
}
