{
 "cells": [
  {
   "cell_type": "code",
   "execution_count": 64,
   "metadata": {},
   "outputs": [],
   "source": [
    "import pandas as pd\n",
    "import numpy as np\n",
    "import matplotlib.pyplot as plt\n",
    "import seaborn as sns\n",
    "import lightgbm as lgb\n",
    "%matplotlib inline\n",
    "import torch\n",
    "from deepseries.models import Wave2WaveV1\n",
    "from deepseries.dataset import Property, TimeSeries, Seq2SeqDataLoader\n",
    "from deepseries.nn.loss import MSELoss, RMSELoss\n",
    "from deepseries.train import Learner\n",
    "from deepseries.optim import ReduceCosineAnnealingLR\n",
    "from deepseries.analysis import SeriesAnalysisModel\n",
    "from torch.optim import Adam\n",
    "from torch import nn\n",
    "import matplotlib as mpl\n",
    "from sklearn.metrics import mean_absolute_error\n",
    "import chinese_calendar as calendar\n",
    "import datetime as dt\n",
    "import tqdm\n",
    "import typing"
   ]
  },
  {
   "cell_type": "markdown",
   "metadata": {},
   "source": [
    "https://blog.csdn.net/claroja/article/details/70841382"
   ]
  },
  {
   "cell_type": "code",
   "execution_count": 118,
   "metadata": {},
   "outputs": [],
   "source": [
    "def make_lags(series, n_lags, smooth=False):\n",
    "    if isinstance(n_lags, typing.Iterable):\n",
    "        return np.stack([make_lags(series, l, smooth) for l in n_lags], axis=0)\n",
    "    else:\n",
    "        if n_lags < 2:\n",
    "            smooth = False\n",
    "        if smooth:\n",
    "            left = make_lags(series, n_lags-1, smooth=False)\n",
    "            mid = make_lags(series, n_lags, smooth=False)\n",
    "            right = make_lags(series, n_lags+1, smooth=False)\n",
    "            return left * 0.25 + mid * 0.5 + right * 0.25\n",
    "        else:\n",
    "            lag = np.zeros_like(series)\n",
    "            lag[:, n_lags:] = series[:, :-n_lags]\n",
    "            lag[:, :n_lags] = np.nan\n",
    "            return lag"
   ]
  },
  {
   "cell_type": "code",
   "execution_count": 2,
   "metadata": {},
   "outputs": [],
   "source": [
    "power = pd.read_csv('../data/df.csv', parse_dates=['data_time'])[['data_time', 'cid', 'value']]\n",
    "power = power.set_index(\"data_time\").groupby(\"cid\").resample(\"1H\").sum().reset_index()\n",
    "power = power.pivot(index='cid', columns='data_time', values='value')\n",
    "power = power.apply(np.log1p)"
   ]
  },
  {
   "cell_type": "code",
   "execution_count": 178,
   "metadata": {},
   "outputs": [],
   "source": [
    "power = power.T.resample(\"D\").mean().T"
   ]
  },
  {
   "cell_type": "code",
   "execution_count": 179,
   "metadata": {},
   "outputs": [
    {
     "data": {
      "text/html": [
       "<div>\n",
       "<style scoped>\n",
       "    .dataframe tbody tr th:only-of-type {\n",
       "        vertical-align: middle;\n",
       "    }\n",
       "\n",
       "    .dataframe tbody tr th {\n",
       "        vertical-align: top;\n",
       "    }\n",
       "\n",
       "    .dataframe thead th {\n",
       "        text-align: right;\n",
       "    }\n",
       "</style>\n",
       "<table border=\"1\" class=\"dataframe\">\n",
       "  <thead>\n",
       "    <tr style=\"text-align: right;\">\n",
       "      <th>data_time</th>\n",
       "      <th>2017-04-30</th>\n",
       "      <th>2017-05-01</th>\n",
       "      <th>2017-05-02</th>\n",
       "      <th>2017-05-03</th>\n",
       "      <th>2017-05-04</th>\n",
       "      <th>2017-05-05</th>\n",
       "      <th>2017-05-06</th>\n",
       "      <th>2017-05-07</th>\n",
       "      <th>2017-05-08</th>\n",
       "      <th>2017-05-09</th>\n",
       "      <th>...</th>\n",
       "      <th>2020-04-06</th>\n",
       "      <th>2020-04-07</th>\n",
       "      <th>2020-04-08</th>\n",
       "      <th>2020-04-09</th>\n",
       "      <th>2020-04-10</th>\n",
       "      <th>2020-04-11</th>\n",
       "      <th>2020-04-12</th>\n",
       "      <th>2020-04-13</th>\n",
       "      <th>2020-04-14</th>\n",
       "      <th>2020-04-15</th>\n",
       "    </tr>\n",
       "    <tr>\n",
       "      <th>cid</th>\n",
       "      <th></th>\n",
       "      <th></th>\n",
       "      <th></th>\n",
       "      <th></th>\n",
       "      <th></th>\n",
       "      <th></th>\n",
       "      <th></th>\n",
       "      <th></th>\n",
       "      <th></th>\n",
       "      <th></th>\n",
       "      <th></th>\n",
       "      <th></th>\n",
       "      <th></th>\n",
       "      <th></th>\n",
       "      <th></th>\n",
       "      <th></th>\n",
       "      <th></th>\n",
       "      <th></th>\n",
       "      <th></th>\n",
       "      <th></th>\n",
       "      <th></th>\n",
       "    </tr>\n",
       "  </thead>\n",
       "  <tbody>\n",
       "    <tr>\n",
       "      <th>91E0B6DC00B41783E0530BC8100A0E30</th>\n",
       "      <td>9.165613</td>\n",
       "      <td>9.122549</td>\n",
       "      <td>8.779039</td>\n",
       "      <td>9.056589</td>\n",
       "      <td>9.247718</td>\n",
       "      <td>9.366252</td>\n",
       "      <td>8.8696</td>\n",
       "      <td>8.659918</td>\n",
       "      <td>9.054349</td>\n",
       "      <td>9.399012</td>\n",
       "      <td>...</td>\n",
       "      <td>8.923440</td>\n",
       "      <td>8.990429</td>\n",
       "      <td>9.164819</td>\n",
       "      <td>9.056109</td>\n",
       "      <td>9.040329</td>\n",
       "      <td>8.966581</td>\n",
       "      <td>8.965521</td>\n",
       "      <td>9.055462</td>\n",
       "      <td>9.148848</td>\n",
       "      <td>9.066051</td>\n",
       "    </tr>\n",
       "    <tr>\n",
       "      <th>91E0B6DC00B51783E0530BC8100A0E30</th>\n",
       "      <td>NaN</td>\n",
       "      <td>NaN</td>\n",
       "      <td>NaN</td>\n",
       "      <td>NaN</td>\n",
       "      <td>NaN</td>\n",
       "      <td>NaN</td>\n",
       "      <td>NaN</td>\n",
       "      <td>NaN</td>\n",
       "      <td>NaN</td>\n",
       "      <td>NaN</td>\n",
       "      <td>...</td>\n",
       "      <td>8.657216</td>\n",
       "      <td>8.613868</td>\n",
       "      <td>8.621840</td>\n",
       "      <td>8.638846</td>\n",
       "      <td>8.673032</td>\n",
       "      <td>8.713400</td>\n",
       "      <td>8.694298</td>\n",
       "      <td>8.654953</td>\n",
       "      <td>8.651637</td>\n",
       "      <td>8.674853</td>\n",
       "    </tr>\n",
       "    <tr>\n",
       "      <th>91E0B6DC00B91783E0530BC8100A0E30</th>\n",
       "      <td>NaN</td>\n",
       "      <td>NaN</td>\n",
       "      <td>NaN</td>\n",
       "      <td>NaN</td>\n",
       "      <td>NaN</td>\n",
       "      <td>NaN</td>\n",
       "      <td>NaN</td>\n",
       "      <td>NaN</td>\n",
       "      <td>NaN</td>\n",
       "      <td>NaN</td>\n",
       "      <td>...</td>\n",
       "      <td>9.785156</td>\n",
       "      <td>9.790294</td>\n",
       "      <td>9.785705</td>\n",
       "      <td>9.773175</td>\n",
       "      <td>9.810464</td>\n",
       "      <td>9.792530</td>\n",
       "      <td>9.539644</td>\n",
       "      <td>9.674877</td>\n",
       "      <td>9.807637</td>\n",
       "      <td>9.819162</td>\n",
       "    </tr>\n",
       "    <tr>\n",
       "      <th>91E0B6DC00BA1783E0530BC8100A0E30</th>\n",
       "      <td>NaN</td>\n",
       "      <td>NaN</td>\n",
       "      <td>NaN</td>\n",
       "      <td>NaN</td>\n",
       "      <td>NaN</td>\n",
       "      <td>NaN</td>\n",
       "      <td>NaN</td>\n",
       "      <td>NaN</td>\n",
       "      <td>NaN</td>\n",
       "      <td>NaN</td>\n",
       "      <td>...</td>\n",
       "      <td>10.381383</td>\n",
       "      <td>10.383164</td>\n",
       "      <td>10.362162</td>\n",
       "      <td>10.492598</td>\n",
       "      <td>10.382878</td>\n",
       "      <td>10.368820</td>\n",
       "      <td>10.370510</td>\n",
       "      <td>10.371354</td>\n",
       "      <td>10.369218</td>\n",
       "      <td>10.370089</td>\n",
       "    </tr>\n",
       "    <tr>\n",
       "      <th>91E0B6DC00BB1783E0530BC8100A0E30</th>\n",
       "      <td>NaN</td>\n",
       "      <td>NaN</td>\n",
       "      <td>NaN</td>\n",
       "      <td>NaN</td>\n",
       "      <td>NaN</td>\n",
       "      <td>NaN</td>\n",
       "      <td>NaN</td>\n",
       "      <td>NaN</td>\n",
       "      <td>NaN</td>\n",
       "      <td>NaN</td>\n",
       "      <td>...</td>\n",
       "      <td>8.556903</td>\n",
       "      <td>8.525740</td>\n",
       "      <td>8.616381</td>\n",
       "      <td>8.620225</td>\n",
       "      <td>8.715549</td>\n",
       "      <td>8.683568</td>\n",
       "      <td>8.679436</td>\n",
       "      <td>8.559279</td>\n",
       "      <td>8.670421</td>\n",
       "      <td>8.663905</td>\n",
       "    </tr>\n",
       "    <tr>\n",
       "      <th>...</th>\n",
       "      <td>...</td>\n",
       "      <td>...</td>\n",
       "      <td>...</td>\n",
       "      <td>...</td>\n",
       "      <td>...</td>\n",
       "      <td>...</td>\n",
       "      <td>...</td>\n",
       "      <td>...</td>\n",
       "      <td>...</td>\n",
       "      <td>...</td>\n",
       "      <td>...</td>\n",
       "      <td>...</td>\n",
       "      <td>...</td>\n",
       "      <td>...</td>\n",
       "      <td>...</td>\n",
       "      <td>...</td>\n",
       "      <td>...</td>\n",
       "      <td>...</td>\n",
       "      <td>...</td>\n",
       "      <td>...</td>\n",
       "      <td>...</td>\n",
       "    </tr>\n",
       "    <tr>\n",
       "      <th>91E0C8BAA1C5259EE0530BC8100AFFB2</th>\n",
       "      <td>NaN</td>\n",
       "      <td>NaN</td>\n",
       "      <td>NaN</td>\n",
       "      <td>NaN</td>\n",
       "      <td>NaN</td>\n",
       "      <td>NaN</td>\n",
       "      <td>NaN</td>\n",
       "      <td>NaN</td>\n",
       "      <td>NaN</td>\n",
       "      <td>NaN</td>\n",
       "      <td>...</td>\n",
       "      <td>7.713277</td>\n",
       "      <td>7.673026</td>\n",
       "      <td>7.657610</td>\n",
       "      <td>7.668348</td>\n",
       "      <td>7.689712</td>\n",
       "      <td>7.734465</td>\n",
       "      <td>7.739207</td>\n",
       "      <td>7.668998</td>\n",
       "      <td>7.674158</td>\n",
       "      <td>7.709611</td>\n",
       "    </tr>\n",
       "    <tr>\n",
       "      <th>91E0C8BAA1CB259EE0530BC8100AFFB2</th>\n",
       "      <td>NaN</td>\n",
       "      <td>NaN</td>\n",
       "      <td>NaN</td>\n",
       "      <td>NaN</td>\n",
       "      <td>NaN</td>\n",
       "      <td>NaN</td>\n",
       "      <td>NaN</td>\n",
       "      <td>NaN</td>\n",
       "      <td>NaN</td>\n",
       "      <td>NaN</td>\n",
       "      <td>...</td>\n",
       "      <td>9.331309</td>\n",
       "      <td>9.313716</td>\n",
       "      <td>9.319017</td>\n",
       "      <td>9.311191</td>\n",
       "      <td>9.313451</td>\n",
       "      <td>9.334248</td>\n",
       "      <td>9.348786</td>\n",
       "      <td>9.335753</td>\n",
       "      <td>9.341421</td>\n",
       "      <td>8.641056</td>\n",
       "    </tr>\n",
       "    <tr>\n",
       "      <th>91E1E413742C0582E0530BC8100A3E6E</th>\n",
       "      <td>NaN</td>\n",
       "      <td>NaN</td>\n",
       "      <td>NaN</td>\n",
       "      <td>NaN</td>\n",
       "      <td>NaN</td>\n",
       "      <td>NaN</td>\n",
       "      <td>NaN</td>\n",
       "      <td>NaN</td>\n",
       "      <td>NaN</td>\n",
       "      <td>NaN</td>\n",
       "      <td>...</td>\n",
       "      <td>7.943185</td>\n",
       "      <td>7.880695</td>\n",
       "      <td>7.957347</td>\n",
       "      <td>7.894053</td>\n",
       "      <td>7.987298</td>\n",
       "      <td>8.014622</td>\n",
       "      <td>7.677416</td>\n",
       "      <td>7.773258</td>\n",
       "      <td>7.867501</td>\n",
       "      <td>7.906494</td>\n",
       "    </tr>\n",
       "    <tr>\n",
       "      <th>9795AE222D56386FE0530BC8100A7150</th>\n",
       "      <td>NaN</td>\n",
       "      <td>NaN</td>\n",
       "      <td>NaN</td>\n",
       "      <td>NaN</td>\n",
       "      <td>NaN</td>\n",
       "      <td>NaN</td>\n",
       "      <td>NaN</td>\n",
       "      <td>NaN</td>\n",
       "      <td>NaN</td>\n",
       "      <td>NaN</td>\n",
       "      <td>...</td>\n",
       "      <td>8.963183</td>\n",
       "      <td>9.681254</td>\n",
       "      <td>9.699535</td>\n",
       "      <td>9.667426</td>\n",
       "      <td>9.718028</td>\n",
       "      <td>9.665357</td>\n",
       "      <td>9.087057</td>\n",
       "      <td>9.270314</td>\n",
       "      <td>9.632422</td>\n",
       "      <td>9.655311</td>\n",
       "    </tr>\n",
       "    <tr>\n",
       "      <th>9AC089DEFCF45804E0530BC8100A23FC</th>\n",
       "      <td>NaN</td>\n",
       "      <td>NaN</td>\n",
       "      <td>NaN</td>\n",
       "      <td>NaN</td>\n",
       "      <td>NaN</td>\n",
       "      <td>NaN</td>\n",
       "      <td>NaN</td>\n",
       "      <td>NaN</td>\n",
       "      <td>NaN</td>\n",
       "      <td>NaN</td>\n",
       "      <td>...</td>\n",
       "      <td>9.940932</td>\n",
       "      <td>10.071453</td>\n",
       "      <td>10.069746</td>\n",
       "      <td>10.132763</td>\n",
       "      <td>10.119976</td>\n",
       "      <td>10.110882</td>\n",
       "      <td>10.135303</td>\n",
       "      <td>10.098851</td>\n",
       "      <td>10.140432</td>\n",
       "      <td>10.156131</td>\n",
       "    </tr>\n",
       "  </tbody>\n",
       "</table>\n",
       "<p>62 rows × 1082 columns</p>\n",
       "</div>"
      ],
      "text/plain": [
       "data_time                         2017-04-30  2017-05-01  2017-05-02  \\\n",
       "cid                                                                    \n",
       "91E0B6DC00B41783E0530BC8100A0E30    9.165613    9.122549    8.779039   \n",
       "91E0B6DC00B51783E0530BC8100A0E30         NaN         NaN         NaN   \n",
       "91E0B6DC00B91783E0530BC8100A0E30         NaN         NaN         NaN   \n",
       "91E0B6DC00BA1783E0530BC8100A0E30         NaN         NaN         NaN   \n",
       "91E0B6DC00BB1783E0530BC8100A0E30         NaN         NaN         NaN   \n",
       "...                                      ...         ...         ...   \n",
       "91E0C8BAA1C5259EE0530BC8100AFFB2         NaN         NaN         NaN   \n",
       "91E0C8BAA1CB259EE0530BC8100AFFB2         NaN         NaN         NaN   \n",
       "91E1E413742C0582E0530BC8100A3E6E         NaN         NaN         NaN   \n",
       "9795AE222D56386FE0530BC8100A7150         NaN         NaN         NaN   \n",
       "9AC089DEFCF45804E0530BC8100A23FC         NaN         NaN         NaN   \n",
       "\n",
       "data_time                         2017-05-03  2017-05-04  2017-05-05  \\\n",
       "cid                                                                    \n",
       "91E0B6DC00B41783E0530BC8100A0E30    9.056589    9.247718    9.366252   \n",
       "91E0B6DC00B51783E0530BC8100A0E30         NaN         NaN         NaN   \n",
       "91E0B6DC00B91783E0530BC8100A0E30         NaN         NaN         NaN   \n",
       "91E0B6DC00BA1783E0530BC8100A0E30         NaN         NaN         NaN   \n",
       "91E0B6DC00BB1783E0530BC8100A0E30         NaN         NaN         NaN   \n",
       "...                                      ...         ...         ...   \n",
       "91E0C8BAA1C5259EE0530BC8100AFFB2         NaN         NaN         NaN   \n",
       "91E0C8BAA1CB259EE0530BC8100AFFB2         NaN         NaN         NaN   \n",
       "91E1E413742C0582E0530BC8100A3E6E         NaN         NaN         NaN   \n",
       "9795AE222D56386FE0530BC8100A7150         NaN         NaN         NaN   \n",
       "9AC089DEFCF45804E0530BC8100A23FC         NaN         NaN         NaN   \n",
       "\n",
       "data_time                         2017-05-06  2017-05-07  2017-05-08  \\\n",
       "cid                                                                    \n",
       "91E0B6DC00B41783E0530BC8100A0E30      8.8696    8.659918    9.054349   \n",
       "91E0B6DC00B51783E0530BC8100A0E30         NaN         NaN         NaN   \n",
       "91E0B6DC00B91783E0530BC8100A0E30         NaN         NaN         NaN   \n",
       "91E0B6DC00BA1783E0530BC8100A0E30         NaN         NaN         NaN   \n",
       "91E0B6DC00BB1783E0530BC8100A0E30         NaN         NaN         NaN   \n",
       "...                                      ...         ...         ...   \n",
       "91E0C8BAA1C5259EE0530BC8100AFFB2         NaN         NaN         NaN   \n",
       "91E0C8BAA1CB259EE0530BC8100AFFB2         NaN         NaN         NaN   \n",
       "91E1E413742C0582E0530BC8100A3E6E         NaN         NaN         NaN   \n",
       "9795AE222D56386FE0530BC8100A7150         NaN         NaN         NaN   \n",
       "9AC089DEFCF45804E0530BC8100A23FC         NaN         NaN         NaN   \n",
       "\n",
       "data_time                         2017-05-09  ...  2020-04-06  2020-04-07  \\\n",
       "cid                                           ...                           \n",
       "91E0B6DC00B41783E0530BC8100A0E30    9.399012  ...    8.923440    8.990429   \n",
       "91E0B6DC00B51783E0530BC8100A0E30         NaN  ...    8.657216    8.613868   \n",
       "91E0B6DC00B91783E0530BC8100A0E30         NaN  ...    9.785156    9.790294   \n",
       "91E0B6DC00BA1783E0530BC8100A0E30         NaN  ...   10.381383   10.383164   \n",
       "91E0B6DC00BB1783E0530BC8100A0E30         NaN  ...    8.556903    8.525740   \n",
       "...                                      ...  ...         ...         ...   \n",
       "91E0C8BAA1C5259EE0530BC8100AFFB2         NaN  ...    7.713277    7.673026   \n",
       "91E0C8BAA1CB259EE0530BC8100AFFB2         NaN  ...    9.331309    9.313716   \n",
       "91E1E413742C0582E0530BC8100A3E6E         NaN  ...    7.943185    7.880695   \n",
       "9795AE222D56386FE0530BC8100A7150         NaN  ...    8.963183    9.681254   \n",
       "9AC089DEFCF45804E0530BC8100A23FC         NaN  ...    9.940932   10.071453   \n",
       "\n",
       "data_time                         2020-04-08  2020-04-09  2020-04-10  \\\n",
       "cid                                                                    \n",
       "91E0B6DC00B41783E0530BC8100A0E30    9.164819    9.056109    9.040329   \n",
       "91E0B6DC00B51783E0530BC8100A0E30    8.621840    8.638846    8.673032   \n",
       "91E0B6DC00B91783E0530BC8100A0E30    9.785705    9.773175    9.810464   \n",
       "91E0B6DC00BA1783E0530BC8100A0E30   10.362162   10.492598   10.382878   \n",
       "91E0B6DC00BB1783E0530BC8100A0E30    8.616381    8.620225    8.715549   \n",
       "...                                      ...         ...         ...   \n",
       "91E0C8BAA1C5259EE0530BC8100AFFB2    7.657610    7.668348    7.689712   \n",
       "91E0C8BAA1CB259EE0530BC8100AFFB2    9.319017    9.311191    9.313451   \n",
       "91E1E413742C0582E0530BC8100A3E6E    7.957347    7.894053    7.987298   \n",
       "9795AE222D56386FE0530BC8100A7150    9.699535    9.667426    9.718028   \n",
       "9AC089DEFCF45804E0530BC8100A23FC   10.069746   10.132763   10.119976   \n",
       "\n",
       "data_time                         2020-04-11  2020-04-12  2020-04-13  \\\n",
       "cid                                                                    \n",
       "91E0B6DC00B41783E0530BC8100A0E30    8.966581    8.965521    9.055462   \n",
       "91E0B6DC00B51783E0530BC8100A0E30    8.713400    8.694298    8.654953   \n",
       "91E0B6DC00B91783E0530BC8100A0E30    9.792530    9.539644    9.674877   \n",
       "91E0B6DC00BA1783E0530BC8100A0E30   10.368820   10.370510   10.371354   \n",
       "91E0B6DC00BB1783E0530BC8100A0E30    8.683568    8.679436    8.559279   \n",
       "...                                      ...         ...         ...   \n",
       "91E0C8BAA1C5259EE0530BC8100AFFB2    7.734465    7.739207    7.668998   \n",
       "91E0C8BAA1CB259EE0530BC8100AFFB2    9.334248    9.348786    9.335753   \n",
       "91E1E413742C0582E0530BC8100A3E6E    8.014622    7.677416    7.773258   \n",
       "9795AE222D56386FE0530BC8100A7150    9.665357    9.087057    9.270314   \n",
       "9AC089DEFCF45804E0530BC8100A23FC   10.110882   10.135303   10.098851   \n",
       "\n",
       "data_time                         2020-04-14  2020-04-15  \n",
       "cid                                                       \n",
       "91E0B6DC00B41783E0530BC8100A0E30    9.148848    9.066051  \n",
       "91E0B6DC00B51783E0530BC8100A0E30    8.651637    8.674853  \n",
       "91E0B6DC00B91783E0530BC8100A0E30    9.807637    9.819162  \n",
       "91E0B6DC00BA1783E0530BC8100A0E30   10.369218   10.370089  \n",
       "91E0B6DC00BB1783E0530BC8100A0E30    8.670421    8.663905  \n",
       "...                                      ...         ...  \n",
       "91E0C8BAA1C5259EE0530BC8100AFFB2    7.674158    7.709611  \n",
       "91E0C8BAA1CB259EE0530BC8100AFFB2    9.341421    8.641056  \n",
       "91E1E413742C0582E0530BC8100A3E6E    7.867501    7.906494  \n",
       "9795AE222D56386FE0530BC8100A7150    9.632422    9.655311  \n",
       "9AC089DEFCF45804E0530BC8100A23FC   10.140432   10.156131  \n",
       "\n",
       "[62 rows x 1082 columns]"
      ]
     },
     "execution_count": 179,
     "metadata": {},
     "output_type": "execute_result"
    }
   ],
   "source": [
    "power"
   ]
  },
  {
   "cell_type": "code",
   "execution_count": 180,
   "metadata": {},
   "outputs": [],
   "source": [
    "def make_lags(series, n_lags, smooth=False):\n",
    "    if isinstance(n_lags, typing.Iterable):\n",
    "        return np.stack([make_lags(series, l, smooth) for l in n_lags], axis=0)\n",
    "    else:\n",
    "        if n_lags < 2:\n",
    "            smooth = False\n",
    "        if smooth:\n",
    "            left = make_lags(series, n_lags-1, smooth=False)\n",
    "            mid = make_lags(series, n_lags, smooth=False)\n",
    "            right = make_lags(series, n_lags+1, smooth=False)\n",
    "            return left * 0.25 + mid * 0.5 + right * 0.25\n",
    "        else:\n",
    "            lag = np.zeros_like(series)\n",
    "            lag[:, n_lags:] = series[:, :-n_lags]\n",
    "            lag[:, :n_lags] = np.nan\n",
    "            return lag"
   ]
  },
  {
   "cell_type": "code",
   "execution_count": 183,
   "metadata": {},
   "outputs": [],
   "source": [
    "lag365 = make_lags(power.values, 365, True)"
   ]
  },
  {
   "cell_type": "code",
   "execution_count": 188,
   "metadata": {},
   "outputs": [
    {
     "data": {
      "text/plain": [
       "<matplotlib.axes._subplots.AxesSubplot at 0x1a724209b70>"
      ]
     },
     "execution_count": 188,
     "metadata": {},
     "output_type": "execute_result"
    },
    {
     "data": {
      "image/png": "[encoded data removed]",
      "text/plain": [
       "<Figure size 432x288 with 1 Axes>"
      ]
     },
     "metadata": {
      "needs_background": "light"
     },
     "output_type": "display_data"
    }
   ],
   "source": [
    "(power / lag365).mean(1).plot()"
   ]
  },
  {
   "cell_type": "code",
   "execution_count": 197,
   "metadata": {},
   "outputs": [
    {
     "data": {
      "text/plain": [
       "array([ 366,  755,  755,  857,  790,  899,  943,  956,  959,  974,  980,\n",
       "        987,  986,  994, 1082, 1026, 1034, 1028, 1055, 1082, 1067, 1063,\n",
       "       1082, 1058, 1058, 1067, 1067, 1082, 1082, 1082, 1082, 1082, 1082,\n",
       "       1082, 1082, 1082, 1082, 1082, 1082, 1082, 1082, 1082, 1082, 1082,\n",
       "       1082, 1082, 1082, 1082, 1082,  366,  857,  847,  905,  857,  791,\n",
       "        922, 1082, 1082, 1082, 1082, 1082, 1082])"
      ]
     },
     "execution_count": 197,
     "metadata": {},
     "output_type": "execute_result"
    }
   ],
   "source": [
    "np.isnan(lag365).sum(1)"
   ]
  },
  {
   "cell_type": "code",
   "execution_count": 198,
   "metadata": {},
   "outputs": [
    {
     "data": {
      "text/plain": [
       "cid\n",
       "91E0B6DC00B41783E0530BC8100A0E30      0\n",
       "91E0B6DC00B51783E0530BC8100A0E30    389\n",
       "91E0B6DC00B91783E0530BC8100A0E30    389\n",
       "91E0B6DC00BA1783E0530BC8100A0E30    491\n",
       "91E0B6DC00BB1783E0530BC8100A0E30    424\n",
       "                                   ... \n",
       "91E0C8BAA1C5259EE0530BC8100AFFB2    722\n",
       "91E0C8BAA1CB259EE0530BC8100AFFB2    792\n",
       "91E1E413742C0582E0530BC8100A3E6E    822\n",
       "9795AE222D56386FE0530BC8100A7150    825\n",
       "9AC089DEFCF45804E0530BC8100A23FC    969\n",
       "Length: 62, dtype: int64"
      ]
     },
     "execution_count": 198,
     "metadata": {},
     "output_type": "execute_result"
    }
   ],
   "source": [
    "power.isnull().sum(1)"
   ]
  },
  {
   "cell_type": "code",
   "execution_count": 19,
   "metadata": {},
   "outputs": [],
   "source": [
    "daily_analysis = SeriesAnalysisModel(power.T.resample(\"D\").mean().T.values)"
   ]
  },
  {
   "cell_type": "code",
   "execution_count": 132,
   "metadata": {},
   "outputs": [],
   "source": [
    "corr = daily_analysis.get_autocorr(np.arange(1,400), threshold=1.5)"
   ]
  },
  {
   "cell_type": "code",
   "execution_count": 135,
   "metadata": {},
   "outputs": [
    {
     "data": {
      "text/plain": [
       "<matplotlib.image.AxesImage at 0x1a7225dd668>"
      ]
     },
     "execution_count": 135,
     "metadata": {},
     "output_type": "execute_result"
    },
    {
     "data": {
      "image/png": "[encoded data removed]",
      "text/plain": [
       "<Figure size 576x432 with 2 Axes>"
      ]
     },
     "metadata": {
      "needs_background": "light"
     },
     "output_type": "display_data"
    }
   ],
   "source": [
    "daily_analysis.plot_autocorr(corr.T)"
   ]
  },
  {
   "cell_type": "code",
   "execution_count": 174,
   "metadata": {},
   "outputs": [
    {
     "data": {
      "text/plain": [
       "<matplotlib.axes._subplots.AxesSubplot at 0x1a72412e390>"
      ]
     },
     "execution_count": 174,
     "metadata": {},
     "output_type": "execute_result"
    },
    {
     "data": {
      "image/png": "[encoded data removed]",
      "text/plain": [
       "<Figure size 432x288 with 4 Axes>"
      ]
     },
     "metadata": {
      "needs_background": "light"
     },
     "output_type": "display_data"
    }
   ],
   "source": [
    "plt.subplots(2,2 )\n",
    "plt.subplot(221)\n",
    "plt.subplot(223)"
   ]
  },
  {
   "cell_type": "code",
   "execution_count": 139,
   "metadata": {},
   "outputs": [
    {
     "data": {
      "text/plain": [
       "<matplotlib.image.AxesImage at 0x1a72373d4a8>"
      ]
     },
     "execution_count": 139,
     "metadata": {},
     "output_type": "execute_result"
    },
    {
     "data": {
      "image/png": "[encoded data removed]",
      "text/plain": [
       "<Figure size 576x432 with 2 Axes>"
      ]
     },
     "metadata": {
      "needs_background": "light"
     },
     "output_type": "display_data"
    }
   ],
   "source": [
    "daily_analysis.plot_valid()"
   ]
  },
  {
   "cell_type": "code",
   "execution_count": 175,
   "metadata": {},
   "outputs": [
    {
     "ename": "NameError",
     "evalue": "name 'data' is not defined",
     "output_type": "error",
     "traceback": [
      "\u001b[1;31m---------------------------------------------------------------------------\u001b[0m",
      "\u001b[1;31mNameError\u001b[0m                                 Traceback (most recent call last)",
      "\u001b[1;32m<ipython-input-175-c5d84736ba45>\u001b[0m in \u001b[0;36m<module>\u001b[1;34m\u001b[0m\n\u001b[1;32m----> 1\u001b[1;33m \u001b[0mdata\u001b[0m\u001b[1;33m\u001b[0m\u001b[1;33m\u001b[0m\u001b[0m\n\u001b[0m",
      "\u001b[1;31mNameError\u001b[0m: name 'data' is not defined"
     ]
    }
   ],
   "source": [
    "data"
   ]
  },
  {
   "cell_type": "code",
   "execution_count": 160,
   "metadata": {},
   "outputs": [
    {
     "data": {
      "text/plain": [
       "array([  0,   0,   0,   0,   0,   0,   0,   0, 356,   0,   0,   0,   0,\n",
       "         0, 265,   0,   0,   0, 384, 301, 377, 381, 317, 386,   0, 376,\n",
       "       377, 355, 352, 334, 270, 269,   0, 308, 282, 306,   0,   0, 353,\n",
       "         0, 288,   0,   0, 270, 289, 243, 264,   0,   0,   0,   0,   0,\n",
       "         0,   0,   0, 364,   0, 356, 286,   0, 251, 223], dtype=int64)"
      ]
     },
     "execution_count": 160,
     "metadata": {},
     "output_type": "execute_result"
    }
   ],
   "source": [
    "np.argmax(corr, 0)"
   ]
  },
  {
   "cell_type": "code",
   "execution_count": 168,
   "metadata": {},
   "outputs": [
    {
     "data": {
      "text/plain": [
       "[<matplotlib.lines.Line2D at 0x1a7229b1940>]"
      ]
     },
     "execution_count": 168,
     "metadata": {},
     "output_type": "execute_result"
    },
    {
     "data": {
      "image/png": "[encoded data removed]",
      "text/plain": [
       "<Figure size 432x288 with 1 Axes>"
      ]
     },
     "metadata": {
      "needs_background": "light"
     },
     "output_type": "display_data"
    }
   ],
   "source": [
    "plt.plot(np.nan_to_num(corr).mean(1))"
   ]
  },
  {
   "cell_type": "code",
   "execution_count": 170,
   "metadata": {},
   "outputs": [
    {
     "data": {
      "text/plain": [
       "[<matplotlib.lines.Line2D at 0x1a7238a5390>]"
      ]
     },
     "execution_count": 170,
     "metadata": {},
     "output_type": "execute_result"
    },
    {
     "data": {
      "image/png": "[encoded data removed]",
      "text/plain": [
       "<Figure size 432x288 with 1 Axes>"
      ]
     },
     "metadata": {
      "needs_background": "light"
     },
     "output_type": "display_data"
    }
   ],
   "source": [
    "plt.plot(np.nan_to_num(np.abs(corr)).mean(1))"
   ]
  },
  {
   "cell_type": "code",
   "execution_count": 156,
   "metadata": {},
   "outputs": [
    {
     "data": {
      "text/plain": [
       "array([192, 192, 380, 387, 185, 326, 184, 195, 395, 234, 190, 281, 200,\n",
       "       398, 267, 207, 190, 394, 389, 302, 375, 371, 317, 331, 386, 377,\n",
       "       376, 350, 351, 335, 267, 264, 305, 294, 281, 308, 308, 302, 353,\n",
       "       289, 289, 250, 199, 268, 284, 227, 256, 242, 241, 135, 398, 327,\n",
       "       332, 334, 176, 212, 355, 354, 282, 256, 253, 223], dtype=int64)"
      ]
     },
     "execution_count": 156,
     "metadata": {},
     "output_type": "execute_result"
    }
   ],
   "source": [
    "np.argmin(corr, 1)"
   ]
  },
  {
   "cell_type": "code",
   "execution_count": 153,
   "metadata": {},
   "outputs": [
    {
     "data": {
      "text/plain": [
       "0"
      ]
     },
     "execution_count": 153,
     "metadata": {},
     "output_type": "execute_result"
    }
   ],
   "source": [
    "np.argmax(corr[0])"
   ]
  },
  {
   "cell_type": "code",
   "execution_count": 154,
   "metadata": {},
   "outputs": [
    {
     "data": {
      "text/plain": [
       "array([ 0.89552756,  0.85606569,  0.84997172,  0.84238578,  0.83892275,\n",
       "        0.85753067,  0.89143973,  0.83752983,  0.80830071,  0.7991499 ,\n",
       "        0.79425134,  0.78914804,  0.80759623,  0.83576606,  0.79288098,\n",
       "        0.76856677,  0.75606456,  0.75399977,  0.74536763,  0.76021726,\n",
       "        0.7867101 ,  0.74705979,  0.7242275 ,  0.71065238,  0.704704  ,\n",
       "        0.69733028,  0.72383742,  0.74109328,  0.6966305 ,  0.67357984,\n",
       "        0.65222259,  0.64738919,  0.63407651,  0.65759994,  0.6745351 ,\n",
       "        0.62693007,  0.60723366,  0.59265957,  0.58644399,  0.57752013,\n",
       "        0.59437543,  0.61117468,  0.56683629,  0.54482468,  0.53404544,\n",
       "        0.52484883,  0.51579453,  0.53064569,  0.54081349,  0.50208823,\n",
       "        0.47703075,  0.46079673,  0.4498931 ,  0.44662689,  0.46144874,\n",
       "        0.47636497,  0.43983109,  0.4083859 ,  0.39199449,  0.38300762,\n",
       "        0.3785096 ,  0.39386774,  0.41023624,  0.37407784,  0.3397511 ,\n",
       "        0.31953575,  0.31126209,  0.30187325,  0.31747603,  0.32686205,\n",
       "        0.27975599,  0.25009257,  0.2331737 ,  0.22718259,  0.2140919 ,\n",
       "        0.22666332,  0.24285571,  0.20232048,  0.16802865,  0.15275443,\n",
       "        0.14383088,  0.13791281,  0.15685628,  0.17517802,  0.13414052,\n",
       "        0.10544687,  0.09118885,  0.08597475,  0.0808238 ,  0.09947242,\n",
       "        0.1163389 ,  0.07874012,  0.04892796,  0.03022435,  0.02672288,\n",
       "        0.01781839,  0.03086761,  0.04819378,  0.01368621, -0.02104052,\n",
       "       -0.03346289, -0.0435458 , -0.04838947, -0.03303597, -0.01130296,\n",
       "       -0.04652424, -0.0786655 , -0.09006708, -0.09847901, -0.10865137,\n",
       "       -0.08441309, -0.06879699, -0.10947585, -0.14679959, -0.15553685,\n",
       "       -0.16431625, -0.17641616, -0.15542931, -0.13593118, -0.1727612 ,\n",
       "       -0.2108804 , -0.22254707, -0.22766692, -0.23332647, -0.21826091,\n",
       "       -0.19492225, -0.23376668, -0.2752185 , -0.2884668 , -0.29261479,\n",
       "       -0.29937683, -0.28043316, -0.24866778, -0.29042502, -0.33320692,\n",
       "       -0.34395495, -0.35291372, -0.35804387, -0.33086578, -0.3079349 ,\n",
       "       -0.34672932, -0.39824101, -0.4057479 , -0.41329559, -0.41829454,\n",
       "       -0.39376873, -0.36577318, -0.40684634, -0.45840995, -0.4636959 ,\n",
       "       -0.46628982, -0.46934627, -0.44618648, -0.4131696 , -0.46446747,\n",
       "       -0.51836769, -0.52069368, -0.52494896, -0.53096179, -0.51127063,\n",
       "       -0.47508177, -0.51979909, -0.56277961, -0.57059137, -0.57794265,\n",
       "       -0.57093958, -0.54911184, -0.50973921, -0.54818125, -0.59761678,\n",
       "       -0.59717985, -0.60810348, -0.59928218, -0.5742684 , -0.53451014,\n",
       "       -0.5769565 , -0.61489133, -0.61355921, -0.61562194, -0.60632801,\n",
       "       -0.58105679, -0.55020824, -0.59100216, -0.62878914, -0.6238707 ,\n",
       "       -0.62972071, -0.62890157, -0.60350258, -0.56755287, -0.61530854,\n",
       "       -0.6324203 , -0.6348059 , -0.64564209, -0.63673455, -0.60220694,\n",
       "       -0.56276349, -0.606973  , -0.62035283, -0.62356167, -0.61940952,\n",
       "       -0.60474183, -0.57279595, -0.53416855, -0.56691923, -0.58326284,\n",
       "       -0.57793171, -0.57056605, -0.55664539, -0.52189078, -0.47882959,\n",
       "       -0.52001904, -0.54505303, -0.53832972, -0.53653694, -0.51875531,\n",
       "       -0.48519618, -0.44588618, -0.47702592, -0.502508  , -0.50105635,\n",
       "       -0.48869324, -0.46850697, -0.4315415 , -0.39537515, -0.42001066,\n",
       "       -0.44250687, -0.43543499, -0.4228065 , -0.41405637, -0.37896385,\n",
       "       -0.33832217, -0.36591766, -0.38836222, -0.38159639, -0.37906191,\n",
       "       -0.35976483, -0.31810955, -0.28715437, -0.30819133, -0.32612813,\n",
       "       -0.31540346, -0.3132757 , -0.29249124, -0.25128211, -0.21466398,\n",
       "       -0.24509127, -0.25852343, -0.24560459, -0.24348978, -0.22695123,\n",
       "       -0.19112495, -0.14403514, -0.17838539, -0.19434338, -0.17287558,\n",
       "       -0.17526295, -0.16207999, -0.11875875, -0.07202216, -0.11056067,\n",
       "       -0.11820156, -0.10816303, -0.10176094, -0.0857196 , -0.0405642 ,\n",
       "        0.00813839, -0.03283919, -0.04995265, -0.02485268, -0.01485022,\n",
       "       -0.00211346,  0.04514467,  0.08623102,  0.05984386,  0.04314367,\n",
       "        0.05296044,  0.05724646,  0.07713439,  0.11351584,  0.15431942,\n",
       "        0.11589788,  0.10871178,  0.11374853,  0.12606745,  0.13761884,\n",
       "        0.17053993,  0.21376112,  0.17957768,  0.16174228,  0.17304629,\n",
       "        0.18105583,  0.19444394,  0.23301262,  0.27528309,  0.24391193,\n",
       "        0.22964269,  0.23328973,  0.23603688,  0.25667643,  0.29876807,\n",
       "        0.33961512,  0.30936042,  0.29257169,  0.30230609,  0.30071883,\n",
       "        0.327417  ,  0.36758675,  0.40206852,  0.38090418,  0.36262999,\n",
       "        0.36025383,  0.36953508,  0.38418621,  0.42456845,  0.46341968,\n",
       "        0.43331926,  0.41909327,  0.41859982,  0.42885122,  0.44242502,\n",
       "        0.47927555,  0.51484919,  0.48353256,  0.4623557 ,  0.45764215,\n",
       "        0.4653361 ,  0.48065917,  0.51282187,  0.54803643,  0.52372302,\n",
       "        0.50147023,  0.50051997,  0.51528391,  0.531489  ,  0.5553554 ,\n",
       "        0.59137474,  0.56468803,  0.54143721,  0.54715031,  0.55140114,\n",
       "        0.55646976,  0.5865549 ,  0.62088939,  0.59620853,  0.56670817,\n",
       "        0.56852025,  0.57450619,  0.57751062,  0.61120357,  0.64454971,\n",
       "        0.61478476,  0.58808532,  0.59301349,  0.60412753,  0.60669099,\n",
       "        0.6384726 ,  0.67336496,  0.63939894,  0.61013746,  0.61145109,\n",
       "        0.61390863,  0.61665145,  0.65161177,  0.68631107,  0.64655696,\n",
       "        0.61535385,  0.61281998,  0.6102494 ,  0.61041205,  0.63884511,\n",
       "        0.67045512,  0.63197964,  0.5926441 ,  0.58481092,  0.57882531,\n",
       "        0.57712927,  0.60028573,  0.62968404,  0.5915317 ,  0.55321118,\n",
       "        0.55283208,  0.55017666,  0.54616058,  0.57487327,  0.60314054,\n",
       "        0.55587846,  0.52321438,  0.52201296,  0.51578152,  0.51685628,\n",
       "        0.54602878,  0.56688258,  0.51855058,  0.49012121,  0.48837434,\n",
       "        0.47993108,  0.47293438,  0.5012217 ,  0.5234813 ])"
      ]
     },
     "execution_count": 154,
     "metadata": {},
     "output_type": "execute_result"
    }
   ],
   "source": [
    "corr[0]"
   ]
  },
  {
   "cell_type": "code",
   "execution_count": 28,
   "metadata": {},
   "outputs": [
    {
     "data": {
      "text/plain": [
       "<matplotlib.image.AxesImage at 0x1d5a75956a0>"
      ]
     },
     "execution_count": 28,
     "metadata": {},
     "output_type": "execute_result"
    }
   ],
   "source": [
    "im"
   ]
  },
  {
   "cell_type": "code",
   "execution_count": 17,
   "metadata": {},
   "outputs": [
    {
     "data": {
      "text/plain": [
       "12984.0"
      ]
     },
     "execution_count": 17,
     "metadata": {},
     "output_type": "execute_result"
    }
   ],
   "source": [
    "power.shape[1] / power.shape[0]"
   ]
  },
  {
   "cell_type": "code",
   "execution_count": 12,
   "metadata": {},
   "outputs": [
    {
     "data": {
      "text/plain": [
       "418.83870967741933"
      ]
     },
     "execution_count": 12,
     "metadata": {},
     "output_type": "execute_result"
    }
   ],
   "source": [
    "power.shape[1] / power.shape[0]"
   ]
  },
  {
   "cell_type": "code",
   "execution_count": 16,
   "metadata": {},
   "outputs": [
    {
     "data": {
      "text/html": [
       "<div>\n",
       "<style scoped>\n",
       "    .dataframe tbody tr th:only-of-type {\n",
       "        vertical-align: middle;\n",
       "    }\n",
       "\n",
       "    .dataframe tbody tr th {\n",
       "        vertical-align: top;\n",
       "    }\n",
       "\n",
       "    .dataframe thead th {\n",
       "        text-align: right;\n",
       "    }\n",
       "</style>\n",
       "<table border=\"1\" class=\"dataframe\">\n",
       "  <thead>\n",
       "    <tr style=\"text-align: right;\">\n",
       "      <th>data_time</th>\n",
       "      <th>2017-04-30 00:00:00</th>\n",
       "      <th>2017-04-30 01:00:00</th>\n",
       "      <th>2017-04-30 02:00:00</th>\n",
       "      <th>2017-04-30 03:00:00</th>\n",
       "      <th>2017-04-30 04:00:00</th>\n",
       "      <th>2017-04-30 05:00:00</th>\n",
       "      <th>2017-04-30 06:00:00</th>\n",
       "      <th>2017-04-30 07:00:00</th>\n",
       "      <th>2017-04-30 08:00:00</th>\n",
       "      <th>2017-04-30 09:00:00</th>\n",
       "      <th>...</th>\n",
       "      <th>2020-04-15 14:00:00</th>\n",
       "      <th>2020-04-15 15:00:00</th>\n",
       "      <th>2020-04-15 16:00:00</th>\n",
       "      <th>2020-04-15 17:00:00</th>\n",
       "      <th>2020-04-15 18:00:00</th>\n",
       "      <th>2020-04-15 19:00:00</th>\n",
       "      <th>2020-04-15 20:00:00</th>\n",
       "      <th>2020-04-15 21:00:00</th>\n",
       "      <th>2020-04-15 22:00:00</th>\n",
       "      <th>2020-04-15 23:00:00</th>\n",
       "    </tr>\n",
       "    <tr>\n",
       "      <th>cid</th>\n",
       "      <th></th>\n",
       "      <th></th>\n",
       "      <th></th>\n",
       "      <th></th>\n",
       "      <th></th>\n",
       "      <th></th>\n",
       "      <th></th>\n",
       "      <th></th>\n",
       "      <th></th>\n",
       "      <th></th>\n",
       "      <th></th>\n",
       "      <th></th>\n",
       "      <th></th>\n",
       "      <th></th>\n",
       "      <th></th>\n",
       "      <th></th>\n",
       "      <th></th>\n",
       "      <th></th>\n",
       "      <th></th>\n",
       "      <th></th>\n",
       "      <th></th>\n",
       "    </tr>\n",
       "  </thead>\n",
       "  <tbody>\n",
       "    <tr>\n",
       "      <th>91E0B6DC00B41783E0530BC8100A0E30</th>\n",
       "      <td>9.292928</td>\n",
       "      <td>9.3268</td>\n",
       "      <td>9.30424</td>\n",
       "      <td>9.267823</td>\n",
       "      <td>9.177518</td>\n",
       "      <td>9.093689</td>\n",
       "      <td>8.976601</td>\n",
       "      <td>9.014201</td>\n",
       "      <td>9.044114</td>\n",
       "      <td>9.073157</td>\n",
       "      <td>...</td>\n",
       "      <td>9.656942</td>\n",
       "      <td>9.643891</td>\n",
       "      <td>9.650329</td>\n",
       "      <td>9.694016</td>\n",
       "      <td>9.631585</td>\n",
       "      <td>9.558167</td>\n",
       "      <td>9.479534</td>\n",
       "      <td>9.326953</td>\n",
       "      <td>8.629712</td>\n",
       "      <td>8.505145</td>\n",
       "    </tr>\n",
       "    <tr>\n",
       "      <th>91E0B6DC00B51783E0530BC8100A0E30</th>\n",
       "      <td>NaN</td>\n",
       "      <td>NaN</td>\n",
       "      <td>NaN</td>\n",
       "      <td>NaN</td>\n",
       "      <td>NaN</td>\n",
       "      <td>NaN</td>\n",
       "      <td>NaN</td>\n",
       "      <td>NaN</td>\n",
       "      <td>NaN</td>\n",
       "      <td>NaN</td>\n",
       "      <td>...</td>\n",
       "      <td>9.354836</td>\n",
       "      <td>9.331511</td>\n",
       "      <td>9.381401</td>\n",
       "      <td>9.448442</td>\n",
       "      <td>9.514657</td>\n",
       "      <td>9.566265</td>\n",
       "      <td>9.534905</td>\n",
       "      <td>9.418885</td>\n",
       "      <td>8.291041</td>\n",
       "      <td>7.909200</td>\n",
       "    </tr>\n",
       "  </tbody>\n",
       "</table>\n",
       "<p>2 rows × 25968 columns</p>\n",
       "</div>"
      ],
      "text/plain": [
       "data_time                         2017-04-30 00:00:00  2017-04-30 01:00:00  \\\n",
       "cid                                                                          \n",
       "91E0B6DC00B41783E0530BC8100A0E30             9.292928               9.3268   \n",
       "91E0B6DC00B51783E0530BC8100A0E30                  NaN                  NaN   \n",
       "\n",
       "data_time                         2017-04-30 02:00:00  2017-04-30 03:00:00  \\\n",
       "cid                                                                          \n",
       "91E0B6DC00B41783E0530BC8100A0E30              9.30424             9.267823   \n",
       "91E0B6DC00B51783E0530BC8100A0E30                  NaN                  NaN   \n",
       "\n",
       "data_time                         2017-04-30 04:00:00  2017-04-30 05:00:00  \\\n",
       "cid                                                                          \n",
       "91E0B6DC00B41783E0530BC8100A0E30             9.177518             9.093689   \n",
       "91E0B6DC00B51783E0530BC8100A0E30                  NaN                  NaN   \n",
       "\n",
       "data_time                         2017-04-30 06:00:00  2017-04-30 07:00:00  \\\n",
       "cid                                                                          \n",
       "91E0B6DC00B41783E0530BC8100A0E30             8.976601             9.014201   \n",
       "91E0B6DC00B51783E0530BC8100A0E30                  NaN                  NaN   \n",
       "\n",
       "data_time                         2017-04-30 08:00:00  2017-04-30 09:00:00  \\\n",
       "cid                                                                          \n",
       "91E0B6DC00B41783E0530BC8100A0E30             9.044114             9.073157   \n",
       "91E0B6DC00B51783E0530BC8100A0E30                  NaN                  NaN   \n",
       "\n",
       "data_time                         ...  2020-04-15 14:00:00  \\\n",
       "cid                               ...                        \n",
       "91E0B6DC00B41783E0530BC8100A0E30  ...             9.656942   \n",
       "91E0B6DC00B51783E0530BC8100A0E30  ...             9.354836   \n",
       "\n",
       "data_time                         2020-04-15 15:00:00  2020-04-15 16:00:00  \\\n",
       "cid                                                                          \n",
       "91E0B6DC00B41783E0530BC8100A0E30             9.643891             9.650329   \n",
       "91E0B6DC00B51783E0530BC8100A0E30             9.331511             9.381401   \n",
       "\n",
       "data_time                         2020-04-15 17:00:00  2020-04-15 18:00:00  \\\n",
       "cid                                                                          \n",
       "91E0B6DC00B41783E0530BC8100A0E30             9.694016             9.631585   \n",
       "91E0B6DC00B51783E0530BC8100A0E30             9.448442             9.514657   \n",
       "\n",
       "data_time                         2020-04-15 19:00:00  2020-04-15 20:00:00  \\\n",
       "cid                                                                          \n",
       "91E0B6DC00B41783E0530BC8100A0E30             9.558167             9.479534   \n",
       "91E0B6DC00B51783E0530BC8100A0E30             9.566265             9.534905   \n",
       "\n",
       "data_time                         2020-04-15 21:00:00  2020-04-15 22:00:00  \\\n",
       "cid                                                                          \n",
       "91E0B6DC00B41783E0530BC8100A0E30             9.326953             8.629712   \n",
       "91E0B6DC00B51783E0530BC8100A0E30             9.418885             8.291041   \n",
       "\n",
       "data_time                         2020-04-15 23:00:00  \n",
       "cid                                                    \n",
       "91E0B6DC00B41783E0530BC8100A0E30             8.505145  \n",
       "91E0B6DC00B51783E0530BC8100A0E30             7.909200  \n",
       "\n",
       "[2 rows x 25968 columns]"
      ]
     },
     "execution_count": 16,
     "metadata": {},
     "output_type": "execute_result"
    }
   ],
   "source": [
    "power"
   ]
  },
  {
   "cell_type": "code",
   "execution_count": null,
   "metadata": {},
   "outputs": [],
   "source": []
  }
 ],
 "metadata": {
  "kernelspec": {
   "display_name": "Python [conda env:dl]",
   "language": "python",
   "name": "conda-env-dl-py"
  },
  "language_info": {
   "codemirror_mode": {
    "name": "ipython",
    "version": 3
   },
   "file_extension": ".py",
   "mimetype": "text/x-python",
   "name": "python",
   "nbconvert_exporter": "python",
   "pygments_lexer": "ipython3",
   "version": "3.6.9"
  }
 },
 "nbformat": 4,
 "nbformat_minor": 2
}
