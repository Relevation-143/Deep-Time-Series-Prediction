{
 "cells": [
  {
   "cell_type": "code",
   "execution_count": 51,
   "metadata": {},
   "outputs": [],
   "source": [
    "import numpy as np"
   ]
  },
  {
   "cell_type": "code",
   "execution_count": 109,
   "metadata": {},
   "outputs": [
    {
     "name": "stdout",
     "output_type": "stream",
     "text": [
      "batch_idx shape: (8,)\n",
      "batch_idx shape: (8, 4)\n",
      "batch_idx shape: (32,)\n",
      "temporal_idx shape(8, 4)\n",
      "temporal_idx shape(32,)\n",
      "idx shape(32, 2)\n",
      "padding shape(8, 5, 32)\n",
      "conv_input shape(8, 370, 32)\n"
     ]
    }
   ],
   "source": [
    "batch_size = 8\n",
    "dilation = 4\n",
    "channels = 32\n",
    "x_len = np.zeros(8) + 365\n",
    "conv_input = np.random.rand(batch_size, int(x_len[0]), channels)\n",
    "\n",
    "batch_idx = np.arange(batch_size); print(f\"batch_idx shape: {batch_idx.shape}\")\n",
    "batch_idx = np.tile(np.expand_dims(batch_idx, 1), (1, dilation)); print(f\"batch_idx shape: {batch_idx.shape}\")\n",
    "batch_idx = batch_idx.reshape(-1); print(f\"batch_idx shape: {batch_idx.shape}\")\n",
    "\n",
    "temporal_idx = np.expand_dims(x_len, 1) + np.expand_dims(np.arange(dilation), 0); print(f\"temporal_idx shape{temporal_idx.shape}\")\n",
    "temporal_idx = temporal_idx.reshape(-1); print(f\"temporal_idx shape{temporal_idx.shape}\")\n",
    "\n",
    "idx = np.stack([batch_idx, temporal_idx], axis=1); print(f\"idx shape{idx.shape}\")\n",
    "padding = np.zeros([batch_size, dilation + 1, conv_input.shape[2]]); print(f\"padding shape{padding.shape}\")\n",
    "\n",
    "conv_input = np.concatenate([padding, conv_input], axis=1); print(f\"conv_input shape{conv_input.shape}\")\n",
    "# slices = np.reshape(np.take(conv_input, idx.astype(int)), (batch_size, dilation, channels))\n",
    "\n",
    "# layer_ta = tf.TensorArray(dtype=tf.float32, size=dilation + self.num_decode_steps)\n",
    "# layer_ta = layer_ta.unstack(tf.transpose(slices, (1, 0, 2)))\n",
    "# state_queues.append(layer_ta)\n"
   ]
  },
  {
   "cell_type": "code",
   "execution_count": 111,
   "metadata": {},
   "outputs": [
    {
     "data": {
      "text/plain": [
       "(8, 370, 32)"
      ]
     },
     "execution_count": 111,
     "metadata": {},
     "output_type": "execute_result"
    }
   ],
   "source": [
    "conv_input.shape"
   ]
  },
  {
   "cell_type": "code",
   "execution_count": 114,
   "metadata": {},
   "outputs": [
    {
     "ename": "IndexError",
     "evalue": "index 365 is out of bounds for axis 0 with size 8",
     "output_type": "error",
     "traceback": [
      "\u001b[0;31m---------------------------------------------------------------------------\u001b[0m",
      "\u001b[0;31mIndexError\u001b[0m                                Traceback (most recent call last)",
      "\u001b[0;32m<ipython-input-114-7de12be04c4d>\u001b[0m in \u001b[0;36m<module>\u001b[0;34m\u001b[0m\n\u001b[0;32m----> 1\u001b[0;31m \u001b[0mconv_input\u001b[0m\u001b[0;34m[\u001b[0m\u001b[0midx\u001b[0m\u001b[0;34m.\u001b[0m\u001b[0mastype\u001b[0m\u001b[0;34m(\u001b[0m\u001b[0mint\u001b[0m\u001b[0;34m)\u001b[0m\u001b[0;34m]\u001b[0m\u001b[0;34m\u001b[0m\u001b[0;34m\u001b[0m\u001b[0m\n\u001b[0m",
      "\u001b[0;31mIndexError\u001b[0m: index 365 is out of bounds for axis 0 with size 8"
     ]
    }
   ],
   "source": [
    "conv_input[idx.astype(int)]"
   ]
  },
  {
   "cell_type": "code",
   "execution_count": 119,
   "metadata": {},
   "outputs": [
    {
     "data": {
      "text/plain": [
       "(4, 32)"
      ]
     },
     "execution_count": 119,
     "metadata": {},
     "output_type": "execute_result"
    }
   ],
   "source": [
    "conv_input[0, 365:369].shape"
   ]
  },
  {
   "cell_type": "code",
   "execution_count": null,
   "metadata": {},
   "outputs": [],
   "source": []
  }
 ],
 "metadata": {
  "kernelspec": {
   "display_name": "Python 3",
   "language": "python",
   "name": "python3"
  },
  "language_info": {
   "codemirror_mode": {
    "name": "ipython",
    "version": 3
   },
   "file_extension": ".py",
   "mimetype": "text/x-python",
   "name": "python",
   "nbconvert_exporter": "python",
   "pygments_lexer": "ipython3",
   "version": "3.7.6"
  }
 },
 "nbformat": 4,
 "nbformat_minor": 4
}
