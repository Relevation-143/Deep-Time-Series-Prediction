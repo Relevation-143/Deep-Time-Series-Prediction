{
 "cells": [
  {
   "cell_type": "code",
   "execution_count": 3,
   "metadata": {},
   "outputs": [],
   "source": [
    "import os\n",
    "import gc\n",
    "import warnings\n",
    "\n",
    "import pandas as pd\n",
    "from pandas.plotting import register_matplotlib_converters\n",
    "import numpy as np\n",
    "import matplotlib.pyplot as plt\n",
    "import seaborn as sns\n",
    "import lightgbm as lgb\n",
    "from sklearn.metrics import mean_squared_error\n",
    "from sklearn.preprocessing import LabelEncoder\n",
    "import seaborn as sns\n",
    "from  datetime import datetime, timedelta\n",
    "import gc\n",
    "import numpy as np, pandas as pd\n",
    "import lightgbm as lgb\n",
    "import scipy as sp\n",
    "%matplotlib inline\n",
    "\n",
    "import torch\n",
    "from torch.optim import Adam\n",
    "from deepseries.nn.loss import MSELoss, RMSELoss\n",
    "\n",
    "from deepseries.models import Wave2WaveV1\n",
    "from deepseries.train import Learner\n",
    "from deepseries.dataset import TimeSeries, Property, Seq2SeqDataLoader\n",
    "from deepseries.optim import ReduceCosineAnnealingLR"
   ]
  },
  {
   "cell_type": "code",
   "execution_count": 4,
   "metadata": {},
   "outputs": [],
   "source": [
    "DIR = \"../data\"\n",
    "N_ROWS = 40000\n",
    "BATCH_SIZE = 32\n",
    "\n",
    "\n",
    "LAGS = [365]\n",
    "MAX_LAGS = max(LAGS)\n",
    "DROP_BEFORE = 1000\n",
    "\n",
    "SEQ_LAST = True\n",
    "ENC_LEN = 366\n",
    "DEC_LEN = 28\n",
    "\n",
    "VALID_LEN = 28\n",
    "TEST_LEN = 28\n",
    "\n",
    "TRAIN_LAST_DAY = 1913\n",
    "USE_SERIES_LEN = TRAIN_LAST_DAY - DROP_BEFORE + 1 + 28\n",
    "\n",
    "CAL_DTYPES={\"event_name_1\": \"category\", \"event_name_2\": \"category\", \"event_type_1\": \"category\", \n",
    "         \"event_type_2\": \"category\", \"weekday\": \"category\", 'wm_yr_wk': 'int16', \"wday\": \"int16\",\n",
    "        \"month\": \"int16\", \"year\": \"int16\", \"snap_CA\": \"int16\", 'snap_TX': 'int16', 'snap_WI': 'int16' }\n",
    "PRICE_DTYPES = {\"store_id\": \"category\", \"item_id\": \"category\", \"wm_yr_wk\": \"int16\",\"sell_price\":\"float32\" }"
   ]
  },
  {
   "cell_type": "code",
   "execution_count": 5,
   "metadata": {},
   "outputs": [
    {
     "name": "stdout",
     "output_type": "stream",
     "text": [
      "product shape (30490, 6)\n",
      "sale_xy shape (30490, 942)\n",
      "price shape (30490, 942)\n",
      "calendar shape (11, 942)\n",
      "submisson shape (60980, 29)\n"
     ]
    }
   ],
   "source": [
    "def load_data():\n",
    "    label_encoders = {}\n",
    "    \n",
    "    prices = pd.read_csv(os.path.join(DIR, \"sell_prices.csv\"), dtype = PRICE_DTYPES)\n",
    "    for col, col_dtype in PRICE_DTYPES.items():\n",
    "        if col_dtype == \"category\":\n",
    "            if col not in label_encoders:\n",
    "                label_encoders[col] = LabelEncoder().fit(prices[col].astype(str).fillna(\"None\"))\n",
    "            prices[col] = label_encoders[col].transform(prices[col].astype(str).fillna(\"None\")).astype(\"int16\")\n",
    "    \n",
    "    cal = pd.read_csv(os.path.join(DIR, \"calendar.csv\"), dtype = CAL_DTYPES)\n",
    "    cal[\"date\"] = pd.to_datetime(cal[\"date\"])\n",
    "    for col, col_dtype in CAL_DTYPES.items():\n",
    "        if col_dtype == \"category\":\n",
    "            if col not in label_encoders:\n",
    "                label_encoders[col] = LabelEncoder().fit(cal[col].astype(str).fillna(\"None\"))\n",
    "            cal[col] = label_encoders[col].transform(cal[col].astype(str).fillna(\"None\")).astype(\"int16\")\n",
    "    \n",
    "    numcols = [f\"d_{day}\" for day in range(DROP_BEFORE, TRAIN_LAST_DAY+1)]\n",
    "    catcols = ['id', 'item_id', 'dept_id','store_id', 'cat_id', 'state_id']\n",
    "    dtype = {numcol:\"float32\" for numcol in numcols} \n",
    "    dtype.update({col: \"category\" for col in catcols if col != \"id\"})\n",
    "    dt = pd.read_csv(os.path.join(DIR, \"sales_train_validation.csv\"), \n",
    "                     usecols = catcols + numcols, dtype = dtype, nrows=N_ROWS)\n",
    "    \n",
    "    for col in catcols:\n",
    "        if col != \"id\":\n",
    "            if col not in label_encoders:\n",
    "                label_encoders[col] = LabelEncoder().fit(dt[col].astype(str).fillna(\"None\"))\n",
    "            dt[col] = label_encoders[col].transform(dt[col].astype(str).fillna(\"None\")).astype(\"int16\")\n",
    "\n",
    "    for day in range(TRAIN_LAST_DAY+1, TRAIN_LAST_DAY+28+1):\n",
    "        dt[f\"d_{day}\"] = np.nan\n",
    "    \n",
    "    product = dt[catcols].copy()\n",
    "    print(f\"product shape {product.shape}\")\n",
    "\n",
    "    dt = pd.melt(dt,\n",
    "                  id_vars = catcols,\n",
    "                  value_vars = [col for col in dt.columns if col.startswith(\"d_\")],\n",
    "                  var_name = \"d\",\n",
    "                  value_name = \"sales\")\n",
    "\n",
    "    dt = dt.merge(cal[['d', 'wm_yr_wk']], on= \"d\", copy = False)\n",
    "    dt = dt.merge(prices, on = [\"store_id\", \"item_id\", \"wm_yr_wk\"], copy = False)\n",
    "    dt['d'] = dt['d'].str.replace('d_', '').astype(\"int32\")\n",
    "    price = dt.pivot(index=\"id\", columns=\"d\", values=\"sell_price\")\n",
    "    xy = dt.pivot(index=\"id\", columns=\"d\", values=\"sales\")\n",
    "    del dt; gc.collect()\n",
    "    print(f\"sale_xy shape {xy.shape}\")\n",
    "    print(f\"price shape {price.shape}\")\n",
    "\n",
    "    cal_use_col = ['date', 'wday', 'month', 'year', 'event_name_1',\n",
    "    'event_type_1', 'event_name_2', 'event_type_2', 'snap_CA', 'snap_TX',\n",
    "    'snap_WI']\n",
    "    cal = cal[cal_use_col]\n",
    "    cal['year'] = cal['year'] - cal['year'].min()\n",
    "    cal['quarter'] = cal.date.dt.quarter\n",
    "    cal = cal.drop(\"date\", axis=1).T\n",
    "    cal = cal[xy.columns]\n",
    "    print(f\"calendar shape {cal.shape}\")\n",
    "    \n",
    "    submission = pd.read_csv(os.path.join(DIR, \"sample_submission.csv\"))\n",
    "    print(f\"submisson shape {submission.shape}\")\n",
    "    return xy, price, cal, product, submission\n",
    "\n",
    "df_series, df_price, df_calendar, df_product, df_sub = load_data()"
   ]
  },
  {
   "cell_type": "code",
   "execution_count": 7,
   "metadata": {},
   "outputs": [
    {
     "name": "stderr",
     "output_type": "stream",
     "text": [
      "/home/zhouzr/anaconda3/envs/pytorch_1.3/lib/python3.7/site-packages/ipykernel_launcher.py:2: RuntimeWarning: invalid value encountered in log1p\n",
      "  \n",
      "/home/zhouzr/anaconda3/envs/pytorch_1.3/lib/python3.7/site-packages/ipykernel_launcher.py:3: RuntimeWarning: invalid value encountered in log1p\n",
      "  This is separate from the ipykernel package so we can avoid doing imports until\n"
     ]
    }
   ],
   "source": [
    "# series\n",
    "series = np.log1p(df_series.values)\n",
    "price = np.log1p(df_price.values)"
   ]
  },
  {
   "cell_type": "code",
   "execution_count": 8,
   "metadata": {},
   "outputs": [],
   "source": [
    "# series state\n",
    "series_nan = np.isnan(series).astype(\"int8\")\n",
    "series_zero = (series == 0).astype(\"int8\")"
   ]
  },
  {
   "cell_type": "code",
   "execution_count": 9,
   "metadata": {},
   "outputs": [],
   "source": [
    "# series statistics\n",
    "\n",
    "series_valid_masked = np.ma.masked_array(series, mask=series_nan.astype(bool))\n",
    "\n",
    "series_mean = series_valid_masked[:, MAX_LAGS:].mean(axis=1).data\n",
    "series_std = series_valid_masked[:, MAX_LAGS:].std(axis=1).data\n",
    "series_skew = sp.stats.mstats.skew(series_valid_masked[:, MAX_LAGS:], axis=1).data\n",
    "series_kurt = np.clip(sp.stats.mstats.kurtosis(series_valid_masked[:, MAX_LAGS:], axis=1).data, None, 10)"
   ]
  },
  {
   "cell_type": "code",
   "execution_count": 10,
   "metadata": {},
   "outputs": [],
   "source": [
    "# series center\n",
    "\n",
    "series = np.nan_to_num((series - np.expand_dims(series_mean, 1)), 0.).astype(\"float32\")"
   ]
  },
  {
   "cell_type": "code",
   "execution_count": 11,
   "metadata": {},
   "outputs": [],
   "source": [
    "# series lag\n",
    "\n",
    "def make_lags(x, n, smooth=True):\n",
    "    lag = np.zeros_like(x)\n",
    "    lag[:, n:] = x[:, :-n]\n",
    "    if smooth:\n",
    "        lag_left = np.zeros_like(x)\n",
    "        lag_right = np.zeros_like(x)\n",
    "        lag_left[:, n-1:] = x[:, :-n+1]\n",
    "        lag_right[:, n+1:] = x[:, :-n-1]\n",
    "        lag = lag * 0.5 + lag_left * .25 + lag_right * .25\n",
    "        lag[:, :n] = 0\n",
    "    return lag\n",
    "\n",
    "lags = np.stack([make_lags(series, l) for l in LAGS], 1)[:, :, MAX_LAGS:]\n",
    "series = np.expand_dims(series[:, MAX_LAGS:], 1)"
   ]
  },
  {
   "cell_type": "code",
   "execution_count": 12,
   "metadata": {},
   "outputs": [],
   "source": [
    "# series statistic features\n",
    "\n",
    "series_mean_mean = series_mean.mean()\n",
    "series_mean_std = series_mean.std()\n",
    "series_std_mean = series_std.mean()\n",
    "series_std_std = series_std.std()\n",
    "series_skew_mean = series_skew.mean()\n",
    "series_skew_std = series_skew.std()\n",
    "series_kurt_mean = series_kurt.mean()\n",
    "series_kurt_std = series_kurt.std()\n",
    "\n",
    "xy_series_mean = (series_mean - series_mean_mean)\n",
    "xy_series_std = (series_std - series_std_mean)\n",
    "xy_series_skew = (series_skew - series_skew_mean)\n",
    "xy_series_kurt = (series_kurt - series_kurt_mean)\n",
    "\n",
    "xy_series_stats = np.stack([xy_series_mean, xy_series_std, xy_series_skew, xy_series_kurt], axis=1)\n",
    "x_series_label = np.stack([series_nan, series_zero], axis=1)[:, :, MAX_LAGS:]"
   ]
  },
  {
   "cell_type": "code",
   "execution_count": 13,
   "metadata": {},
   "outputs": [],
   "source": [
    "# series categorical features\n",
    "\n",
    "xy_series_cat = df_product.set_index(\"id\").values.astype(\"int64\")"
   ]
  },
  {
   "cell_type": "code",
   "execution_count": 14,
   "metadata": {},
   "outputs": [],
   "source": [
    "# calendar feature\n",
    "\n",
    "def periodic_feature(x, T):\n",
    "    psin = np.sin(x * np.pi * 2 / T)\n",
    "    pcos = np.cos(x * np.pi * 2 / T)\n",
    "    return np.stack([psin, pcos], axis=0)\n",
    "\n",
    "xy_calendar_embed = np.concatenate([\n",
    "    periodic_feature(df_calendar.T['wday'].values, 7),\n",
    "    periodic_feature(df_calendar.T['month'].values, 12),\n",
    "    periodic_feature(df_calendar.T['quarter'].values, 4),\n",
    "    df_calendar.T[['snap_CA', 'snap_TX', 'snap_WI']].values.T\n",
    "])\n",
    "xy_calendar_embed = np.expand_dims(xy_calendar_embed, 0)[:, :, MAX_LAGS:]\n",
    "\n",
    "xy_event_type = np.expand_dims(\n",
    "    df_calendar.T[['event_name_1', 'event_type_1', 'event_name_2', 'event_type_2']].T.values, 0)[:, :, MAX_LAGS:]"
   ]
  },
  {
   "cell_type": "code",
   "execution_count": 15,
   "metadata": {},
   "outputs": [],
   "source": [
    "class ForwardSpliter:\n",
    "    \n",
    "    def split(self, time_idx, enc_len, dec_len, valid_size):\n",
    "        if valid_size < 1:\n",
    "            valid_size = int(np.floor(len(time_idx) * valid_size))\n",
    "        valid_idx = time_idx[-(valid_size+enc_len):]\n",
    "        train_idx = time_idx[:-valid_size]\n",
    "        return train_idx, valid_idx\n",
    "    \n",
    "spliter = ForwardSpliter()\n",
    "\n",
    "train_idx, valid_idx = spliter.split(np.arange(series.shape[2]), ENC_LEN, DEC_LEN, VALID_LEN+TEST_LEN)\n",
    "valid_idx, test_idx = spliter.split(valid_idx, ENC_LEN, DEC_LEN, TEST_LEN)"
   ]
  },
  {
   "cell_type": "code",
   "execution_count": 16,
   "metadata": {},
   "outputs": [
    {
     "name": "stdout",
     "output_type": "stream",
     "text": [
      "(30490, 1, 577)\n",
      "(30490, 1, 577)\n",
      "(30490, 4)\n",
      "(30490, 2, 577)\n",
      "(30490, 5)\n",
      "(1, 4, 577)\n",
      "(1, 9, 577)\n"
     ]
    }
   ],
   "source": [
    "for i in [series, lags, xy_series_stats, x_series_label, xy_series_cat, xy_event_type, xy_calendar_embed]:\n",
    "    print(i.shape)"
   ]
  },
  {
   "cell_type": "code",
   "execution_count": 17,
   "metadata": {},
   "outputs": [],
   "source": [
    "train_series = TimeSeries(series[:, :, train_idx])\n",
    "valid_series = TimeSeries(series[:, :, valid_idx])\n",
    "test_series = TimeSeries(series[:, :, test_idx])\n",
    "\n",
    "train_lag = TimeSeries(lags[:, :, train_idx])\n",
    "valid_lag = TimeSeries(lags[:, :, valid_idx])\n",
    "test_lag = TimeSeries(lags[:, :, test_idx])\n",
    "\n",
    "train_xy_series_stats = Property(xy_series_stats)\n",
    "valid_xy_series_stats = Property(xy_series_stats)\n",
    "test_xy_series_stats = Property(xy_series_stats)\n",
    "\n",
    "train_x_series_label = TimeSeries(x_series_label[: ,: ,train_idx])\n",
    "valid_x_series_label = TimeSeries(x_series_label[:, :, valid_idx])\n",
    "test_x_series_label = TimeSeries(x_series_label[:, :, test_idx])\n",
    "\n",
    "train_xy_cat = Property(xy_series_cat)\n",
    "valid_xy_cat = Property(xy_series_cat)\n",
    "test_xy_cat = Property(xy_series_cat)\n",
    "\n",
    "N_ROWS = df_series.shape[0]\n",
    "\n",
    "train_xy_event = TimeSeries(xy_event_type[:, :, train_idx], idx_map=dict(zip(np.arange(N_ROWS), [0] * N_ROWS)))\n",
    "valid_xy_event = TimeSeries(xy_event_type[:, :, valid_idx], idx_map=dict(zip(np.arange(N_ROWS), [0] * N_ROWS)))\n",
    "test_xy_event = TimeSeries(xy_event_type[:, :, test_idx], idx_map=dict(zip(np.arange(N_ROWS), [0] * N_ROWS)))\n",
    "\n",
    "train_xy_calendar_embed = TimeSeries(xy_calendar_embed[:, :, train_idx], idx_map=dict(zip(np.arange(N_ROWS), [0] * N_ROWS)))\n",
    "valid_xy_calendar_embed = TimeSeries(xy_calendar_embed[:, :, valid_idx], idx_map=dict(zip(np.arange(N_ROWS), [0] * N_ROWS)))\n",
    "test_xy_calendar_embed = TimeSeries(xy_calendar_embed[:, :, test_idx], idx_map=dict(zip(np.arange(N_ROWS), [0] * N_ROWS)))"
   ]
  },
  {
   "cell_type": "code",
   "execution_count": 18,
   "metadata": {},
   "outputs": [],
   "source": [
    "weights = 1 - np.expand_dims(series_nan[:, MAX_LAGS:], axis=1)\n",
    "train_weights = TimeSeries(weights[:, :, train_idx])\n",
    "valid_weights = TimeSeries(weights[:, :, valid_idx])"
   ]
  },
  {
   "cell_type": "code",
   "execution_count": 19,
   "metadata": {},
   "outputs": [],
   "source": [
    "train_dl = Seq2SeqDataLoader(train_series, \n",
    "                             batch_size=BATCH_SIZE, \n",
    "                             enc_lens=ENC_LEN, \n",
    "                             dec_lens=DEC_LEN, \n",
    "                             use_cuda=True, \n",
    "                             mode='train', \n",
    "                             time_free_space=10,\n",
    "                             enc_num_feats=[train_lag, train_xy_series_stats, train_x_series_label, train_xy_calendar_embed], \n",
    "                             enc_cat_feats=[train_xy_cat, train_xy_event], \n",
    "                             dec_num_feats=[train_lag, train_xy_series_stats, train_xy_calendar_embed], \n",
    "                             dec_cat_feats=[train_xy_cat, train_xy_event],\n",
    "                             seq_last=SEQ_LAST,\n",
    "                             weights=train_weights,\n",
    "                            )\n",
    "\n",
    "valid_dl = Seq2SeqDataLoader(valid_series, \n",
    "                             batch_size=BATCH_SIZE, \n",
    "                             enc_lens=ENC_LEN, \n",
    "                             dec_lens=DEC_LEN, \n",
    "                             use_cuda=True, \n",
    "                             mode='valid', \n",
    "                             time_free_space=0,\n",
    "                             enc_num_feats=[valid_lag, valid_xy_series_stats, valid_x_series_label, valid_xy_calendar_embed], \n",
    "                             enc_cat_feats=[valid_xy_cat, valid_xy_event], \n",
    "                             dec_num_feats=[valid_lag, valid_xy_series_stats, valid_xy_calendar_embed],\n",
    "                             dec_cat_feats=[valid_xy_cat, valid_xy_event], \n",
    "                             seq_last=SEQ_LAST,\n",
    "                             weights=valid_weights\n",
    "                              )\n",
    "\n",
    "test_dl = Seq2SeqDataLoader(test_series, \n",
    "                             batch_size=BATCH_SIZE, \n",
    "                             enc_lens=ENC_LEN, \n",
    "                             dec_lens=DEC_LEN, \n",
    "                             use_cuda=True, \n",
    "                             mode='test', \n",
    "                             time_free_space=0,\n",
    "                             enc_num_feats=[test_lag, test_xy_series_stats, test_x_series_label, test_xy_calendar_embed], \n",
    "                             enc_cat_feats=[test_xy_cat, test_xy_event], \n",
    "                             dec_num_feats=[test_lag, test_xy_series_stats, test_xy_calendar_embed],\n",
    "                             dec_cat_feats=[test_xy_cat, test_xy_event], \n",
    "                            seq_last=SEQ_LAST,\n",
    "                      )"
   ]
  },
  {
   "cell_type": "code",
   "execution_count": null,
   "metadata": {},
   "outputs": [
    {
     "name": "stderr",
     "output_type": "stream",
     "text": [
      "[[04/24/2020 00:09:22]] start training >>>>>>>>>>>  see log: tensorboard --logdir ./m5_rnn/logs\n",
      "[[04/24/2020 00:19:49]] epoch 5 / 54, batch 100%, train loss 0.4823, valid loss 0.4843, cost 10.5 min\n",
      "[[04/24/2020 00:29:04]] epoch 6 / 54, batch 100%, train loss 0.4806, valid loss 0.4870, cost 9.3 min\n",
      "[[04/24/2020 00:41:38]] epoch 7 / 54, batch 100%, train loss 0.4793, valid loss 0.4833, cost 12.6 min\n",
      "[[04/24/2020 00:58:18]] epoch 8 / 54, batch 100%, train loss 0.4753, valid loss 0.4826, cost 16.7 min\n",
      "[[04/24/2020 01:13:13]] epoch 9 / 54, batch 100%, train loss 0.4766, valid loss 0.4865, cost 14.9 min\n",
      "[[04/24/2020 01:28:12]] epoch 10 / 54, batch 100%, train loss 0.4741, valid loss 0.4893, cost 15.0 min\n",
      "[[04/24/2020 01:43:10]] epoch 11 / 54, batch 100%, train loss 0.4752, valid loss 0.4865, cost 15.0 min\n",
      "[[04/24/2020 02:00:29]] epoch 12 / 54, batch 100%, train loss 0.4737, valid loss 0.4863, cost 17.3 min\n",
      "[[04/24/2020 02:12:29]] epoch 13 / 54, batch 100%, train loss 0.4720, valid loss 0.4866, cost 12.0 min\n",
      "[[04/24/2020 02:22:07]] epoch 14 / 54, batch 100%, train loss 0.4723, valid loss 0.4839, cost 9.6 min\n",
      "[[04/24/2020 02:31:24]] epoch 15 / 54, batch 100%, train loss 0.4720, valid loss 0.4864, cost 9.3 min\n",
      "[[04/24/2020 02:40:37]] epoch 16 / 54, batch 100%, train loss 0.4731, valid loss 0.4929, cost 9.2 min\n"
     ]
    }
   ],
   "source": [
    "model = Wave2WaveV1(enc_num=16,\n",
    "    enc_cat=[(3049, 16), (7, 1), (10, 1), (3, 1), (3, 1), (32, 4), (5, 1), (5, 1), (3, 1)],\n",
    "                dec_num=14,\n",
    "                dec_cat=[(3049, 16), (7, 1), (10, 1), (3, 1), (3, 1), (32, 4), (5, 1), (5, 1), (3, 1)],\n",
    "                dropout=0.0,\n",
    "                    hidden_size=512,\n",
    "                    n_layers=10,\n",
    "                    n_blocks=2,\n",
    "                   )\n",
    "opt = Adam(model.parameters(), 0.001)\n",
    "loss_fn = RMSELoss()\n",
    "lr_scheduler = ReduceCosineAnnealingLR(opt, 64, eta_min=1e-4, gamma=0.998)\n",
    "model.cuda()\n",
    "learner = Learner(model, opt, loss_fn, './m5_rnn', verbose=-1, lr_scheduler=None)\n",
    "learner.fit(50, train_dl, valid_dl, patient=64, start_save=100, early_stopping=False)"
   ]
  },
  {
   "cell_type": "code",
   "execution_count": 21,
   "metadata": {},
   "outputs": [],
   "source": [
    "def predict_submission(model, test_dl):\n",
    "    model.eval()\n",
    "    test_dl.test()\n",
    "    preds = []\n",
    "    for batch in test_dl:\n",
    "        preds.append(model.predict(**batch).cpu().detach().numpy())\n",
    "    preds = np.concatenate(preds, axis=0).squeeze()\n",
    "    preds = np.expm1(preds + np.expand_dims(series_mean, 1))\n",
    "    return preds\n",
    "\n",
    "preds = predict_submission(learner.model, test_dl)\n",
    "top1 = pd.read_csv(\"../data/submission_top1.csv\").iloc[:30490].set_index(\"id\").loc[df_series.index]\n",
    "\n",
    "def plot(idx):\n",
    "    plt.figure(figsize=(16, 5))\n",
    "    plt.plot(df_series.iloc[idx, -56:-28].values)\n",
    "    plt.plot(np.arange(28, 56), preds[idx], label='wave')\n",
    "    plt.plot(np.arange(28, 56), top1.iloc[idx, :].values, label='lgb')\n",
    "    plt.title(f\"enc {df_series.iloc[idx, -56:-28].values.mean():.2f} pred {preds[idx].mean():.2f}\\\n",
    "    top1 mean {top1.iloc[idx, 1:].values.mean():.2f}\")\n",
    "    plt.legend()"
   ]
  },
  {
   "cell_type": "code",
   "execution_count": 36,
   "metadata": {},
   "outputs": [
    {
     "data": {
      "image/png": "[encoded data removed]",
      "text/plain": [
       "<Figure size 1152x360 with 1 Axes>"
      ]
     },
     "metadata": {
      "needs_background": "light"
     },
     "output_type": "display_data"
    }
   ],
   "source": [
    "plot(2000)"
   ]
  },
  {
   "cell_type": "code",
   "execution_count": 23,
   "metadata": {},
   "outputs": [
    {
     "data": {
      "text/plain": [
       "1.320952685954605"
      ]
     },
     "execution_count": 23,
     "metadata": {},
     "output_type": "execute_result"
    }
   ],
   "source": [
    "preds.mean()"
   ]
  },
  {
   "cell_type": "code",
   "execution_count": 24,
   "metadata": {},
   "outputs": [
    {
     "data": {
      "text/plain": [
       "1.4331789663311454"
      ]
     },
     "execution_count": 24,
     "metadata": {},
     "output_type": "execute_result"
    }
   ],
   "source": [
    "top1.mean().mean()"
   ]
  },
  {
   "cell_type": "code",
   "execution_count": null,
   "metadata": {},
   "outputs": [],
   "source": []
  }
 ],
 "metadata": {
  "kernelspec": {
   "display_name": "Python [conda env:pytorch_1.3]",
   "language": "python",
   "name": "conda-env-pytorch_1.3-py"
  },
  "language_info": {
   "codemirror_mode": {
    "name": "ipython",
    "version": 3
   },
   "file_extension": ".py",
   "mimetype": "text/x-python",
   "name": "python",
   "nbconvert_exporter": "python",
   "pygments_lexer": "ipython3",
   "version": "3.7.4"
  }
 },
 "nbformat": 4,
 "nbformat_minor": 2
}
