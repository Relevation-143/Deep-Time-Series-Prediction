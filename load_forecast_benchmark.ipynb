{
 "cells": [
  {
   "cell_type": "markdown",
   "metadata": {
    "toc": true
   },
   "source": [
    "<h1>Table of Contents<span class=\"tocSkip\"></span></h1>\n",
    "<div class=\"toc\"><ul class=\"toc-item\"><li><span><a href=\"#load-data\" data-toc-modified-id=\"load-data-1\"><span class=\"toc-item-num\">1&nbsp;&nbsp;</span>load data</a></span></li><li><span><a href=\"#EDA\" data-toc-modified-id=\"EDA-2\"><span class=\"toc-item-num\">2&nbsp;&nbsp;</span>EDA</a></span></li><li><span><a href=\"#Outlier-Process\" data-toc-modified-id=\"Outlier-Process-3\"><span class=\"toc-item-num\">3&nbsp;&nbsp;</span>Outlier Process</a></span><ul class=\"toc-item\"><li><ul class=\"toc-item\"><li><span><a href=\"#load-distribution\" data-toc-modified-id=\"load-distribution-3.0.1\"><span class=\"toc-item-num\">3.0.1&nbsp;&nbsp;</span>load distribution</a></span></li><li><span><a href=\"#zero-load-time-distribution\" data-toc-modified-id=\"zero-load-time-distribution-3.0.2\"><span class=\"toc-item-num\">3.0.2&nbsp;&nbsp;</span>zero load time distribution</a></span></li></ul></li></ul></li><li><span><a href=\"#check-outlier-sample\" data-toc-modified-id=\"check-outlier-sample-4\"><span class=\"toc-item-num\">4&nbsp;&nbsp;</span>check outlier sample</a></span><ul class=\"toc-item\"><li><ul class=\"toc-item\"><li><span><a href=\"#Note\" data-toc-modified-id=\"Note-4.0.1\"><span class=\"toc-item-num\">4.0.1&nbsp;&nbsp;</span>Note</a></span></li></ul></li></ul></li><li><span><a href=\"#Missing-Process\" data-toc-modified-id=\"Missing-Process-5\"><span class=\"toc-item-num\">5&nbsp;&nbsp;</span>Missing Process</a></span></li><li><span><a href=\"#Baseline\" data-toc-modified-id=\"Baseline-6\"><span class=\"toc-item-num\">6&nbsp;&nbsp;</span>Baseline</a></span></li><li><span><a href=\"#Boosting-Model\" data-toc-modified-id=\"Boosting-Model-7\"><span class=\"toc-item-num\">7&nbsp;&nbsp;</span>Boosting Model</a></span></li><li><span><a href=\"#LSTM-/-GRU\" data-toc-modified-id=\"LSTM-/-GRU-8\"><span class=\"toc-item-num\">8&nbsp;&nbsp;</span>LSTM / GRU</a></span></li></ul></div>"
   ]
  },
  {
   "cell_type": "code",
   "execution_count": 9,
   "metadata": {},
   "outputs": [],
   "source": [
    "import pandas as pd\n",
    "import numpy as np\n",
    "from sklearn.preprocessing import StandardScaler\n",
    "from sklearn.model_selection import KFold\n",
    "from sklearn.metrics import mean_absolute_error, mean_squared_error\n",
    "import lightgbm as lgb\n",
    "import matplotlib.pyplot as plt\n",
    "import seaborn as sns\n",
    "import random\n",
    "%matplotlib inline"
   ]
  },
  {
   "cell_type": "markdown",
   "metadata": {},
   "source": [
    "## load data"
   ]
  },
  {
   "cell_type": "code",
   "execution_count": 10,
   "metadata": {},
   "outputs": [
    {
     "data": {
      "text/html": [
       "<div>\n",
       "<style scoped>\n",
       "    .dataframe tbody tr th:only-of-type {\n",
       "        vertical-align: middle;\n",
       "    }\n",
       "\n",
       "    .dataframe tbody tr th {\n",
       "        vertical-align: top;\n",
       "    }\n",
       "\n",
       "    .dataframe thead th {\n",
       "        text-align: right;\n",
       "    }\n",
       "</style>\n",
       "<table border=\"1\" class=\"dataframe\">\n",
       "  <thead>\n",
       "    <tr style=\"text-align: right;\">\n",
       "      <th></th>\n",
       "      <th>time</th>\n",
       "      <th>KWH</th>\n",
       "    </tr>\n",
       "  </thead>\n",
       "  <tbody>\n",
       "    <tr>\n",
       "      <th>0</th>\n",
       "      <td>2006-01-02 00:59:00</td>\n",
       "      <td>0.00</td>\n",
       "    </tr>\n",
       "    <tr>\n",
       "      <th>1</th>\n",
       "      <td>2006-01-02 01:59:00</td>\n",
       "      <td>0.00</td>\n",
       "    </tr>\n",
       "    <tr>\n",
       "      <th>2</th>\n",
       "      <td>2006-01-02 02:59:00</td>\n",
       "      <td>0.00</td>\n",
       "    </tr>\n",
       "    <tr>\n",
       "      <th>3</th>\n",
       "      <td>2006-01-02 03:59:00</td>\n",
       "      <td>91.75</td>\n",
       "    </tr>\n",
       "    <tr>\n",
       "      <th>4</th>\n",
       "      <td>2006-01-02 04:59:00</td>\n",
       "      <td>68.50</td>\n",
       "    </tr>\n",
       "  </tbody>\n",
       "</table>\n",
       "</div>"
      ],
      "text/plain": [
       "                 time    KWH\n",
       "0 2006-01-02 00:59:00   0.00\n",
       "1 2006-01-02 01:59:00   0.00\n",
       "2 2006-01-02 02:59:00   0.00\n",
       "3 2006-01-02 03:59:00  91.75\n",
       "4 2006-01-02 04:59:00  68.50"
      ]
     },
     "execution_count": 10,
     "metadata": {},
     "output_type": "execute_result"
    }
   ],
   "source": [
    "#df = pd.read_csv('./负荷预测/C.test_data201803.csv', parse_dates=['time']).iloc[:, 1:]\n",
    "df = pd.read_csv('./test_data201803.csv', parse_dates=['time']).iloc[:, 1:]\n",
    "df.head()"
   ]
  },
  {
   "cell_type": "code",
   "execution_count": 11,
   "metadata": {},
   "outputs": [],
   "source": [
    "ALL = pd.DataFrame({'time': pd.date_range(start=df.time.min(), end=df.time.max(), freq='h'), 'P': np.nan})\n",
    "df = pd.merge(ALL, df, how='outer').loc[:, ['time', 'KWH']]"
   ]
  },
  {
   "cell_type": "markdown",
   "metadata": {},
   "source": [
    "## EDA"
   ]
  },
  {
   "cell_type": "code",
   "execution_count": 76,
   "metadata": {},
   "outputs": [
    {
     "name": "stdout",
     "output_type": "stream",
     "text": [
      "time interval: 2006-01-02 00:59:00 ~ 2006-12-31 23:59:00\n",
      "NaN rate: 0.000000%\n"
     ]
    },
    {
     "data": {
      "text/plain": [
       "time\n",
       "1     720\n",
       "2     672\n",
       "3     744\n",
       "4     720\n",
       "5     744\n",
       "6     720\n",
       "7     744\n",
       "8     744\n",
       "9     720\n",
       "10    744\n",
       "11    720\n",
       "12    744\n",
       "Name: KWH, dtype: int64"
      ]
     },
     "execution_count": 76,
     "metadata": {},
     "output_type": "execute_result"
    }
   ],
   "source": [
    "#print(f'time interval: {df.time.min()} ~ {df.time.max()}')\n",
    "#print(f'nan rate     : {df.KWH.isnull().mean()}')\n",
    "print('time interval: %s ~ %s' % (df.time.min(), df.time.max()))\n",
    "print('NaN rate: %f%%' % (df.KWH.isnull().mean()*100.0))\n",
    "df.groupby(df.time.dt.month)['KWH'].apply(lambda x: len(x))"
   ]
  },
  {
   "cell_type": "code",
   "execution_count": 17,
   "metadata": {},
   "outputs": [
    {
     "data": {
      "text/plain": [
       "time\n",
       "1     0.000000\n",
       "2     0.035714\n",
       "3     0.129032\n",
       "4     0.000000\n",
       "5     0.064516\n",
       "6     0.000000\n",
       "7     0.000000\n",
       "8     0.000000\n",
       "9     0.000000\n",
       "10    0.000000\n",
       "11    0.033333\n",
       "12    0.000000\n",
       "Name: KWH, dtype: float64"
      ]
     },
     "execution_count": 17,
     "metadata": {},
     "output_type": "execute_result"
    }
   ],
   "source": [
    "df.groupby(df.time.dt.month)['KWH'].apply(lambda x: x.isnull().mean())"
   ]
  },
  {
   "cell_type": "markdown",
   "metadata": {},
   "source": [
    "**Note**\n",
    "12月份数据无缺失，做为测试集"
   ]
  },
  {
   "cell_type": "code",
   "execution_count": 18,
   "metadata": {},
   "outputs": [
    {
     "data": {
      "text/html": [
       "<div>\n",
       "<style scoped>\n",
       "    .dataframe tbody tr th:only-of-type {\n",
       "        vertical-align: middle;\n",
       "    }\n",
       "\n",
       "    .dataframe tbody tr th {\n",
       "        vertical-align: top;\n",
       "    }\n",
       "\n",
       "    .dataframe thead th {\n",
       "        text-align: right;\n",
       "    }\n",
       "</style>\n",
       "<table border=\"1\" class=\"dataframe\">\n",
       "  <thead>\n",
       "    <tr style=\"text-align: right;\">\n",
       "      <th></th>\n",
       "      <th>KWH</th>\n",
       "    </tr>\n",
       "  </thead>\n",
       "  <tbody>\n",
       "    <tr>\n",
       "      <th>count</th>\n",
       "      <td>8544.000000</td>\n",
       "    </tr>\n",
       "    <tr>\n",
       "      <th>mean</th>\n",
       "      <td>3366.880501</td>\n",
       "    </tr>\n",
       "    <tr>\n",
       "      <th>std</th>\n",
       "      <td>1155.144517</td>\n",
       "    </tr>\n",
       "    <tr>\n",
       "      <th>min</th>\n",
       "      <td>0.000000</td>\n",
       "    </tr>\n",
       "    <tr>\n",
       "      <th>25%</th>\n",
       "      <td>3352.500000</td>\n",
       "    </tr>\n",
       "    <tr>\n",
       "      <th>50%</th>\n",
       "      <td>3610.000000</td>\n",
       "    </tr>\n",
       "    <tr>\n",
       "      <th>75%</th>\n",
       "      <td>3802.500000</td>\n",
       "    </tr>\n",
       "    <tr>\n",
       "      <th>max</th>\n",
       "      <td>4900.000000</td>\n",
       "    </tr>\n",
       "  </tbody>\n",
       "</table>\n",
       "</div>"
      ],
      "text/plain": [
       "               KWH\n",
       "count  8544.000000\n",
       "mean   3366.880501\n",
       "std    1155.144517\n",
       "min       0.000000\n",
       "25%    3352.500000\n",
       "50%    3610.000000\n",
       "75%    3802.500000\n",
       "max    4900.000000"
      ]
     },
     "execution_count": 18,
     "metadata": {},
     "output_type": "execute_result"
    }
   ],
   "source": [
    "df.describe()"
   ]
  },
  {
   "cell_type": "code",
   "execution_count": 19,
   "metadata": {},
   "outputs": [
    {
     "data": {
      "text/plain": [
       "<matplotlib.axes._subplots.AxesSubplot at 0x1025c20d0>"
      ]
     },
     "execution_count": 19,
     "metadata": {},
     "output_type": "execute_result"
    },
    {
     "data": {
      "image/png": "[encoded data removed]",
      "text/plain": [
       "<Figure size 432x288 with 1 Axes>"
      ]
     },
     "metadata": {
      "needs_background": "light"
     },
     "output_type": "display_data"
    }
   ],
   "source": [
    "df.KWH.plot()"
   ]
  },
  {
   "cell_type": "markdown",
   "metadata": {},
   "source": [
    "## Outlier Process"
   ]
  },
  {
   "cell_type": "markdown",
   "metadata": {},
   "source": [
    "#### load distribution"
   ]
  },
  {
   "cell_type": "code",
   "execution_count": 20,
   "metadata": {},
   "outputs": [
    {
     "data": {
      "text/plain": [
       "<matplotlib.axes._subplots.AxesSubplot at 0x11354e3d0>"
      ]
     },
     "execution_count": 20,
     "metadata": {},
     "output_type": "execute_result"
    },
    {
     "data": {
      "image/png": "[encoded data removed]",
      "text/plain": [
       "<Figure size 432x288 with 1 Axes>"
      ]
     },
     "metadata": {
      "needs_background": "light"
     },
     "output_type": "display_data"
    }
   ],
   "source": [
    "sns.distplot(df.KWH.dropna())"
   ]
  },
  {
   "cell_type": "markdown",
   "metadata": {},
   "source": [
    "#### zero load time distribution"
   ]
  },
  {
   "cell_type": "code",
   "execution_count": 21,
   "metadata": {},
   "outputs": [
    {
     "data": {
      "text/plain": [
       "<matplotlib.axes._subplots.AxesSubplot at 0x112e9f550>"
      ]
     },
     "execution_count": 21,
     "metadata": {},
     "output_type": "execute_result"
    },
    {
     "data": {
      "image/png": "[encoded data removed]",
      "text/plain": [
       "<Figure size 432x288 with 1 Axes>"
      ]
     },
     "metadata": {
      "needs_background": "light"
     },
     "output_type": "display_data"
    }
   ],
   "source": [
    "df[df.KWH == 0]['time'].dt.hour.value_counts().sort_index().plot()"
   ]
  },
  {
   "cell_type": "markdown",
   "metadata": {},
   "source": [
    "## check outlier sample"
   ]
  },
  {
   "cell_type": "code",
   "execution_count": 52,
   "metadata": {},
   "outputs": [],
   "source": [
    "zero_load_day = np.unique(df[df.KWH==0]['time'].dt.date)\n",
    "def random_plot():\n",
    "    date = random.choice(zero_load_day)\n",
    "    df_sample = df[df.time.dt.date == date]['KWH']\n",
    "    print('Random chosen date: %s' % date)\n",
    "    #plt.plot(df[df.time.dt.date == date]['KWH'])\n",
    "    df_sample.plot()"
   ]
  },
  {
   "cell_type": "code",
   "execution_count": 56,
   "metadata": {},
   "outputs": [
    {
     "name": "stdout",
     "output_type": "stream",
     "text": [
      "Random chosen date: 2006-02-28\n"
     ]
    },
    {
     "data": {
      "image/png": "[encoded data removed]",
      "text/plain": [
       "<Figure size 432x288 with 1 Axes>"
      ]
     },
     "metadata": {
      "needs_background": "light"
     },
     "output_type": "display_data"
    }
   ],
   "source": [
    "random_plot()"
   ]
  },
  {
   "cell_type": "code",
   "execution_count": 57,
   "metadata": {},
   "outputs": [
    {
     "name": "stdout",
     "output_type": "stream",
     "text": [
      "Random chosen date: 2006-09-09\n"
     ]
    },
    {
     "data": {
      "image/png": "[encoded data removed]",
      "text/plain": [
       "<Figure size 432x288 with 1 Axes>"
      ]
     },
     "metadata": {
      "needs_background": "light"
     },
     "output_type": "display_data"
    }
   ],
   "source": [
    "random_plot()"
   ]
  },
  {
   "cell_type": "code",
   "execution_count": 58,
   "metadata": {},
   "outputs": [
    {
     "name": "stdout",
     "output_type": "stream",
     "text": [
      "Random chosen date: 2006-02-07\n"
     ]
    },
    {
     "data": {
      "image/png": "[encoded data removed]",
      "text/plain": [
       "<Figure size 432x288 with 1 Axes>"
      ]
     },
     "metadata": {
      "needs_background": "light"
     },
     "output_type": "display_data"
    }
   ],
   "source": [
    "random_plot()"
   ]
  },
  {
   "cell_type": "markdown",
   "metadata": {
    "collapsed": true
   },
   "source": [
    "#### Note\n",
    "不能肯定0负荷是异常"
   ]
  },
  {
   "cell_type": "markdown",
   "metadata": {},
   "source": [
    "## Missing Process"
   ]
  },
  {
   "cell_type": "code",
   "execution_count": 59,
   "metadata": {},
   "outputs": [],
   "source": [
    "df = df.interpolate()"
   ]
  },
  {
   "cell_type": "markdown",
   "metadata": {},
   "source": [
    "## Baseline\n",
    "\n",
    "+ 用上一小时数据预测下一小时\n",
    "+ 数据划分：1～11月时间用于训练和调参，12月数据用于测试；\n",
    "+ 评估指标：mae"
   ]
  },
  {
   "cell_type": "code",
   "execution_count": 60,
   "metadata": {},
   "outputs": [],
   "source": [
    "def mape(t, p):\n",
    "    return np.mean(np.abs(t-p) / t)\n",
    "\n",
    "def baseline():\n",
    "    target = df.iloc[-744:, -1].values\n",
    "    pred = df.iloc[-745:-1, -1].values\n",
    "    return mean_absolute_error(y_true=target, y_pred=pred)"
   ]
  },
  {
   "cell_type": "code",
   "execution_count": 61,
   "metadata": {},
   "outputs": [
    {
     "data": {
      "text/plain": [
       "147.10685483870967"
      ]
     },
     "execution_count": 61,
     "metadata": {},
     "output_type": "execute_result"
    }
   ],
   "source": [
    "baseline()"
   ]
  },
  {
   "cell_type": "markdown",
   "metadata": {},
   "source": [
    "## Boosting Model\n",
    "\n",
    "+ 数据划分：1～11月时间用于训练和调参，12月数据用于测试；\n",
    "+ 评估指标：mae, mse"
   ]
  },
  {
   "cell_type": "code",
   "execution_count": 64,
   "metadata": {},
   "outputs": [],
   "source": [
    "def get_lgb_data(lag=48, dropzero=True):\n",
    "    lag_df = pd.DataFrame()\n",
    "    for i in range(1, lag):\n",
    "        #lag_df[f'lag_{i}'] = df['KWH'].shift(i)\n",
    "        lag_df[('lag_{%s}' % str(i))] = df['KWH'].shift(i)\n",
    "    date_df = pd.DataFrame()\n",
    "    date_df['hour'] = df.time.dt.hour\n",
    "    date_df['weekday'] = df.time.dt.weekday\n",
    "    date_df['season'] = df.time.dt.quarter\n",
    "    feat_df = pd.concat([lag_df, date_df], axis=1)\n",
    "    \n",
    "    train_x = feat_df.iloc[lag:-744]\n",
    "    train_y = df.KWH.iloc[lag:-744]\n",
    "    test_x = feat_df.iloc[-744:]\n",
    "    test_y = df.KWH.iloc[-744:]\n",
    "    \n",
    "    if dropzero:\n",
    "        train_zero = np.where(train_y!=0)[0]\n",
    "        test_zero = np.where(test_y!=0)[0]\n",
    "        train_x, train_y = train_x.iloc[train_zero], train_y.iloc[train_zero]\n",
    "        test_x, test_y = test_x.iloc[test_zero], test_y.iloc[test_zero]\n",
    "    \n",
    "    return train_x, train_y, test_x, test_y\n",
    "\n",
    "train_x, train_y, test_x, test_y = get_lgb_data()"
   ]
  },
  {
   "cell_type": "markdown",
   "metadata": {},
   "source": [
    "采用bagging ensemble做为模型融合"
   ]
  },
  {
   "cell_type": "code",
   "execution_count": 67,
   "metadata": {},
   "outputs": [
    {
     "name": "stdout",
     "output_type": "stream",
     "text": [
      "Start trainning ...\n",
      "fold {0}\n",
      "Training until validation scores don't improve for 30 rounds.\n",
      "[200]\ttraining's l1: 119.472\tvalid_1's l1: 270.015\n",
      "[400]\ttraining's l1: 69.556\tvalid_1's l1: 167.674\n",
      "[600]\ttraining's l1: 59.5702\tvalid_1's l1: 151.002\n",
      "Early stopping, best iteration is:\n",
      "[606]\ttraining's l1: 59.417\tvalid_1's l1: 150.928\n",
      "fold {1}\n",
      "Training until validation scores don't improve for 30 rounds.\n",
      "[200]\ttraining's l1: 144.328\tvalid_1's l1: 115.051\n",
      "[400]\ttraining's l1: 76.0583\tvalid_1's l1: 92.6188\n",
      "Early stopping, best iteration is:\n",
      "[431]\ttraining's l1: 72.6143\tvalid_1's l1: 91.8778\n",
      "fold {2}\n",
      "Training until validation scores don't improve for 30 rounds.\n",
      "[200]\ttraining's l1: 139.213\tvalid_1's l1: 175.965\n",
      "[400]\ttraining's l1: 78.5813\tvalid_1's l1: 90.3074\n",
      "[600]\ttraining's l1: 66.4488\tvalid_1's l1: 79.9959\n",
      "[800]\ttraining's l1: 60.7461\tvalid_1's l1: 77.86\n",
      "[1000]\ttraining's l1: 56.8106\tvalid_1's l1: 77.1921\n",
      "Did not meet early stopping. Best iteration is:\n",
      "[1000]\ttraining's l1: 56.8106\tvalid_1's l1: 77.1921\n",
      "fold {3}\n",
      "Training until validation scores don't improve for 30 rounds.\n",
      "[200]\ttraining's l1: 137.925\tvalid_1's l1: 162.489\n",
      "[400]\ttraining's l1: 76.1911\tvalid_1's l1: 100.662\n",
      "[600]\ttraining's l1: 63.2437\tvalid_1's l1: 95.542\n",
      "[800]\ttraining's l1: 58.0363\tvalid_1's l1: 93.632\n",
      "[1000]\ttraining's l1: 54.4609\tvalid_1's l1: 93.1755\n",
      "Did not meet early stopping. Best iteration is:\n",
      "[1000]\ttraining's l1: 54.4609\tvalid_1's l1: 93.1755\n",
      "fold {4}\n",
      "Training until validation scores don't improve for 30 rounds.\n",
      "[200]\ttraining's l1: 139.532\tvalid_1's l1: 152.706\n",
      "[400]\ttraining's l1: 76.61\tvalid_1's l1: 124.107\n",
      "[600]\ttraining's l1: 64.6683\tvalid_1's l1: 113.678\n",
      "[800]\ttraining's l1: 59.7894\tvalid_1's l1: 109.282\n",
      "Early stopping, best iteration is:\n",
      "[881]\ttraining's l1: 58.3606\tvalid_1's l1: 108.961\n",
      "CV mae {104.427035}\n",
      "test mae {69.150581}\n",
      "test mape {0.024955}\n"
     ]
    }
   ],
   "source": [
    "param = {\n",
    "    'objective': 'regression',\n",
    "    'metric': 'mae',\n",
    "    'learning_rate': 0.008,\n",
    "}\n",
    "\n",
    "num_trees = 1000\n",
    "seed = 2019\n",
    "k = 5\n",
    "oof = np.zeros_like(train_y)\n",
    "prediction = np.zeros_like(test_y)\n",
    "\n",
    "kfolds = KFold(n_splits=k, random_state=seed, shuffle=False)\n",
    "\n",
    "print('Start trainning ...')\n",
    "for fk, (trn_idx, val_idx) in enumerate(kfolds.split(train_x.values, train_y.values)):\n",
    "    print('fold {%d}' % fk)\n",
    "    trn_data = lgb.Dataset(train_x.iloc[trn_idx], label=train_y.iloc[trn_idx])\n",
    "    val_data = lgb.Dataset(train_x.iloc[val_idx], label=train_y.iloc[val_idx])\n",
    "    model = lgb.train(param, trn_data, num_trees, valid_sets=[trn_data, val_data], verbose_eval=200, early_stopping_rounds=30)\n",
    "    oof[val_idx] = model.predict(train_x.iloc[val_idx], num_iteration=model.best_iteration)\n",
    "    prediction += model.predict(test_x, num_iteration=model.best_iteration) / k\n",
    "\n",
    "cv_mae = mean_absolute_error(y_pred=oof, y_true=train_y)\n",
    "test_mae = mean_absolute_error(y_pred=prediction, y_true=test_y)\n",
    "test_mape = mape(test_y, prediction)\n",
    "print('CV mae {%f}' % cv_mae)\n",
    "print('test mae {%f}' % test_mae )\n",
    "print('test mape {%f}' % test_mape)\n",
    "#print(f'test mape {test_mape}')"
   ]
  },
  {
   "cell_type": "code",
   "execution_count": 69,
   "metadata": {},
   "outputs": [
    {
     "data": {
      "text/plain": [
       "31271.64596211783"
      ]
     },
     "execution_count": 69,
     "metadata": {},
     "output_type": "execute_result"
    }
   ],
   "source": [
    "mean_squared_error(test_y, prediction)\n",
    "## Previous result: 31271.64596211783"
   ]
  },
  {
   "cell_type": "code",
   "execution_count": 70,
   "metadata": {},
   "outputs": [],
   "source": [
    "train_x, train_y, test_x, test_y = get_lgb_data(dropzero=False)"
   ]
  },
  {
   "cell_type": "code",
   "execution_count": 71,
   "metadata": {},
   "outputs": [
    {
     "name": "stdout",
     "output_type": "stream",
     "text": [
      "Start trainning ...\n",
      "fold {0}\n",
      "Training until validation scores don't improve for 30 rounds.\n",
      "[200]\ttraining's l2: 72178.6\tvalid_1's l2: 319332\n",
      "[400]\ttraining's l2: 41573.7\tvalid_1's l2: 197980\n",
      "Early stopping, best iteration is:\n",
      "[447]\ttraining's l2: 38557.3\tvalid_1's l2: 191905\n",
      "fold {1}\n",
      "Training until validation scores don't improve for 30 rounds.\n",
      "[200]\ttraining's l2: 100676\tvalid_1's l2: 93679.8\n",
      "Early stopping, best iteration is:\n",
      "[356]\ttraining's l2: 57013.3\tvalid_1's l2: 83215.7\n",
      "fold {2}\n",
      "Training until validation scores don't improve for 30 rounds.\n",
      "[200]\ttraining's l2: 104172\tvalid_1's l2: 85909.9\n",
      "[400]\ttraining's l2: 56157.8\tvalid_1's l2: 59257.1\n",
      "Early stopping, best iteration is:\n",
      "[463]\ttraining's l2: 51931.8\tvalid_1's l2: 58799.1\n",
      "fold {3}\n",
      "Training until validation scores don't improve for 30 rounds.\n",
      "[200]\ttraining's l2: 93029.2\tvalid_1's l2: 136766\n",
      "Early stopping, best iteration is:\n",
      "[337]\ttraining's l2: 54423.4\tvalid_1's l2: 125606\n",
      "fold {4}\n",
      "Training until validation scores don't improve for 30 rounds.\n",
      "[200]\ttraining's l2: 96306.6\tvalid_1's l2: 171750\n",
      "[400]\ttraining's l2: 51804.1\tvalid_1's l2: 149955\n",
      "[600]\ttraining's l2: 40327.6\tvalid_1's l2: 138791\n",
      "[800]\ttraining's l2: 33581.4\tvalid_1's l2: 135669\n",
      "[1000]\ttraining's l2: 28804.9\tvalid_1's l2: 132558\n",
      "Did not meet early stopping. Best iteration is:\n",
      "[1000]\ttraining's l2: 28804.9\tvalid_1's l2: 132558\n",
      "CV mae {148.687802}\n",
      "test mae {122.282334}\n",
      "test mape {inf}\n"
     ]
    }
   ],
   "source": [
    "param = {\n",
    "    'objective': 'regression',\n",
    "    'metric': 'mse',\n",
    "    'learning_rate': 0.01,\n",
    "}\n",
    "\n",
    "num_trees = 1000\n",
    "seed = 2019\n",
    "k = 5\n",
    "oof = np.zeros_like(train_y)\n",
    "prediction = np.zeros_like(test_y)\n",
    "\n",
    "kfolds = KFold(n_splits=k, random_state=seed, shuffle=False)\n",
    "\n",
    "print('Start trainning ...')\n",
    "for fk, (trn_idx, val_idx) in enumerate(kfolds.split(train_x.values, train_y.values)):\n",
    "    #print(f'fold {fk}')\n",
    "    print('fold {%d}' % fk)\n",
    "    trn_data = lgb.Dataset(train_x.iloc[trn_idx], label=train_y.iloc[trn_idx])\n",
    "    val_data = lgb.Dataset(train_x.iloc[val_idx], label=train_y.iloc[val_idx])\n",
    "    model = lgb.train(param, trn_data, num_trees, valid_sets=[trn_data, val_data], verbose_eval=200, early_stopping_rounds=30)\n",
    "    oof[val_idx] = model.predict(train_x.iloc[val_idx], num_iteration=model.best_iteration)\n",
    "    prediction += model.predict(test_x, num_iteration=model.best_iteration) / k\n",
    "\n",
    "cv_mae = mean_absolute_error(y_pred=oof, y_true=train_y)\n",
    "test_mae = mean_absolute_error(y_pred=prediction, y_true=test_y)\n",
    "test_mape = mape(test_y, prediction)\n",
    "#print(f'CV mae {cv_mae}')\n",
    "#print(f'test mae {test_mae}')\n",
    "#print(f'test mape {test_mape}')\n",
    "print('CV mae {%f}' % cv_mae)\n",
    "print('test mae {%f}' % test_mae )\n",
    "print('test mape {%f}' % test_mape)"
   ]
  },
  {
   "cell_type": "code",
   "execution_count": 75,
   "metadata": {},
   "outputs": [
    {
     "name": "stdout",
     "output_type": "stream",
     "text": [
      "Mean-squared-error: 120816.078752\n",
      "L2-error: 347.586074\n"
     ]
    }
   ],
   "source": [
    "pred_mse = mean_squared_error(test_y, prediction)\n",
    "#Previous result: 120816.07875201685\n",
    "print('Mean-squared-error: %f' % pred_mse)\n",
    "print('L2-error: %f' % np.sqrt(pred_mse))"
   ]
  },
  {
   "cell_type": "markdown",
   "metadata": {},
   "source": [
    "\n",
    "## LSTM / GRU"
   ]
  },
  {
   "cell_type": "code",
   "execution_count": 73,
   "metadata": {},
   "outputs": [
    {
     "ename": "ImportError",
     "evalue": "No module named ignite",
     "output_type": "error",
     "traceback": [
      "\u001b[0;31m---------------------------------------------------------------------------\u001b[0m",
      "\u001b[0;31mImportError\u001b[0m                               Traceback (most recent call last)",
      "\u001b[0;32m<ipython-input-73-5ef2839aa665>\u001b[0m in \u001b[0;36m<module>\u001b[0;34m()\u001b[0m\n\u001b[1;32m      5\u001b[0m \u001b[0;32mfrom\u001b[0m \u001b[0mtorch\u001b[0m\u001b[0;34m.\u001b[0m\u001b[0mutils\u001b[0m\u001b[0;34m.\u001b[0m\u001b[0mdata\u001b[0m \u001b[0;32mimport\u001b[0m \u001b[0mDataset\u001b[0m\u001b[0;34m,\u001b[0m \u001b[0mDataLoader\u001b[0m\u001b[0;34m\u001b[0m\u001b[0m\n\u001b[1;32m      6\u001b[0m \u001b[0;34m\u001b[0m\u001b[0m\n\u001b[0;32m----> 7\u001b[0;31m \u001b[0;32mimport\u001b[0m \u001b[0mignite\u001b[0m\u001b[0;34m\u001b[0m\u001b[0m\n\u001b[0m\u001b[1;32m      8\u001b[0m \u001b[0;32mfrom\u001b[0m \u001b[0mignite\u001b[0m\u001b[0;34m.\u001b[0m\u001b[0mengine\u001b[0m \u001b[0;32mimport\u001b[0m \u001b[0mcreate_supervised_evaluator\u001b[0m\u001b[0;34m,\u001b[0m \u001b[0mcreate_supervised_trainer\u001b[0m\u001b[0;34m,\u001b[0m \u001b[0mEngine\u001b[0m\u001b[0;34m,\u001b[0m \u001b[0mEvents\u001b[0m\u001b[0;34m,\u001b[0m \u001b[0mState\u001b[0m\u001b[0;34m\u001b[0m\u001b[0m\n\u001b[1;32m      9\u001b[0m \u001b[0;32mfrom\u001b[0m \u001b[0mignite\u001b[0m\u001b[0;34m.\u001b[0m\u001b[0mhandlers\u001b[0m \u001b[0;32mimport\u001b[0m \u001b[0mEarlyStopping\u001b[0m\u001b[0;34m\u001b[0m\u001b[0m\n",
      "\u001b[0;31mImportError\u001b[0m: No module named ignite"
     ]
    }
   ],
   "source": [
    "import torch\n",
    "import torch.nn as nn\n",
    "import torch.nn.functional as F\n",
    "from torch.optim import Adam, SGD\n",
    "from torch.utils.data import Dataset, DataLoader\n",
    "\n",
    "import ignite\n",
    "from ignite.engine import create_supervised_evaluator, create_supervised_trainer, Engine, Events, State\n",
    "from ignite.handlers import EarlyStopping\n",
    "from ignite.metrics import MeanSquaredError, MeanAbsoluteError"
   ]
  },
  {
   "cell_type": "code",
   "execution_count": 261,
   "metadata": {},
   "outputs": [
    {
     "name": "stderr",
     "output_type": "stream",
     "text": [
      "/Users/zhouzhirui/anaconda3/lib/python3.6/site-packages/sklearn/preprocessing/data.py:586: DeprecationWarning: Passing 1d arrays as data is deprecated in 0.17 and will raise ValueError in 0.19. Reshape your data either using X.reshape(-1, 1) if your data has a single feature or X.reshape(1, -1) if it contains a single sample.\n",
      "  warnings.warn(DEPRECATION_MSG_1D, DeprecationWarning)\n"
     ]
    }
   ],
   "source": [
    "def get_gru_data(seq_lens=48, dropzero=True):\n",
    "    feat = pd.DataFrame()\n",
    "    for i in range(1, seq_lens+1):\n",
    "        feat[f'lag_{i}'] = df.KWH.shift(i)\n",
    "    train_x = feat.iloc[seq_lens:-744]\n",
    "    train_y = df.KWH.iloc[seq_lens:-744]\n",
    "    test_x = feat.iloc[-744:]\n",
    "    test_y = df.KWH.iloc[-744:]\n",
    "    if dropzero:\n",
    "        train_zero = np.where(train_y!=0)[0]\n",
    "        test_zero = np.where(test_y!=0)[0]\n",
    "        train_x, train_y = train_x.iloc[train_zero], train_y.iloc[train_zero]\n",
    "        test_x, test_y = test_x.iloc[test_zero], test_y.iloc[test_zero]\n",
    "    return train_x.values, train_y, test_x.values, test_y\n",
    "\n",
    "train_x, train_y, test_x, test_y = get_gru_data()\n",
    "\n",
    "\n",
    "\n",
    "x_scaler = StandardScaler().fit(train_x)\n",
    "y_scaler = StandardScaler().fit(train_y)"
   ]
  },
  {
   "cell_type": "code",
   "execution_count": 298,
   "metadata": {
    "collapsed": true
   },
   "outputs": [],
   "source": [
    "class SeqsDataset(Dataset):\n",
    "    \n",
    "    def __init__(self, x, y):\n",
    "        self.x = torch.tensor(x)\n",
    "        self.y = torch.tensor(y)\n",
    "    def __len__(self):\n",
    "        return len(self.x)\n",
    "    def __getitem__(self, item):\n",
    "        return (self.x[item], self.y[item])"
   ]
  },
  {
   "cell_type": "code",
   "execution_count": 337,
   "metadata": {
    "collapsed": true
   },
   "outputs": [],
   "source": [
    "class Net(nn.Module):\n",
    "\n",
    "    def __init__(self, input_size, hidden_size, num_layers=3, dropout_ratio=0.1):\n",
    "\n",
    "        super().__init__()\n",
    "        assert num_layers >= 1\n",
    "        self.input_size = input_size\n",
    "        self.hidden_size = hidden_size\n",
    "        self.dropout_ratio = dropout_ratio\n",
    "        \n",
    "        self.blocks = nn.ModuleList()\n",
    "        self.blocks.append(self.add_fc_block(input_size, hidden_size, 0))\n",
    "        for i in range(1, num_layers):\n",
    "            self.blocks.append(self.add_fc_block(hidden_size, hidden_size//2, i))\n",
    "            hidden_size //= 2\n",
    "        self.blocks.append(nn.Linear(hidden_size, 1))\n",
    "\n",
    "    def add_fc_block(self, input_size, hidden_size, layer_id):\n",
    "        block = Sequential(OrderedDict([\n",
    "            (f'fc_{layer_id}', nn.Linear(input_size, hidden_size)),\n",
    "            (f'bn_{layer_id}', nn.BatchNorm1d(hidden_size)),\n",
    "            (f'relu_{layer_id}', nn.ReLU()),\n",
    "            (f'dropout_{layer_id}', nn.Dropout(self.dropout_ratio))\n",
    "        ]))\n",
    "        return block\n",
    "\n",
    "    def forward(self, x):\n",
    "        for block in self.blocks:\n",
    "            x = block(x)\n",
    "        outputs = F.logsigmoid(x)\n",
    "        return outputs"
   ]
  },
  {
   "cell_type": "code",
   "execution_count": null,
   "metadata": {
    "collapsed": true
   },
   "outputs": [],
   "source": []
  }
 ],
 "metadata": {
  "kernelspec": {
   "display_name": "Python 2",
   "language": "python",
   "name": "python2"
  },
  "language_info": {
   "codemirror_mode": {
    "name": "ipython",
    "version": 2
   },
   "file_extension": ".py",
   "mimetype": "text/x-python",
   "name": "python",
   "nbconvert_exporter": "python",
   "pygments_lexer": "ipython2",
   "version": "2.7.15"
  },
  "toc": {
   "base_numbering": 1,
   "nav_menu": {},
   "number_sections": true,
   "sideBar": true,
   "skip_h1_title": true,
   "title_cell": "Table of Contents",
   "title_sidebar": "Contents",
   "toc_cell": true,
   "toc_position": {},
   "toc_section_display": true,
   "toc_window_display": true
  }
 },
 "nbformat": 4,
 "nbformat_minor": 2
}
